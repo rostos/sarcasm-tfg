{
 "cells": [
  {
   "cell_type": "code",
   "execution_count": 1,
   "metadata": {},
   "outputs": [],
   "source": [
    "import tensorflow.keras.backend as K\n",
    "import multiprocessing\n",
    "\n",
    "import tensorflow as tf\n",
    "from tensorflow import keras\n",
    "\n",
    "import numpy as np\n",
    "import matplotlib.pyplot as plt\n",
    "import csv\n",
    "import math\n",
    "import random\n",
    "import logging\n",
    "\n",
    "import tf_glove\n",
    "# https://github.com/GradySimon/tensorflow-glove/blob/master/tf_glove.py\n",
    "\n",
    "from nltk.stem.lancaster import LancasterStemmer\n",
    "from nltk.tokenize import RegexpTokenizer"
   ]
  },
  {
   "cell_type": "code",
   "execution_count": 2,
   "metadata": {},
   "outputs": [],
   "source": [
    "# Set random seed (for reproducibility)\n",
    "np.random.seed(1000)"
   ]
  },
  {
   "cell_type": "code",
   "execution_count": 3,
   "metadata": {},
   "outputs": [],
   "source": [
    "#dataset_location = './datasets/sarcasm_v2.csv'\n",
    "dataset_location = './datasets/text_and_annorations.csv'\n",
    "\n",
    "corpus = []\n",
    "labels = []"
   ]
  },
  {
   "cell_type": "code",
   "execution_count": 4,
   "metadata": {},
   "outputs": [],
   "source": [
    "#Shuffle the dataset\n",
    "\n",
    "ip=open(dataset_location,'r', encoding=\"utf8\")\n",
    "next(ip)   #ignore the first row (label row)\n",
    "li = ip.readlines()\n",
    "random.shuffle(li)\n",
    "\n",
    "#dataset_location = './datasets/shuffled_sarcasm_v2.csv'\n",
    "dataset_location = './datasets/shuffled_text_and_annotations.csv'\n",
    "\n",
    "fid = open(dataset_location, \"w\", encoding=\"utf8\")\n",
    "fid.writelines(li)\n",
    "fid.close()"
   ]
  },
  {
   "cell_type": "code",
   "execution_count": 5,
   "metadata": {},
   "outputs": [
    {
     "name": "stdout",
     "output_type": "stream",
     "text": [
      "Corpus size: 994\n"
     ]
    }
   ],
   "source": [
    "# Parse tweets and sentiments       \n",
    "with open(dataset_location, 'r', encoding=\"utf8\") as csvDataFile:\n",
    "    csvReader = csv.reader(csvDataFile)\n",
    "    \n",
    "    #skip the first line?\n",
    "    #next(csvReader)\n",
    "    \n",
    "    for row in csvReader:\n",
    "        #corpus.append(row[4])\n",
    "        corpus.append(row[1])\n",
    "\n",
    "        #Sarcasm label, (0 = not sarcasm, 1 = sarcasm)\n",
    "        #pol = 1 if row[1] == 'sarc' else 0\n",
    "        pol = 1 if row[5] == 'Yes' else 0\n",
    "        labels.append(pol)\n",
    "        \n",
    "print('Corpus size: {}'.format(len(corpus)))"
   ]
  },
  {
   "cell_type": "code",
   "execution_count": 6,
   "metadata": {},
   "outputs": [],
   "source": [
    "# Tokenize and stem\n",
    "tkr = RegexpTokenizer('[a-zA-Z0-9@]+')\n",
    "stemmer = LancasterStemmer()\n",
    "\n",
    "tokenized_corpus = []\n",
    "\n",
    "for i, tweet in enumerate(corpus):\n",
    "    tokens = [stemmer.stem(t) for t in tkr.tokenize(tweet) if not t.startswith('@')]\n",
    "    #tokens = [t for t in tkr.tokenize(tweet) if not t.startswith('@')]\n",
    "    tokenized_corpus.append(tokens)"
   ]
  },
  {
   "cell_type": "code",
   "execution_count": 7,
   "metadata": {},
   "outputs": [],
   "source": [
    "vector_size = 200\n",
    "window_size = 10"
   ]
  },
  {
   "cell_type": "code",
   "execution_count": 8,
   "metadata": {},
   "outputs": [
    {
     "name": "stdout",
     "output_type": "stream",
     "text": [
      "WARNING:tensorflow:From C:\\Users\\rbn\\Anaconda3\\lib\\site-packages\\tensorflow_core\\python\\ops\\resource_variable_ops.py:1635: calling BaseResourceVariable.__init__ (from tensorflow.python.ops.resource_variable_ops) with constraint is deprecated and will be removed in a future version.\n",
      "Instructions for updating:\n",
      "If using Keras pass *_constraint arguments to layers.\n"
     ]
    },
    {
     "name": "stderr",
     "output_type": "stream",
     "text": [
      "2020-05-16 16:43:46,546 : WARNING : From C:\\Users\\rbn\\Anaconda3\\lib\\site-packages\\tensorflow_core\\python\\ops\\resource_variable_ops.py:1635: calling BaseResourceVariable.__init__ (from tensorflow.python.ops.resource_variable_ops) with constraint is deprecated and will be removed in a future version.\n",
      "Instructions for updating:\n",
      "If using Keras pass *_constraint arguments to layers.\n"
     ]
    },
    {
     "name": "stdout",
     "output_type": "stream",
     "text": [
      "WARNING:tensorflow:From C:\\Users\\rbn\\Documents\\Python Scripts\\tf_glove.py:96: div (from tensorflow.python.ops.math_ops) is deprecated and will be removed in a future version.\n",
      "Instructions for updating:\n",
      "Deprecated in favor of operator or tf.math.divide.\n"
     ]
    },
    {
     "name": "stderr",
     "output_type": "stream",
     "text": [
      "2020-05-16 16:43:46,587 : WARNING : From C:\\Users\\rbn\\Documents\\Python Scripts\\tf_glove.py:96: div (from tensorflow.python.ops.math_ops) is deprecated and will be removed in a future version.\n",
      "Instructions for updating:\n",
      "Deprecated in favor of operator or tf.math.divide.\n"
     ]
    },
    {
     "name": "stdout",
     "output_type": "stream",
     "text": [
      "WARNING:tensorflow:From C:\\Users\\rbn\\Documents\\Python Scripts\\tf_glove.py:101: to_float (from tensorflow.python.ops.math_ops) is deprecated and will be removed in a future version.\n",
      "Instructions for updating:\n",
      "Use `tf.cast` instead.\n"
     ]
    },
    {
     "name": "stderr",
     "output_type": "stream",
     "text": [
      "2020-05-16 16:43:46,595 : WARNING : From C:\\Users\\rbn\\Documents\\Python Scripts\\tf_glove.py:101: to_float (from tensorflow.python.ops.math_ops) is deprecated and will be removed in a future version.\n",
      "Instructions for updating:\n",
      "Use `tf.cast` instead.\n"
     ]
    },
    {
     "name": "stdout",
     "output_type": "stream",
     "text": [
      "WARNING:tensorflow:From C:\\Users\\rbn\\Anaconda3\\lib\\site-packages\\tensorflow_core\\python\\training\\adagrad.py:76: calling Constant.__init__ (from tensorflow.python.ops.init_ops) with dtype is deprecated and will be removed in a future version.\n",
      "Instructions for updating:\n",
      "Call initializer instance with the dtype argument instead of passing it to the constructor\n"
     ]
    },
    {
     "name": "stderr",
     "output_type": "stream",
     "text": [
      "2020-05-16 16:43:46,683 : WARNING : From C:\\Users\\rbn\\Anaconda3\\lib\\site-packages\\tensorflow_core\\python\\training\\adagrad.py:76: calling Constant.__init__ (from tensorflow.python.ops.init_ops) with dtype is deprecated and will be removed in a future version.\n",
      "Instructions for updating:\n",
      "Call initializer instance with the dtype argument instead of passing it to the constructor\n"
     ]
    }
   ],
   "source": [
    "# Create GloVe embeddings\n",
    "logging.basicConfig(format='%(asctime)s : %(levelname)s : %(message)s', level=logging.INFO)\n",
    "\n",
    "model = tf_glove.GloVeModel(embedding_size=vector_size, context_size=window_size)\n",
    "model.fit_to_corpus(tokenized_corpus)\n",
    "model.train(num_epochs=100)"
   ]
  },
  {
   "cell_type": "code",
   "execution_count": 9,
   "metadata": {},
   "outputs": [],
   "source": [
    "X_vecs = model\n",
    "del corpus"
   ]
  },
  {
   "cell_type": "code",
   "execution_count": 10,
   "metadata": {},
   "outputs": [
    {
     "name": "stdout",
     "output_type": "stream",
     "text": [
      "Average tweet length: 23.5523138832998\n",
      "Max tweet length: 201\n"
     ]
    }
   ],
   "source": [
    "# Train subset size (0 < size < len(tokenized_corpus))\n",
    "train_size = math.floor(0.8 * len(tokenized_corpus))\n",
    "\n",
    "# Test subset size (0 < size < len(tokenized_corpus) - train_size)\n",
    "test_size = len(tokenized_corpus) - train_size\n",
    "\n",
    "# Compute average and max tweet length\n",
    "avg_length = 0.0\n",
    "max_length = 0\n",
    "\n",
    "for tweet in tokenized_corpus:\n",
    "    if len(tweet) > max_length:\n",
    "        max_length = len(tweet)\n",
    "    avg_length += float(len(tweet))\n",
    "    \n",
    "print('Average tweet length: {}'.format(avg_length / float(len(tokenized_corpus))))\n",
    "print('Max tweet length: {}'.format(max_length))"
   ]
  },
  {
   "cell_type": "code",
   "execution_count": 11,
   "metadata": {},
   "outputs": [],
   "source": [
    "# Tweet max length (number of tokens)\n",
    "max_tweet_length = max_length"
   ]
  },
  {
   "cell_type": "code",
   "execution_count": 12,
   "metadata": {},
   "outputs": [],
   "source": [
    "# Create train and test sets\n",
    "# Generate random indexes\n",
    "indexes = set(np.random.choice(len(tokenized_corpus), train_size + test_size, replace=False))\n",
    "\n",
    "X_train = np.zeros((train_size, max_tweet_length, vector_size), dtype=K.floatx())\n",
    "Y_train = np.zeros((train_size, 2), dtype=np.int32)\n",
    "X_test = np.zeros((test_size, max_tweet_length, vector_size), dtype=K.floatx())\n",
    "Y_test = np.zeros((test_size, 2), dtype=np.int32)\n",
    "\n",
    "for i, index in enumerate(indexes):\n",
    "    for t, token in enumerate(tokenized_corpus[index]):\n",
    "        if t >= max_tweet_length:\n",
    "            break\n",
    "\n",
    "    \n",
    "        if i < train_size:\n",
    "            X_train[i, t, :] = X_vecs.embedding_for(token)\n",
    "        else:\n",
    "            X_test[i - train_size, t, :] = X_vecs.embedding_for(token)\n",
    "            \n",
    "    if i < train_size:\n",
    "        Y_train[i, :] = [1.0, 0.0] if labels[index] == 0 else [0.0, 1.0]\n",
    "    else:\n",
    "        Y_test[i - train_size, :] = [1.0, 0.0] if labels[index] == 0 else [0.0, 1.0] "
   ]
  },
  {
   "cell_type": "code",
   "execution_count": 13,
   "metadata": {},
   "outputs": [
    {
     "name": "stdout",
     "output_type": "stream",
     "text": [
      "Model: \"sequential\"\n",
      "_________________________________________________________________\n",
      "Layer (type)                 Output Shape              Param #   \n",
      "=================================================================\n",
      "conv1d (Conv1D)              (None, 201, 16)           6416      \n",
      "_________________________________________________________________\n",
      "max_pooling1d (MaxPooling1D) (None, 100, 16)           0         \n",
      "_________________________________________________________________\n",
      "conv1d_1 (Conv1D)            (None, 100, 32)           1056      \n",
      "_________________________________________________________________\n",
      "max_pooling1d_1 (MaxPooling1 (None, 50, 32)            0         \n",
      "_________________________________________________________________\n",
      "conv1d_2 (Conv1D)            (None, 50, 16)            1040      \n",
      "_________________________________________________________________\n",
      "max_pooling1d_2 (MaxPooling1 (None, 25, 16)            0         \n",
      "_________________________________________________________________\n",
      "flatten (Flatten)            (None, 400)               0         \n",
      "_________________________________________________________________\n",
      "dense (Dense)                (None, 16)                6416      \n",
      "_________________________________________________________________\n",
      "dense_1 (Dense)              (None, 2)                 34        \n",
      "=================================================================\n",
      "Total params: 14,962\n",
      "Trainable params: 14,962\n",
      "Non-trainable params: 0\n",
      "_________________________________________________________________\n"
     ]
    }
   ],
   "source": [
    "# Keras convolutional model\n",
    "batch_size = 16\n",
    "nb_epochs = 15\n",
    "\n",
    "model = tf.keras.Sequential([\n",
    "    tf.keras.layers.Conv1D(16, kernel_size=2, activation='relu', padding='same', input_shape=(max_tweet_length, vector_size)),\n",
    "    tf.keras.layers.MaxPooling1D(2),\n",
    "    tf.keras.layers.Conv1D(32, kernel_size=2, activation='relu', padding='same'),\n",
    "    tf.keras.layers.MaxPooling1D(2),\n",
    "    tf.keras.layers.Conv1D(16, kernel_size=2, activation='relu', padding='same'),\n",
    "    tf.keras.layers.MaxPooling1D(2),\n",
    "    tf.keras.layers.Flatten(),\n",
    "    tf.keras.layers.Dense(16, activation='relu'),\n",
    "    tf.keras.layers.Dense(2, activation='softmax')\n",
    "])\n",
    "\n",
    "model.summary()"
   ]
  },
  {
   "cell_type": "code",
   "execution_count": 14,
   "metadata": {},
   "outputs": [],
   "source": [
    "# Compile the model\n",
    "model.compile(optimizer=tf.keras.optimizers.Adam(learning_rate=0.001),\n",
    "              loss=tf.keras.losses.CategoricalCrossentropy(from_logits=True),\n",
    "              metrics=['accuracy'])"
   ]
  },
  {
   "cell_type": "code",
   "execution_count": 15,
   "metadata": {
    "scrolled": false
   },
   "outputs": [
    {
     "name": "stdout",
     "output_type": "stream",
     "text": [
      "Train on 795 samples, validate on 199 samples\n",
      "Epoch 1/15\n",
      "795/795 [==============================] - 2s 3ms/sample - loss: 0.6258 - accuracy: 0.6579 - val_loss: 0.6188 - val_accuracy: 0.6181\n",
      "Epoch 2/15\n",
      "795/795 [==============================] - 1s 1ms/sample - loss: 0.5905 - accuracy: 0.6830 - val_loss: 0.6010 - val_accuracy: 0.7286\n",
      "Epoch 3/15\n",
      "795/795 [==============================] - 1s 2ms/sample - loss: 0.5567 - accuracy: 0.7648 - val_loss: 0.5610 - val_accuracy: 0.7789\n",
      "Epoch 4/15\n",
      "795/795 [==============================] - 1s 1ms/sample - loss: 0.4819 - accuracy: 0.8390 - val_loss: 0.5321 - val_accuracy: 0.7688\n",
      "Epoch 5/15\n",
      "795/795 [==============================] - 1s 1ms/sample - loss: 0.4077 - accuracy: 0.9270 - val_loss: 0.5186 - val_accuracy: 0.7789\n",
      "Epoch 6/15\n",
      "795/795 [==============================] - 1s 1ms/sample - loss: 0.3696 - accuracy: 0.9597 - val_loss: 0.5291 - val_accuracy: 0.7638\n",
      "Epoch 7/15\n",
      "795/795 [==============================] - 1s 1ms/sample - loss: 0.3478 - accuracy: 0.9748 - val_loss: 0.5282 - val_accuracy: 0.7839\n",
      "Epoch 8/15\n",
      "795/795 [==============================] - 1s 1ms/sample - loss: 0.3372 - accuracy: 0.9811 - val_loss: 0.5164 - val_accuracy: 0.7889\n",
      "Epoch 9/15\n",
      "795/795 [==============================] - 1s 2ms/sample - loss: 0.3262 - accuracy: 0.9899 - val_loss: 0.5127 - val_accuracy: 0.7940\n",
      "Epoch 10/15\n",
      "795/795 [==============================] - 1s 1ms/sample - loss: 0.3236 - accuracy: 0.9912 - val_loss: 0.5079 - val_accuracy: 0.7990\n",
      "Epoch 11/15\n",
      "795/795 [==============================] - 1s 2ms/sample - loss: 0.3218 - accuracy: 0.9925 - val_loss: 0.5067 - val_accuracy: 0.7990\n",
      "Epoch 12/15\n",
      "795/795 [==============================] - 1s 2ms/sample - loss: 0.3215 - accuracy: 0.9925 - val_loss: 0.5116 - val_accuracy: 0.7839\n",
      "Epoch 13/15\n",
      "795/795 [==============================] - 1s 1ms/sample - loss: 0.3191 - accuracy: 0.9950 - val_loss: 0.5088 - val_accuracy: 0.7889\n",
      "Epoch 14/15\n",
      "795/795 [==============================] - 1s 1ms/sample - loss: 0.3188 - accuracy: 0.9950 - val_loss: 0.5090 - val_accuracy: 0.7940\n",
      "Epoch 15/15\n",
      "795/795 [==============================] - 1s 1ms/sample - loss: 0.3187 - accuracy: 0.9950 - val_loss: 0.5087 - val_accuracy: 0.7940\n"
     ]
    }
   ],
   "source": [
    "# Fit the model\n",
    "history = model.fit(X_train, Y_train,\n",
    "          batch_size=batch_size,\n",
    "          shuffle=True,\n",
    "          epochs=nb_epochs,\n",
    "          validation_data=(X_test, Y_test))"
   ]
  },
  {
   "cell_type": "code",
   "execution_count": 16,
   "metadata": {},
   "outputs": [
    {
     "name": "stdout",
     "output_type": "stream",
     "text": [
      "199/199 [==============================] - 0s 511us/sample - loss: 0.5087 - accuracy: 0.7940\n",
      "Loss:  0.509\n",
      "Accuracy:  0.794\n"
     ]
    }
   ],
   "source": [
    "loss, accuracy = model.evaluate(X_test, Y_test)\n",
    "\n",
    "print(\"Loss: \", \"%.3f\" % loss)\n",
    "print(\"Accuracy: \", \"%.3f\" % accuracy)"
   ]
  },
  {
   "cell_type": "markdown",
   "metadata": {},
   "source": [
    "# Graph"
   ]
  },
  {
   "cell_type": "code",
   "execution_count": 17,
   "metadata": {},
   "outputs": [
    {
     "data": {
      "text/plain": [
       "dict_keys(['loss', 'accuracy', 'val_loss', 'val_accuracy'])"
      ]
     },
     "execution_count": 17,
     "metadata": {},
     "output_type": "execute_result"
    }
   ],
   "source": [
    "history_dict = history.history\n",
    "history_dict.keys()"
   ]
  },
  {
   "cell_type": "code",
   "execution_count": 18,
   "metadata": {},
   "outputs": [
    {
     "data": {
      "image/png": "[encoded data removed]",
      "text/plain": [
       "<Figure size 432x288 with 1 Axes>"
      ]
     },
     "metadata": {
      "needs_background": "light"
     },
     "output_type": "display_data"
    }
   ],
   "source": [
    "acc = history_dict['accuracy']\n",
    "val_acc = history_dict['val_accuracy']\n",
    "loss = history_dict['loss']\n",
    "val_loss = history_dict['val_loss']\n",
    "\n",
    "epochs = range(1, len(acc) + 1)\n",
    "\n",
    "# \"bo\" is for \"blue dot\"\n",
    "plt.plot(epochs, loss, 'bo', label='Training loss')\n",
    "# b is for \"solid blue line\"\n",
    "plt.plot(epochs, val_loss, 'b', label='Validation loss')\n",
    "plt.title('Training and validation loss')\n",
    "plt.xlabel('Epochs')\n",
    "plt.ylabel('Loss')\n",
    "plt.legend()\n",
    "\n",
    "plt.show()"
   ]
  },
  {
   "cell_type": "code",
   "execution_count": 19,
   "metadata": {},
   "outputs": [
    {
     "data": {
      "image/png": "[encoded data removed]",
      "text/plain": [
       "<Figure size 432x288 with 1 Axes>"
      ]
     },
     "metadata": {
      "needs_background": "light"
     },
     "output_type": "display_data"
    }
   ],
   "source": [
    "plt.clf()   # clear figure\n",
    "\n",
    "plt.plot(epochs, acc, 'bo', label='Training acc')\n",
    "plt.plot(epochs, val_acc, 'b', label='Validation acc')\n",
    "plt.title('Training and validation accuracy')\n",
    "plt.xlabel('Epochs')\n",
    "plt.ylabel('Accuracy')\n",
    "plt.legend(loc='lower right')\n",
    "\n",
    "plt.show()"
   ]
  }
 ],
 "metadata": {
  "kernelspec": {
   "display_name": "Python 3",
   "language": "python",
   "name": "python3"
  },
  "language_info": {
   "codemirror_mode": {
    "name": "ipython",
    "version": 3
   },
   "file_extension": ".py",
   "mimetype": "text/x-python",
   "name": "python",
   "nbconvert_exporter": "python",
   "pygments_lexer": "ipython3",
   "version": "3.7.4"
  }
 },
 "nbformat": 4,
 "nbformat_minor": 2
}
