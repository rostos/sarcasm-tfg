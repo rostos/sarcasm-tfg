{
 "cells": [
  {
   "cell_type": "code",
   "execution_count": 1,
   "metadata": {},
   "outputs": [],
   "source": [
    "import tensorflow.keras.backend as K\n",
    "import multiprocessing\n",
    "\n",
    "import tensorflow as tf\n",
    "from tensorflow import keras\n",
    "\n",
    "import numpy as np\n",
    "import matplotlib.pyplot as plt\n",
    "import csv\n",
    "import math\n",
    "import random\n",
    "import logging\n",
    "\n",
    "from gensim.models.word2vec import Word2Vec\n",
    "\n",
    "from nltk.stem.lancaster import LancasterStemmer\n",
    "from nltk.tokenize import RegexpTokenizer"
   ]
  },
  {
   "cell_type": "code",
   "execution_count": 2,
   "metadata": {},
   "outputs": [],
   "source": [
    "# Set random seed (for reproducibility)\n",
    "np.random.seed(1000)"
   ]
  },
  {
   "cell_type": "code",
   "execution_count": 3,
   "metadata": {},
   "outputs": [],
   "source": [
    "#dataset_location = './datasets/sarcasm_v2.csv'\n",
    "dataset_location = './datasets/text_and_annorations.csv'\n",
    "model_location = './word2vec/'\n",
    "\n",
    "corpus = []\n",
    "labels = []"
   ]
  },
  {
   "cell_type": "code",
   "execution_count": 4,
   "metadata": {},
   "outputs": [],
   "source": [
    "#Shuffle the dataset\n",
    "\n",
    "ip=open(dataset_location,'r', encoding=\"utf8\")\n",
    "next(ip)   #ignore the first row (label row)\n",
    "li = ip.readlines()\n",
    "random.shuffle(li)\n",
    "\n",
    "#dataset_location = './datasets/shuffled_sarcasm_v2.csv'\n",
    "dataset_location = './datasets/shuffled_text_and_annotations.csv'\n",
    "\n",
    "fid = open(dataset_location, \"w\", encoding=\"utf8\")\n",
    "fid.writelines(li)\n",
    "fid.close()"
   ]
  },
  {
   "cell_type": "code",
   "execution_count": 5,
   "metadata": {},
   "outputs": [
    {
     "name": "stdout",
     "output_type": "stream",
     "text": [
      "Corpus size: 994\n"
     ]
    }
   ],
   "source": [
    "# Parse tweets and sentiments       \n",
    "with open(dataset_location, 'r', encoding=\"utf8\") as csvDataFile:\n",
    "    csvReader = csv.reader(csvDataFile)\n",
    "    \n",
    "    #skip the first line?\n",
    "    #next(csvReader)\n",
    "    \n",
    "    for row in csvReader:\n",
    "        #corpus.append(row[3] + \" - \" + row[4])\n",
    "        corpus.append(row[1])\n",
    "\n",
    "        #Sarcasm label, (0 = not sarcasm, 1 = sarcasm)\n",
    "        #pol = 1 if row[1] == 'sarc' else 0\n",
    "        pol = 1 if row[5] == 'Yes' else 0\n",
    "        labels.append(pol)\n",
    "        \n",
    "print('Corpus size: {}'.format(len(corpus)))"
   ]
  },
  {
   "cell_type": "code",
   "execution_count": 6,
   "metadata": {},
   "outputs": [],
   "source": [
    "# Tokenize and stem\n",
    "tkr = RegexpTokenizer('[a-zA-Z0-9@]+')\n",
    "#stemmer = LancasterStemmer()\n",
    "\n",
    "tokenized_corpus = []\n",
    "\n",
    "for i, tweet in enumerate(corpus):\n",
    "    #tokens = [stemmer.stem(t) for t in tkr.tokenize(tweet) if not t.startswith('@')]\n",
    "    tokens = [t for t in tkr.tokenize(tweet) if not t.startswith('@')]\n",
    "    tokenized_corpus.append(tokens)"
   ]
  },
  {
   "cell_type": "code",
   "execution_count": 7,
   "metadata": {},
   "outputs": [],
   "source": [
    "# Gensim Word2Vec model\n",
    "vector_size = 300\n",
    "window_size = 10"
   ]
  },
  {
   "cell_type": "code",
   "execution_count": 8,
   "metadata": {},
   "outputs": [
    {
     "name": "stderr",
     "output_type": "stream",
     "text": [
      "2020-06-04 12:06:41,681 : INFO : collecting all words and their counts\n",
      "2020-06-04 12:06:41,682 : INFO : PROGRESS: at sentence #0, processed 0 words, keeping 0 word types\n",
      "2020-06-04 12:06:41,691 : INFO : collected 4545 word types from a corpus of 23411 raw words and 994 sentences\n",
      "2020-06-04 12:06:41,692 : INFO : Loading a fresh vocabulary\n",
      "2020-06-04 12:06:41,696 : INFO : effective_min_count=5 retains 636 unique words (13% of original 4545, drops 3909)\n",
      "2020-06-04 12:06:41,698 : INFO : effective_min_count=5 leaves 17755 word corpus (75% of original 23411, drops 5656)\n",
      "2020-06-04 12:06:41,703 : INFO : deleting the raw counts dictionary of 4545 items\n",
      "2020-06-04 12:06:41,704 : INFO : sample=0.001 downsamples 72 most-common words\n",
      "2020-06-04 12:06:41,705 : INFO : downsampling leaves estimated 11628 word corpus (65.5% of prior 17755)\n",
      "2020-06-04 12:06:41,708 : INFO : estimated required memory for 636 words and 300 dimensions: 1844400 bytes\n",
      "2020-06-04 12:06:41,709 : INFO : resetting layer weights\n",
      "2020-06-04 12:06:41,726 : INFO : training model with 4 workers on 636 vocabulary and 300 features, using sg=1 hs=0 sample=0.001 negative=20 window=10\n",
      "2020-06-04 12:06:41,743 : INFO : worker thread finished; awaiting finish of 3 more threads\n",
      "2020-06-04 12:06:41,833 : INFO : worker thread finished; awaiting finish of 2 more threads\n",
      "2020-06-04 12:06:41,990 : INFO : worker thread finished; awaiting finish of 1 more threads\n",
      "2020-06-04 12:06:41,997 : INFO : worker thread finished; awaiting finish of 0 more threads\n",
      "2020-06-04 12:06:41,998 : INFO : EPOCH - 1 : training on 23411 raw words (11649 effective words) took 0.3s, 45265 effective words/s\n",
      "2020-06-04 12:06:42,006 : INFO : worker thread finished; awaiting finish of 3 more threads\n",
      "2020-06-04 12:06:42,101 : INFO : worker thread finished; awaiting finish of 2 more threads\n",
      "2020-06-04 12:06:42,243 : INFO : worker thread finished; awaiting finish of 1 more threads\n",
      "2020-06-04 12:06:42,246 : INFO : worker thread finished; awaiting finish of 0 more threads\n",
      "2020-06-04 12:06:42,247 : INFO : EPOCH - 2 : training on 23411 raw words (11592 effective words) took 0.2s, 47717 effective words/s\n",
      "2020-06-04 12:06:42,254 : INFO : worker thread finished; awaiting finish of 3 more threads\n",
      "2020-06-04 12:06:42,346 : INFO : worker thread finished; awaiting finish of 2 more threads\n",
      "2020-06-04 12:06:42,497 : INFO : worker thread finished; awaiting finish of 1 more threads\n",
      "2020-06-04 12:06:42,505 : INFO : worker thread finished; awaiting finish of 0 more threads\n",
      "2020-06-04 12:06:42,506 : INFO : EPOCH - 3 : training on 23411 raw words (11642 effective words) took 0.3s, 45758 effective words/s\n",
      "2020-06-04 12:06:42,513 : INFO : worker thread finished; awaiting finish of 3 more threads\n",
      "2020-06-04 12:06:42,605 : INFO : worker thread finished; awaiting finish of 2 more threads\n",
      "2020-06-04 12:06:42,742 : INFO : worker thread finished; awaiting finish of 1 more threads\n",
      "2020-06-04 12:06:42,743 : INFO : worker thread finished; awaiting finish of 0 more threads\n",
      "2020-06-04 12:06:42,744 : INFO : EPOCH - 4 : training on 23411 raw words (11667 effective words) took 0.2s, 49895 effective words/s\n",
      "2020-06-04 12:06:42,751 : INFO : worker thread finished; awaiting finish of 3 more threads\n",
      "2020-06-04 12:06:42,842 : INFO : worker thread finished; awaiting finish of 2 more threads\n",
      "2020-06-04 12:06:42,980 : INFO : worker thread finished; awaiting finish of 1 more threads\n",
      "2020-06-04 12:06:42,986 : INFO : worker thread finished; awaiting finish of 0 more threads\n",
      "2020-06-04 12:06:42,988 : INFO : EPOCH - 5 : training on 23411 raw words (11728 effective words) took 0.2s, 48986 effective words/s\n",
      "2020-06-04 12:06:42,994 : INFO : worker thread finished; awaiting finish of 3 more threads\n",
      "2020-06-04 12:06:43,084 : INFO : worker thread finished; awaiting finish of 2 more threads\n",
      "2020-06-04 12:06:43,219 : INFO : worker thread finished; awaiting finish of 1 more threads\n",
      "2020-06-04 12:06:43,222 : INFO : worker thread finished; awaiting finish of 0 more threads\n",
      "2020-06-04 12:06:43,223 : INFO : EPOCH - 6 : training on 23411 raw words (11624 effective words) took 0.2s, 50263 effective words/s\n",
      "2020-06-04 12:06:43,230 : INFO : worker thread finished; awaiting finish of 3 more threads\n",
      "2020-06-04 12:06:43,318 : INFO : worker thread finished; awaiting finish of 2 more threads\n",
      "2020-06-04 12:06:43,453 : INFO : worker thread finished; awaiting finish of 1 more threads\n",
      "2020-06-04 12:06:43,456 : INFO : worker thread finished; awaiting finish of 0 more threads\n",
      "2020-06-04 12:06:43,457 : INFO : EPOCH - 7 : training on 23411 raw words (11648 effective words) took 0.2s, 50694 effective words/s\n",
      "2020-06-04 12:06:43,463 : INFO : worker thread finished; awaiting finish of 3 more threads\n",
      "2020-06-04 12:06:43,548 : INFO : worker thread finished; awaiting finish of 2 more threads\n",
      "2020-06-04 12:06:43,681 : INFO : worker thread finished; awaiting finish of 1 more threads\n",
      "2020-06-04 12:06:43,686 : INFO : worker thread finished; awaiting finish of 0 more threads\n",
      "2020-06-04 12:06:43,687 : INFO : EPOCH - 8 : training on 23411 raw words (11613 effective words) took 0.2s, 51239 effective words/s\n",
      "2020-06-04 12:06:43,693 : INFO : worker thread finished; awaiting finish of 3 more threads\n",
      "2020-06-04 12:06:43,778 : INFO : worker thread finished; awaiting finish of 2 more threads\n",
      "2020-06-04 12:06:43,913 : INFO : worker thread finished; awaiting finish of 1 more threads\n",
      "2020-06-04 12:06:43,916 : INFO : worker thread finished; awaiting finish of 0 more threads\n",
      "2020-06-04 12:06:43,917 : INFO : EPOCH - 9 : training on 23411 raw words (11674 effective words) took 0.2s, 51737 effective words/s\n",
      "2020-06-04 12:06:43,924 : INFO : worker thread finished; awaiting finish of 3 more threads\n",
      "2020-06-04 12:06:44,012 : INFO : worker thread finished; awaiting finish of 2 more threads\n",
      "2020-06-04 12:06:44,145 : INFO : worker thread finished; awaiting finish of 1 more threads\n",
      "2020-06-04 12:06:44,151 : INFO : worker thread finished; awaiting finish of 0 more threads\n",
      "2020-06-04 12:06:44,152 : INFO : EPOCH - 10 : training on 23411 raw words (11534 effective words) took 0.2s, 50069 effective words/s\n",
      "2020-06-04 12:06:44,158 : INFO : worker thread finished; awaiting finish of 3 more threads\n",
      "2020-06-04 12:06:44,241 : INFO : worker thread finished; awaiting finish of 2 more threads\n",
      "2020-06-04 12:06:44,374 : INFO : worker thread finished; awaiting finish of 1 more threads\n",
      "2020-06-04 12:06:44,382 : INFO : worker thread finished; awaiting finish of 0 more threads\n",
      "2020-06-04 12:06:44,383 : INFO : EPOCH - 11 : training on 23411 raw words (11629 effective words) took 0.2s, 51234 effective words/s\n",
      "2020-06-04 12:06:44,390 : INFO : worker thread finished; awaiting finish of 3 more threads\n",
      "2020-06-04 12:06:44,483 : INFO : worker thread finished; awaiting finish of 2 more threads\n",
      "2020-06-04 12:06:44,607 : INFO : worker thread finished; awaiting finish of 1 more threads\n",
      "2020-06-04 12:06:44,615 : INFO : worker thread finished; awaiting finish of 0 more threads\n",
      "2020-06-04 12:06:44,616 : INFO : EPOCH - 12 : training on 23411 raw words (11630 effective words) took 0.2s, 50789 effective words/s\n",
      "2020-06-04 12:06:44,624 : INFO : worker thread finished; awaiting finish of 3 more threads\n",
      "2020-06-04 12:06:44,710 : INFO : worker thread finished; awaiting finish of 2 more threads\n",
      "2020-06-04 12:06:44,856 : INFO : worker thread finished; awaiting finish of 1 more threads\n",
      "2020-06-04 12:06:44,858 : INFO : worker thread finished; awaiting finish of 0 more threads\n",
      "2020-06-04 12:06:44,858 : INFO : EPOCH - 13 : training on 23411 raw words (11659 effective words) took 0.2s, 49059 effective words/s\n",
      "2020-06-04 12:06:44,865 : INFO : worker thread finished; awaiting finish of 3 more threads\n",
      "2020-06-04 12:06:44,952 : INFO : worker thread finished; awaiting finish of 2 more threads\n",
      "2020-06-04 12:06:45,084 : INFO : worker thread finished; awaiting finish of 1 more threads\n",
      "2020-06-04 12:06:45,091 : INFO : worker thread finished; awaiting finish of 0 more threads\n",
      "2020-06-04 12:06:45,092 : INFO : EPOCH - 14 : training on 23411 raw words (11619 effective words) took 0.2s, 50720 effective words/s\n",
      "2020-06-04 12:06:45,098 : INFO : worker thread finished; awaiting finish of 3 more threads\n",
      "2020-06-04 12:06:45,180 : INFO : worker thread finished; awaiting finish of 2 more threads\n"
     ]
    },
    {
     "name": "stderr",
     "output_type": "stream",
     "text": [
      "2020-06-04 12:06:45,317 : INFO : worker thread finished; awaiting finish of 1 more threads\n",
      "2020-06-04 12:06:45,321 : INFO : worker thread finished; awaiting finish of 0 more threads\n",
      "2020-06-04 12:06:45,322 : INFO : EPOCH - 15 : training on 23411 raw words (11640 effective words) took 0.2s, 51333 effective words/s\n",
      "2020-06-04 12:06:45,328 : INFO : worker thread finished; awaiting finish of 3 more threads\n",
      "2020-06-04 12:06:45,411 : INFO : worker thread finished; awaiting finish of 2 more threads\n",
      "2020-06-04 12:06:45,547 : INFO : worker thread finished; awaiting finish of 1 more threads\n",
      "2020-06-04 12:06:45,554 : INFO : worker thread finished; awaiting finish of 0 more threads\n",
      "2020-06-04 12:06:45,554 : INFO : EPOCH - 16 : training on 23411 raw words (11583 effective words) took 0.2s, 50574 effective words/s\n",
      "2020-06-04 12:06:45,561 : INFO : worker thread finished; awaiting finish of 3 more threads\n",
      "2020-06-04 12:06:45,648 : INFO : worker thread finished; awaiting finish of 2 more threads\n",
      "2020-06-04 12:06:45,784 : INFO : worker thread finished; awaiting finish of 1 more threads\n",
      "2020-06-04 12:06:45,789 : INFO : worker thread finished; awaiting finish of 0 more threads\n",
      "2020-06-04 12:06:45,790 : INFO : EPOCH - 17 : training on 23411 raw words (11635 effective words) took 0.2s, 50157 effective words/s\n",
      "2020-06-04 12:06:45,797 : INFO : worker thread finished; awaiting finish of 3 more threads\n",
      "2020-06-04 12:06:45,883 : INFO : worker thread finished; awaiting finish of 2 more threads\n",
      "2020-06-04 12:06:46,025 : INFO : worker thread finished; awaiting finish of 1 more threads\n",
      "2020-06-04 12:06:46,028 : INFO : worker thread finished; awaiting finish of 0 more threads\n",
      "2020-06-04 12:06:46,029 : INFO : EPOCH - 18 : training on 23411 raw words (11612 effective words) took 0.2s, 49524 effective words/s\n",
      "2020-06-04 12:06:46,036 : INFO : worker thread finished; awaiting finish of 3 more threads\n",
      "2020-06-04 12:06:46,124 : INFO : worker thread finished; awaiting finish of 2 more threads\n",
      "2020-06-04 12:06:46,261 : INFO : worker thread finished; awaiting finish of 1 more threads\n",
      "2020-06-04 12:06:46,269 : INFO : worker thread finished; awaiting finish of 0 more threads\n",
      "2020-06-04 12:06:46,270 : INFO : EPOCH - 19 : training on 23411 raw words (11583 effective words) took 0.2s, 48900 effective words/s\n",
      "2020-06-04 12:06:46,276 : INFO : worker thread finished; awaiting finish of 3 more threads\n",
      "2020-06-04 12:06:46,362 : INFO : worker thread finished; awaiting finish of 2 more threads\n",
      "2020-06-04 12:06:46,505 : INFO : worker thread finished; awaiting finish of 1 more threads\n",
      "2020-06-04 12:06:46,508 : INFO : worker thread finished; awaiting finish of 0 more threads\n",
      "2020-06-04 12:06:46,508 : INFO : EPOCH - 20 : training on 23411 raw words (11745 effective words) took 0.2s, 50068 effective words/s\n",
      "2020-06-04 12:06:46,515 : INFO : worker thread finished; awaiting finish of 3 more threads\n",
      "2020-06-04 12:06:46,599 : INFO : worker thread finished; awaiting finish of 2 more threads\n",
      "2020-06-04 12:06:46,740 : INFO : worker thread finished; awaiting finish of 1 more threads\n",
      "2020-06-04 12:06:46,743 : INFO : worker thread finished; awaiting finish of 0 more threads\n",
      "2020-06-04 12:06:46,743 : INFO : EPOCH - 21 : training on 23411 raw words (11625 effective words) took 0.2s, 50212 effective words/s\n",
      "2020-06-04 12:06:46,750 : INFO : worker thread finished; awaiting finish of 3 more threads\n",
      "2020-06-04 12:06:46,843 : INFO : worker thread finished; awaiting finish of 2 more threads\n",
      "2020-06-04 12:06:46,980 : INFO : worker thread finished; awaiting finish of 1 more threads\n",
      "2020-06-04 12:06:46,984 : INFO : worker thread finished; awaiting finish of 0 more threads\n",
      "2020-06-04 12:06:46,985 : INFO : EPOCH - 22 : training on 23411 raw words (11565 effective words) took 0.2s, 48617 effective words/s\n",
      "2020-06-04 12:06:46,992 : INFO : worker thread finished; awaiting finish of 3 more threads\n",
      "2020-06-04 12:06:47,075 : INFO : worker thread finished; awaiting finish of 2 more threads\n",
      "2020-06-04 12:06:47,211 : INFO : worker thread finished; awaiting finish of 1 more threads\n",
      "2020-06-04 12:06:47,213 : INFO : worker thread finished; awaiting finish of 0 more threads\n",
      "2020-06-04 12:06:47,213 : INFO : EPOCH - 23 : training on 23411 raw words (11566 effective words) took 0.2s, 51619 effective words/s\n",
      "2020-06-04 12:06:47,221 : INFO : worker thread finished; awaiting finish of 3 more threads\n",
      "2020-06-04 12:06:47,305 : INFO : worker thread finished; awaiting finish of 2 more threads\n",
      "2020-06-04 12:06:47,443 : INFO : worker thread finished; awaiting finish of 1 more threads\n",
      "2020-06-04 12:06:47,450 : INFO : worker thread finished; awaiting finish of 0 more threads\n",
      "2020-06-04 12:06:47,452 : INFO : EPOCH - 24 : training on 23411 raw words (11659 effective words) took 0.2s, 49828 effective words/s\n",
      "2020-06-04 12:06:47,459 : INFO : worker thread finished; awaiting finish of 3 more threads\n",
      "2020-06-04 12:06:47,552 : INFO : worker thread finished; awaiting finish of 2 more threads\n",
      "2020-06-04 12:06:47,688 : INFO : worker thread finished; awaiting finish of 1 more threads\n",
      "2020-06-04 12:06:47,690 : INFO : worker thread finished; awaiting finish of 0 more threads\n",
      "2020-06-04 12:06:47,691 : INFO : EPOCH - 25 : training on 23411 raw words (11585 effective words) took 0.2s, 49405 effective words/s\n",
      "2020-06-04 12:06:47,697 : INFO : worker thread finished; awaiting finish of 3 more threads\n",
      "2020-06-04 12:06:47,788 : INFO : worker thread finished; awaiting finish of 2 more threads\n",
      "2020-06-04 12:06:47,922 : INFO : worker thread finished; awaiting finish of 1 more threads\n",
      "2020-06-04 12:06:47,923 : INFO : worker thread finished; awaiting finish of 0 more threads\n",
      "2020-06-04 12:06:47,924 : INFO : EPOCH - 26 : training on 23411 raw words (11709 effective words) took 0.2s, 51581 effective words/s\n",
      "2020-06-04 12:06:47,930 : INFO : worker thread finished; awaiting finish of 3 more threads\n",
      "2020-06-04 12:06:48,017 : INFO : worker thread finished; awaiting finish of 2 more threads\n",
      "2020-06-04 12:06:48,150 : INFO : worker thread finished; awaiting finish of 1 more threads\n",
      "2020-06-04 12:06:48,152 : INFO : worker thread finished; awaiting finish of 0 more threads\n",
      "2020-06-04 12:06:48,153 : INFO : EPOCH - 27 : training on 23411 raw words (11611 effective words) took 0.2s, 51353 effective words/s\n",
      "2020-06-04 12:06:48,160 : INFO : worker thread finished; awaiting finish of 3 more threads\n",
      "2020-06-04 12:06:48,246 : INFO : worker thread finished; awaiting finish of 2 more threads\n",
      "2020-06-04 12:06:48,376 : INFO : worker thread finished; awaiting finish of 1 more threads\n",
      "2020-06-04 12:06:48,387 : INFO : worker thread finished; awaiting finish of 0 more threads\n",
      "2020-06-04 12:06:48,388 : INFO : EPOCH - 28 : training on 23411 raw words (11629 effective words) took 0.2s, 50346 effective words/s\n",
      "2020-06-04 12:06:48,394 : INFO : worker thread finished; awaiting finish of 3 more threads\n",
      "2020-06-04 12:06:48,476 : INFO : worker thread finished; awaiting finish of 2 more threads\n",
      "2020-06-04 12:06:48,617 : INFO : worker thread finished; awaiting finish of 1 more threads\n",
      "2020-06-04 12:06:48,625 : INFO : worker thread finished; awaiting finish of 0 more threads\n",
      "2020-06-04 12:06:48,626 : INFO : EPOCH - 29 : training on 23411 raw words (11678 effective words) took 0.2s, 49851 effective words/s\n",
      "2020-06-04 12:06:48,633 : INFO : worker thread finished; awaiting finish of 3 more threads\n",
      "2020-06-04 12:06:48,720 : INFO : worker thread finished; awaiting finish of 2 more threads\n",
      "2020-06-04 12:06:48,851 : INFO : worker thread finished; awaiting finish of 1 more threads\n",
      "2020-06-04 12:06:48,860 : INFO : worker thread finished; awaiting finish of 0 more threads\n",
      "2020-06-04 12:06:48,861 : INFO : EPOCH - 30 : training on 23411 raw words (11620 effective words) took 0.2s, 50418 effective words/s\n",
      "2020-06-04 12:06:48,867 : INFO : worker thread finished; awaiting finish of 3 more threads\n",
      "2020-06-04 12:06:48,956 : INFO : worker thread finished; awaiting finish of 2 more threads\n",
      "2020-06-04 12:06:49,092 : INFO : worker thread finished; awaiting finish of 1 more threads\n",
      "2020-06-04 12:06:49,098 : INFO : worker thread finished; awaiting finish of 0 more threads\n",
      "2020-06-04 12:06:49,098 : INFO : EPOCH - 31 : training on 23411 raw words (11675 effective words) took 0.2s, 49966 effective words/s\n"
     ]
    },
    {
     "name": "stderr",
     "output_type": "stream",
     "text": [
      "2020-06-04 12:06:49,105 : INFO : worker thread finished; awaiting finish of 3 more threads\n",
      "2020-06-04 12:06:49,187 : INFO : worker thread finished; awaiting finish of 2 more threads\n",
      "2020-06-04 12:06:49,317 : INFO : worker thread finished; awaiting finish of 1 more threads\n",
      "2020-06-04 12:06:49,325 : INFO : worker thread finished; awaiting finish of 0 more threads\n",
      "2020-06-04 12:06:49,326 : INFO : EPOCH - 32 : training on 23411 raw words (11572 effective words) took 0.2s, 51709 effective words/s\n",
      "2020-06-04 12:06:49,333 : INFO : worker thread finished; awaiting finish of 3 more threads\n",
      "2020-06-04 12:06:49,422 : INFO : worker thread finished; awaiting finish of 2 more threads\n",
      "2020-06-04 12:06:49,566 : INFO : worker thread finished; awaiting finish of 1 more threads\n",
      "2020-06-04 12:06:49,568 : INFO : worker thread finished; awaiting finish of 0 more threads\n",
      "2020-06-04 12:06:49,569 : INFO : EPOCH - 33 : training on 23411 raw words (11659 effective words) took 0.2s, 48828 effective words/s\n",
      "2020-06-04 12:06:49,576 : INFO : worker thread finished; awaiting finish of 3 more threads\n",
      "2020-06-04 12:06:49,661 : INFO : worker thread finished; awaiting finish of 2 more threads\n",
      "2020-06-04 12:06:49,791 : INFO : worker thread finished; awaiting finish of 1 more threads\n",
      "2020-06-04 12:06:49,797 : INFO : worker thread finished; awaiting finish of 0 more threads\n",
      "2020-06-04 12:06:49,798 : INFO : EPOCH - 34 : training on 23411 raw words (11615 effective words) took 0.2s, 51505 effective words/s\n",
      "2020-06-04 12:06:49,805 : INFO : worker thread finished; awaiting finish of 3 more threads\n",
      "2020-06-04 12:06:49,888 : INFO : worker thread finished; awaiting finish of 2 more threads\n",
      "2020-06-04 12:06:50,016 : INFO : worker thread finished; awaiting finish of 1 more threads\n",
      "2020-06-04 12:06:50,021 : INFO : worker thread finished; awaiting finish of 0 more threads\n",
      "2020-06-04 12:06:50,022 : INFO : EPOCH - 35 : training on 23411 raw words (11539 effective words) took 0.2s, 52447 effective words/s\n",
      "2020-06-04 12:06:50,028 : INFO : worker thread finished; awaiting finish of 3 more threads\n",
      "2020-06-04 12:06:50,111 : INFO : worker thread finished; awaiting finish of 2 more threads\n",
      "2020-06-04 12:06:50,240 : INFO : worker thread finished; awaiting finish of 1 more threads\n",
      "2020-06-04 12:06:50,246 : INFO : worker thread finished; awaiting finish of 0 more threads\n",
      "2020-06-04 12:06:50,247 : INFO : EPOCH - 36 : training on 23411 raw words (11640 effective words) took 0.2s, 52686 effective words/s\n",
      "2020-06-04 12:06:50,253 : INFO : worker thread finished; awaiting finish of 3 more threads\n",
      "2020-06-04 12:06:50,341 : INFO : worker thread finished; awaiting finish of 2 more threads\n",
      "2020-06-04 12:06:50,473 : INFO : worker thread finished; awaiting finish of 1 more threads\n",
      "2020-06-04 12:06:50,475 : INFO : worker thread finished; awaiting finish of 0 more threads\n",
      "2020-06-04 12:06:50,476 : INFO : EPOCH - 37 : training on 23411 raw words (11682 effective words) took 0.2s, 51886 effective words/s\n",
      "2020-06-04 12:06:50,482 : INFO : worker thread finished; awaiting finish of 3 more threads\n",
      "2020-06-04 12:06:50,566 : INFO : worker thread finished; awaiting finish of 2 more threads\n",
      "2020-06-04 12:06:50,699 : INFO : worker thread finished; awaiting finish of 1 more threads\n",
      "2020-06-04 12:06:50,703 : INFO : worker thread finished; awaiting finish of 0 more threads\n",
      "2020-06-04 12:06:50,704 : INFO : EPOCH - 38 : training on 23411 raw words (11620 effective words) took 0.2s, 52265 effective words/s\n",
      "2020-06-04 12:06:50,710 : INFO : worker thread finished; awaiting finish of 3 more threads\n",
      "2020-06-04 12:06:50,795 : INFO : worker thread finished; awaiting finish of 2 more threads\n",
      "2020-06-04 12:06:50,925 : INFO : worker thread finished; awaiting finish of 1 more threads\n",
      "2020-06-04 12:06:50,934 : INFO : worker thread finished; awaiting finish of 0 more threads\n",
      "2020-06-04 12:06:50,936 : INFO : EPOCH - 39 : training on 23411 raw words (11613 effective words) took 0.2s, 51058 effective words/s\n",
      "2020-06-04 12:06:50,943 : INFO : worker thread finished; awaiting finish of 3 more threads\n",
      "2020-06-04 12:06:51,024 : INFO : worker thread finished; awaiting finish of 2 more threads\n",
      "2020-06-04 12:06:51,160 : INFO : worker thread finished; awaiting finish of 1 more threads\n",
      "2020-06-04 12:06:51,164 : INFO : worker thread finished; awaiting finish of 0 more threads\n",
      "2020-06-04 12:06:51,165 : INFO : EPOCH - 40 : training on 23411 raw words (11584 effective words) took 0.2s, 51370 effective words/s\n",
      "2020-06-04 12:06:51,172 : INFO : worker thread finished; awaiting finish of 3 more threads\n",
      "2020-06-04 12:06:51,253 : INFO : worker thread finished; awaiting finish of 2 more threads\n",
      "2020-06-04 12:06:51,390 : INFO : worker thread finished; awaiting finish of 1 more threads\n",
      "2020-06-04 12:06:51,393 : INFO : worker thread finished; awaiting finish of 0 more threads\n",
      "2020-06-04 12:06:51,394 : INFO : EPOCH - 41 : training on 23411 raw words (11608 effective words) took 0.2s, 51632 effective words/s\n",
      "2020-06-04 12:06:51,400 : INFO : worker thread finished; awaiting finish of 3 more threads\n",
      "2020-06-04 12:06:51,485 : INFO : worker thread finished; awaiting finish of 2 more threads\n",
      "2020-06-04 12:06:51,620 : INFO : worker thread finished; awaiting finish of 1 more threads\n",
      "2020-06-04 12:06:51,622 : INFO : worker thread finished; awaiting finish of 0 more threads\n",
      "2020-06-04 12:06:51,622 : INFO : EPOCH - 42 : training on 23411 raw words (11554 effective words) took 0.2s, 51460 effective words/s\n",
      "2020-06-04 12:06:51,629 : INFO : worker thread finished; awaiting finish of 3 more threads\n",
      "2020-06-04 12:06:51,717 : INFO : worker thread finished; awaiting finish of 2 more threads\n",
      "2020-06-04 12:06:51,852 : INFO : worker thread finished; awaiting finish of 1 more threads\n",
      "2020-06-04 12:06:51,858 : INFO : worker thread finished; awaiting finish of 0 more threads\n",
      "2020-06-04 12:06:51,859 : INFO : EPOCH - 43 : training on 23411 raw words (11646 effective words) took 0.2s, 50067 effective words/s\n",
      "2020-06-04 12:06:51,865 : INFO : worker thread finished; awaiting finish of 3 more threads\n",
      "2020-06-04 12:06:51,954 : INFO : worker thread finished; awaiting finish of 2 more threads\n",
      "2020-06-04 12:06:52,081 : INFO : worker thread finished; awaiting finish of 1 more threads\n",
      "2020-06-04 12:06:52,088 : INFO : worker thread finished; awaiting finish of 0 more threads\n",
      "2020-06-04 12:06:52,089 : INFO : EPOCH - 44 : training on 23411 raw words (11608 effective words) took 0.2s, 51199 effective words/s\n",
      "2020-06-04 12:06:52,096 : INFO : worker thread finished; awaiting finish of 3 more threads\n",
      "2020-06-04 12:06:52,180 : INFO : worker thread finished; awaiting finish of 2 more threads\n",
      "2020-06-04 12:06:52,315 : INFO : worker thread finished; awaiting finish of 1 more threads\n",
      "2020-06-04 12:06:52,319 : INFO : worker thread finished; awaiting finish of 0 more threads\n",
      "2020-06-04 12:06:52,320 : INFO : EPOCH - 45 : training on 23411 raw words (11606 effective words) took 0.2s, 51320 effective words/s\n",
      "2020-06-04 12:06:52,326 : INFO : worker thread finished; awaiting finish of 3 more threads\n",
      "2020-06-04 12:06:52,409 : INFO : worker thread finished; awaiting finish of 2 more threads\n",
      "2020-06-04 12:06:52,551 : INFO : worker thread finished; awaiting finish of 1 more threads\n",
      "2020-06-04 12:06:52,553 : INFO : worker thread finished; awaiting finish of 0 more threads\n",
      "2020-06-04 12:06:52,554 : INFO : EPOCH - 46 : training on 23411 raw words (11627 effective words) took 0.2s, 50501 effective words/s\n",
      "2020-06-04 12:06:52,560 : INFO : worker thread finished; awaiting finish of 3 more threads\n",
      "2020-06-04 12:06:52,647 : INFO : worker thread finished; awaiting finish of 2 more threads\n",
      "2020-06-04 12:06:52,779 : INFO : worker thread finished; awaiting finish of 1 more threads\n",
      "2020-06-04 12:06:52,785 : INFO : worker thread finished; awaiting finish of 0 more threads\n",
      "2020-06-04 12:06:52,786 : INFO : EPOCH - 47 : training on 23411 raw words (11558 effective words) took 0.2s, 50518 effective words/s\n",
      "2020-06-04 12:06:52,793 : INFO : worker thread finished; awaiting finish of 3 more threads\n",
      "2020-06-04 12:06:52,875 : INFO : worker thread finished; awaiting finish of 2 more threads\n",
      "2020-06-04 12:06:53,008 : INFO : worker thread finished; awaiting finish of 1 more threads\n"
     ]
    },
    {
     "name": "stderr",
     "output_type": "stream",
     "text": [
      "2020-06-04 12:06:53,012 : INFO : worker thread finished; awaiting finish of 0 more threads\n",
      "2020-06-04 12:06:53,013 : INFO : EPOCH - 48 : training on 23411 raw words (11622 effective words) took 0.2s, 52139 effective words/s\n",
      "2020-06-04 12:06:53,020 : INFO : worker thread finished; awaiting finish of 3 more threads\n",
      "2020-06-04 12:06:53,105 : INFO : worker thread finished; awaiting finish of 2 more threads\n",
      "2020-06-04 12:06:53,238 : INFO : worker thread finished; awaiting finish of 1 more threads\n",
      "2020-06-04 12:06:53,239 : INFO : worker thread finished; awaiting finish of 0 more threads\n",
      "2020-06-04 12:06:53,239 : INFO : EPOCH - 49 : training on 23411 raw words (11583 effective words) took 0.2s, 52121 effective words/s\n",
      "2020-06-04 12:06:53,245 : INFO : worker thread finished; awaiting finish of 3 more threads\n",
      "2020-06-04 12:06:53,334 : INFO : worker thread finished; awaiting finish of 2 more threads\n",
      "2020-06-04 12:06:53,463 : INFO : worker thread finished; awaiting finish of 1 more threads\n",
      "2020-06-04 12:06:53,467 : INFO : worker thread finished; awaiting finish of 0 more threads\n",
      "2020-06-04 12:06:53,468 : INFO : EPOCH - 50 : training on 23411 raw words (11636 effective words) took 0.2s, 52318 effective words/s\n",
      "2020-06-04 12:06:53,468 : INFO : training on a 1170550 raw words (581200 effective words) took 11.7s, 49504 effective words/s\n"
     ]
    }
   ],
   "source": [
    "# Create Word2Vec\n",
    "logging.basicConfig(format='%(asctime)s : %(levelname)s : %(message)s', level=logging.INFO)\n",
    "word2vec = Word2Vec(sentences=tokenized_corpus,\n",
    "                    size=vector_size, \n",
    "                    window=window_size, \n",
    "                    negative=20,\n",
    "                    iter=50,\n",
    "                    seed=1000,\n",
    "                    workers=multiprocessing.cpu_count(),\n",
    "                    sg=1)"
   ]
  },
  {
   "cell_type": "code",
   "execution_count": 9,
   "metadata": {},
   "outputs": [],
   "source": [
    "# Copy word vectors and delete Word2Vec model and original corpus to save memory\n",
    "X_vecs = word2vec.wv\n",
    "#del word2vec\n",
    "#del corpus"
   ]
  },
  {
   "cell_type": "code",
   "execution_count": 10,
   "metadata": {},
   "outputs": [
    {
     "name": "stdout",
     "output_type": "stream",
     "text": [
      "Average tweet length: 23.5523138832998\n",
      "Max tweet length: 201\n"
     ]
    }
   ],
   "source": [
    "# Train subset size (0 < size < len(tokenized_corpus))\n",
    "train_size = math.floor(0.8 * len(tokenized_corpus))\n",
    "\n",
    "# Test subset size (0 < size < len(tokenized_corpus) - train_size)\n",
    "test_size = len(tokenized_corpus) - train_size\n",
    "\n",
    "# Compute average and max tweet length\n",
    "avg_length = 0.0\n",
    "max_length = 0\n",
    "\n",
    "for tweet in tokenized_corpus:\n",
    "    if len(tweet) > max_length:\n",
    "        max_length = len(tweet)\n",
    "    avg_length += float(len(tweet))\n",
    "    \n",
    "print('Average tweet length: {}'.format(avg_length / float(len(tokenized_corpus))))\n",
    "print('Max tweet length: {}'.format(max_length))"
   ]
  },
  {
   "cell_type": "code",
   "execution_count": 11,
   "metadata": {},
   "outputs": [],
   "source": [
    "# Tweet max length (number of tokens)\n",
    "max_tweet_length = max_length"
   ]
  },
  {
   "cell_type": "code",
   "execution_count": 12,
   "metadata": {},
   "outputs": [],
   "source": [
    "# Create train and test sets\n",
    "# Generate random indexes\n",
    "indexes = set(np.random.choice(len(tokenized_corpus), train_size + test_size, replace=False))\n",
    "\n",
    "X_train = np.zeros((train_size, max_tweet_length, vector_size), dtype=K.floatx())\n",
    "Y_train = np.zeros((train_size, 2), dtype=np.int32)\n",
    "X_test = np.zeros((test_size, max_tweet_length, vector_size), dtype=K.floatx())\n",
    "Y_test = np.zeros((test_size, 2), dtype=np.int32)\n",
    "\n",
    "for i, index in enumerate(indexes):\n",
    "    for t, token in enumerate(tokenized_corpus[index]):\n",
    "        if t >= max_tweet_length:\n",
    "            break\n",
    "        \n",
    "        if token not in X_vecs:\n",
    "            continue\n",
    "    \n",
    "        if i < train_size:\n",
    "            X_train[i, t, :] = X_vecs[token]\n",
    "        else:\n",
    "            X_test[i - train_size, t, :] = X_vecs[token]\n",
    "            \n",
    "    #Y = [NotSarc, Sarc]\n",
    "    if i < train_size:        \n",
    "        Y_train[i, :] = [1.0, 0.0] if labels[index] == 0 else [0.0, 1.0]\n",
    "    else:\n",
    "        Y_test[i - train_size, :] = [1.0, 0.0] if labels[index] == 0 else [0.0, 1.0] "
   ]
  },
  {
   "cell_type": "code",
   "execution_count": 13,
   "metadata": {
    "scrolled": false
   },
   "outputs": [
    {
     "name": "stdout",
     "output_type": "stream",
     "text": [
      "Model: \"sequential\"\n",
      "_________________________________________________________________\n",
      "Layer (type)                 Output Shape              Param #   \n",
      "=================================================================\n",
      "dense (Dense)                (None, 201, 256)          77056     \n",
      "_________________________________________________________________\n",
      "lstm (LSTM)                  (None, 201, 256)          525312    \n",
      "_________________________________________________________________\n",
      "lstm_1 (LSTM)                (None, 201, 256)          525312    \n",
      "_________________________________________________________________\n",
      "flatten (Flatten)            (None, 51456)             0         \n",
      "_________________________________________________________________\n",
      "dense_1 (Dense)              (None, 2)                 102914    \n",
      "=================================================================\n",
      "Total params: 1,230,594\n",
      "Trainable params: 1,230,594\n",
      "Non-trainable params: 0\n",
      "_________________________________________________________________\n"
     ]
    }
   ],
   "source": [
    "batch_size = 16\n",
    "nb_epochs = 10\n",
    "\n",
    "model = tf.keras.Sequential()\n",
    "model.add(tf.keras.layers.Dense(256, input_shape=(max_tweet_length, vector_size)))\n",
    "model.add(tf.keras.layers.LSTM(256, return_sequences='true'))\n",
    "model.add(tf.keras.layers.LSTM(256, return_sequences='true'))\n",
    "model.add(tf.keras.layers.Flatten())\n",
    "model.add(tf.keras.layers.Dense(2, activation='softmax'))\n",
    "\n",
    "model.summary()"
   ]
  },
  {
   "cell_type": "code",
   "execution_count": 14,
   "metadata": {},
   "outputs": [],
   "source": [
    "# Compile the model\n",
    "model.compile(loss=tf.keras.losses.CategoricalCrossentropy(from_logits=True), \n",
    "              optimizer=tf.keras.optimizers.Adam(learning_rate=0.0001),\n",
    "              metrics=['accuracy'])"
   ]
  },
  {
   "cell_type": "code",
   "execution_count": 15,
   "metadata": {
    "scrolled": false
   },
   "outputs": [
    {
     "name": "stdout",
     "output_type": "stream",
     "text": [
      "Train on 795 samples, validate on 199 samples\n",
      "Epoch 1/10\n",
      "795/795 [==============================] - 54s 68ms/sample - loss: 0.6061 - accuracy: 0.6792 - val_loss: 0.5347 - val_accuracy: 0.7688\n",
      "Epoch 2/10\n",
      "795/795 [==============================] - 50s 63ms/sample - loss: 0.4777 - accuracy: 0.8226 - val_loss: 0.5292 - val_accuracy: 0.7839\n",
      "Epoch 3/10\n",
      "795/795 [==============================] - 51s 64ms/sample - loss: 0.4745 - accuracy: 0.8264 - val_loss: 0.4490 - val_accuracy: 0.8492\n",
      "Epoch 4/10\n",
      "795/795 [==============================] - 48s 60ms/sample - loss: 0.4310 - accuracy: 0.8767 - val_loss: 0.4505 - val_accuracy: 0.8543\n",
      "Epoch 5/10\n",
      "795/795 [==============================] - 44s 55ms/sample - loss: 0.4240 - accuracy: 0.8893 - val_loss: 0.4482 - val_accuracy: 0.8643\n",
      "Epoch 6/10\n",
      "795/795 [==============================] - 42s 53ms/sample - loss: 0.4371 - accuracy: 0.8755 - val_loss: 0.4784 - val_accuracy: 0.8241\n",
      "Epoch 7/10\n",
      "795/795 [==============================] - 42s 53ms/sample - loss: 0.4213 - accuracy: 0.8881 - val_loss: 0.4387 - val_accuracy: 0.8794\n",
      "Epoch 8/10\n",
      "795/795 [==============================] - 42s 53ms/sample - loss: 0.4182 - accuracy: 0.8893 - val_loss: 0.4449 - val_accuracy: 0.8693\n",
      "Epoch 9/10\n",
      "795/795 [==============================] - 42s 53ms/sample - loss: 0.4063 - accuracy: 0.9044 - val_loss: 0.4507 - val_accuracy: 0.8643\n",
      "Epoch 10/10\n",
      "795/795 [==============================] - 45s 56ms/sample - loss: 0.4166 - accuracy: 0.8956 - val_loss: 0.4388 - val_accuracy: 0.8693\n"
     ]
    }
   ],
   "source": [
    "# Fit the model\n",
    "history = model.fit(X_train, Y_train,\n",
    "          batch_size=batch_size,\n",
    "          shuffle=True,\n",
    "          epochs=nb_epochs,\n",
    "          validation_data=(X_test, Y_test))"
   ]
  },
  {
   "cell_type": "code",
   "execution_count": 16,
   "metadata": {},
   "outputs": [
    {
     "name": "stdout",
     "output_type": "stream",
     "text": [
      "199/199 [==============================] - 2s 9ms/sample - loss: 0.4388 - accuracy: 0.8693\n",
      "Loss:  0.439\n",
      "Accuracy:  0.869\n"
     ]
    }
   ],
   "source": [
    "loss, accuracy = model.evaluate(X_test, Y_test)\n",
    "\n",
    "print(\"Loss: \", \"%.3f\" % loss)\n",
    "print(\"Accuracy: \", \"%.3f\" % accuracy)"
   ]
  },
  {
   "cell_type": "markdown",
   "metadata": {},
   "source": [
    "# Graph"
   ]
  },
  {
   "cell_type": "code",
   "execution_count": 17,
   "metadata": {},
   "outputs": [
    {
     "data": {
      "text/plain": [
       "dict_keys(['loss', 'accuracy', 'val_loss', 'val_accuracy'])"
      ]
     },
     "execution_count": 17,
     "metadata": {},
     "output_type": "execute_result"
    }
   ],
   "source": [
    "history_dict = history.history\n",
    "history_dict.keys()"
   ]
  },
  {
   "cell_type": "code",
   "execution_count": 18,
   "metadata": {},
   "outputs": [
    {
     "data": {
      "image/png": "[encoded data removed]",
      "text/plain": [
       "<Figure size 432x288 with 1 Axes>"
      ]
     },
     "metadata": {
      "needs_background": "light"
     },
     "output_type": "display_data"
    }
   ],
   "source": [
    "acc = history_dict['accuracy']\n",
    "val_acc = history_dict['val_accuracy']\n",
    "loss = history_dict['loss']\n",
    "val_loss = history_dict['val_loss']\n",
    "\n",
    "epochs = range(1, len(acc) + 1)\n",
    "\n",
    "# \"bo\" is for \"blue dot\"\n",
    "plt.plot(epochs, loss, 'bo', label='Training loss')\n",
    "# b is for \"solid blue line\"\n",
    "plt.plot(epochs, val_loss, 'b', label='Validation loss')\n",
    "plt.title('Training and validation loss')\n",
    "plt.xlabel('Epochs')\n",
    "plt.ylabel('Loss')\n",
    "plt.legend()\n",
    "\n",
    "plt.show()"
   ]
  },
  {
   "cell_type": "code",
   "execution_count": 19,
   "metadata": {},
   "outputs": [
    {
     "data": {
      "image/png": "[encoded data removed]",
      "text/plain": [
       "<Figure size 432x288 with 1 Axes>"
      ]
     },
     "metadata": {
      "needs_background": "light"
     },
     "output_type": "display_data"
    }
   ],
   "source": [
    "plt.plot(history.history['loss'], label='Training loss')\n",
    "plt.plot(history.history['val_loss'], label='Validation loss')\n",
    "plt.title('Training and validation loss')\n",
    "plt.xlabel('Epochs')\n",
    "plt.ylabel('Loss')\n",
    "plt.legend();\n",
    "plt.show()"
   ]
  },
  {
   "cell_type": "code",
   "execution_count": 20,
   "metadata": {},
   "outputs": [
    {
     "data": {
      "image/png": "[encoded data removed]",
      "text/plain": [
       "<Figure size 432x288 with 1 Axes>"
      ]
     },
     "metadata": {
      "needs_background": "light"
     },
     "output_type": "display_data"
    }
   ],
   "source": [
    "plt.clf()   # clear figure\n",
    "\n",
    "plt.plot(epochs, acc, 'bo', label='Training acc')\n",
    "plt.plot(epochs, val_acc, 'b', label='Validation acc')\n",
    "plt.title('Training and validation accuracy')\n",
    "plt.xlabel('Epochs')\n",
    "plt.ylabel('Accuracy')\n",
    "plt.legend(loc='lower right')\n",
    "\n",
    "plt.show()"
   ]
  },
  {
   "cell_type": "code",
   "execution_count": 21,
   "metadata": {},
   "outputs": [
    {
     "data": {
      "image/png": "[encoded data removed]",
      "text/plain": [
       "<Figure size 432x288 with 1 Axes>"
      ]
     },
     "metadata": {
      "needs_background": "light"
     },
     "output_type": "display_data"
    }
   ],
   "source": [
    "plt.plot(history.history['accuracy'], label='Training accuracy')\n",
    "plt.plot(history.history['val_accuracy'], label='Validation accuracy')\n",
    "plt.title('Training and validation accuracy')\n",
    "plt.xlabel('Epochs')\n",
    "plt.ylabel('Accuracy')\n",
    "plt.legend(loc='lower right')\n",
    "plt.show()"
   ]
  },
  {
   "cell_type": "markdown",
   "metadata": {},
   "source": [
    "# Predictions"
   ]
  },
  {
   "cell_type": "code",
   "execution_count": 22,
   "metadata": {},
   "outputs": [],
   "source": [
    "y_pred = model.predict(X_test[1:2])"
   ]
  },
  {
   "cell_type": "code",
   "execution_count": 23,
   "metadata": {},
   "outputs": [
    {
     "name": "stdout",
     "output_type": "stream",
     "text": [
      "[1.0000000e+00 3.0845069e-18]\n",
      "Non sarcasm\n"
     ]
    }
   ],
   "source": [
    "print(y_pred[0])\n",
    "print(\"Non sarcasm\" if y_pred[0][0]>y_pred[0][1] else \"Sarcasm\")"
   ]
  },
  {
   "cell_type": "code",
   "execution_count": 24,
   "metadata": {},
   "outputs": [
    {
     "name": "stderr",
     "output_type": "stream",
     "text": [
      "C:\\Users\\rbn\\Anaconda3\\lib\\site-packages\\ipykernel_launcher.py:7: DeprecationWarning: Call to deprecated `most_similar` (Method will be removed in 4.0.0, use self.wv.most_similar() instead).\n",
      "  import sys\n",
      "2020-06-04 12:14:36,744 : INFO : precomputing L2-norms of word weight vectors\n"
     ]
    },
    {
     "name": "stdout",
     "output_type": "stream",
     "text": [
      "---------TWEET 1\n",
      "[('Works', 1.0)]\n",
      "[('effects', 0.9999999403953552)]\n",
      "[('were', 1.0000001192092896)]\n",
      "[('bad', 1.0)]\n",
      "[('at', 0.9999999403953552)]\n",
      "[('the', 1.0)]\n",
      "[('beginning', 0.9999999403953552)]\n",
      "[('but', 0.9999999403953552)]\n",
      "[('got', 0.9999999403953552)]\n",
      "[('better', 1.0000001192092896)]\n",
      "[('after', 0.9999998807907104)]\n",
      "[('a', 0.9999999403953552)]\n",
      "[('week', 1.0000001192092896)]\n",
      "[('or', 1.0)]\n",
      "[('two', 1.0000001192092896)]\n",
      "[('and', 1.0)]\n",
      "[('were', 1.0000001192092896)]\n",
      "[('gone', 1.0)]\n",
      "[('after', 0.9999998807907104)]\n",
      "[('a', 0.9999999403953552)]\n",
      "[('few', 1.0)]\n",
      "[('months', 0.9999998807907104)]\n",
      "[('I', 1.0)]\n",
      "[('can', 1.0)]\n",
      "[('tell', 1.0)]\n",
      "[('the', 1.0)]\n",
      "[('when', 1.0000001192092896)]\n",
      "[('I', 1.0)]\n",
      "[('forget', 1.0)]\n",
      "[('to', 1.0)]\n",
      "[('take', 1.0)]\n",
      "[('this', 1.0000001192092896)]\n"
     ]
    }
   ],
   "source": [
    "#https://stackoverflow.com/questions/32759712/how-to-find-the-closest-word-to-a-vector-using-word2vec\n",
    "\n",
    "for x in range(1,2):\n",
    "    print(\"---------TWEET \" + str(x))\n",
    "    for y in range(max_tweet_length):\n",
    "        if((X_test[x][y]!=np.zeros(vector_size)).all()):\n",
    "            print(word2vec.most_similar([ X_test[x][y] ], [], 1))"
   ]
  },
  {
   "cell_type": "code",
   "execution_count": 25,
   "metadata": {},
   "outputs": [],
   "source": [
    "def evaluate_phrase(tweet, model, word2vec, max_length, vector_size):\n",
    "    #Tokenisation\n",
    "    tkr = RegexpTokenizer('[a-zA-Z0-9@]+')\n",
    "    tokens = [t for t in tkr.tokenize(tweet) if not t.startswith('@')]\n",
    "    \n",
    "    vectorized_tweet = np.zeros((1,max_tweet_length, vector_size), dtype=K.floatx())\n",
    "    \n",
    "    for i, token in enumerate(tokens):\n",
    "        if token in word2vec.wv.vocab:\n",
    "            vectorized_tweet[0][i] = word2vec[token]\n",
    "        \n",
    "    prediction = model.predict(vectorized_tweet)\n",
    "    print(prediction)\n",
    "    print(\"Non sarcasm\" if prediction[0][0]>prediction[0][1] else \"Sarcasm\")"
   ]
  },
  {
   "cell_type": "code",
   "execution_count": 26,
   "metadata": {},
   "outputs": [
    {
     "name": "stdout",
     "output_type": "stream",
     "text": [
      "[[6.963425e-04 9.993037e-01]]\n",
      "Sarcasm\n"
     ]
    },
    {
     "name": "stderr",
     "output_type": "stream",
     "text": [
      "C:\\Users\\rbn\\Anaconda3\\lib\\site-packages\\ipykernel_launcher.py:10: DeprecationWarning: Call to deprecated `__getitem__` (Method will be removed in 4.0.0, use self.wv.__getitem__() instead).\n",
      "  # Remove the CWD from sys.path while we load stuff.\n"
     ]
    }
   ],
   "source": [
    "evaluate_phrase(\"Please send me more invites to get the dislike button. The first 500 were clearly not enough.\", model, word2vec, max_tweet_length, vector_size)"
   ]
  }
 ],
 "metadata": {
  "kernelspec": {
   "display_name": "Python 3",
   "language": "python",
   "name": "python3"
  },
  "language_info": {
   "codemirror_mode": {
    "name": "ipython",
    "version": 3
   },
   "file_extension": ".py",
   "mimetype": "text/x-python",
   "name": "python",
   "nbconvert_exporter": "python",
   "pygments_lexer": "ipython3",
   "version": "3.7.4"
  }
 },
 "nbformat": 4,
 "nbformat_minor": 2
}
