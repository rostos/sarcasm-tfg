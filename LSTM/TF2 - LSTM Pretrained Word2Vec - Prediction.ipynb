{
 "cells": [
  {
   "cell_type": "code",
   "execution_count": 1,
   "metadata": {},
   "outputs": [],
   "source": [
    "import tensorflow.keras.backend as K\n",
    "import multiprocessing\n",
    "\n",
    "import tensorflow as tf\n",
    "from tensorflow import keras\n",
    "\n",
    "import numpy as np\n",
    "import matplotlib.pyplot as plt\n",
    "import csv\n",
    "import math\n",
    "import random\n",
    "import logging\n",
    "\n",
    "from gensim.models.word2vec import Word2Vec\n",
    "import gensim\n",
    "\n",
    "from nltk.stem.lancaster import LancasterStemmer\n",
    "from nltk.tokenize import RegexpTokenizer"
   ]
  },
  {
   "cell_type": "code",
   "execution_count": 2,
   "metadata": {},
   "outputs": [],
   "source": [
    "# Set random seed (for reproducibility)\n",
    "np.random.seed(1000)"
   ]
  },
  {
   "cell_type": "code",
   "execution_count": 3,
   "metadata": {},
   "outputs": [],
   "source": [
    "#dataset_location = './datasets/sarcasm_v2.csv'\n",
    "dataset_location = './datasets/text_and_annorations.csv'\n",
    "model_location = './word2vec/'\n",
    "\n",
    "corpus = []\n",
    "labels = []"
   ]
  },
  {
   "cell_type": "code",
   "execution_count": 4,
   "metadata": {},
   "outputs": [],
   "source": [
    "#Shuffle the dataset\n",
    "\n",
    "ip=open(dataset_location,'r', encoding=\"utf8\")\n",
    "next(ip)   #ignore the first row (label row)\n",
    "li = ip.readlines()\n",
    "random.shuffle(li)\n",
    "\n",
    "#dataset_location = './datasets/shuffled_sarcasm_v2.csv'\n",
    "dataset_location = './datasets/shuffled_text_and_annotations.csv'\n",
    "\n",
    "fid = open(dataset_location, \"w\", encoding=\"utf8\")\n",
    "fid.writelines(li)\n",
    "fid.close()"
   ]
  },
  {
   "cell_type": "code",
   "execution_count": 5,
   "metadata": {},
   "outputs": [
    {
     "name": "stdout",
     "output_type": "stream",
     "text": [
      "Corpus size: 994\n"
     ]
    }
   ],
   "source": [
    "# Parse tweets and sentiments       \n",
    "with open(dataset_location, 'r', encoding=\"utf8\") as csvDataFile:\n",
    "    csvReader = csv.reader(csvDataFile)\n",
    "    \n",
    "    #skip the first line?\n",
    "    #next(csvReader)\n",
    "    \n",
    "    for row in csvReader:\n",
    "        #corpus.append(row[3] + \" - \" + row[4])\n",
    "        corpus.append(row[1])\n",
    "\n",
    "        #Sarcasm label, (0 = not sarcasm, 1 = sarcasm)\n",
    "        #pol = 1 if row[1] == 'sarc' else 0\n",
    "        pol = 1 if row[5] == 'Yes' else 0\n",
    "        labels.append(pol)\n",
    "        \n",
    "print('Corpus size: {}'.format(len(corpus)))"
   ]
  },
  {
   "cell_type": "code",
   "execution_count": 6,
   "metadata": {},
   "outputs": [],
   "source": [
    "# Tokenize and stem\n",
    "tkr = RegexpTokenizer('[a-zA-Z0-9@]+')\n",
    "#stemmer = LancasterStemmer()\n",
    "\n",
    "tokenized_corpus = []\n",
    "\n",
    "for i, tweet in enumerate(corpus):\n",
    "    #tokens = [stemmer.stem(t) for t in tkr.tokenize(tweet) if not t.startswith('@')]\n",
    "    tokens = [t for t in tkr.tokenize(tweet) if not t.startswith('@')]\n",
    "    tokenized_corpus.append(tokens)"
   ]
  },
  {
   "cell_type": "code",
   "execution_count": 7,
   "metadata": {},
   "outputs": [],
   "source": [
    "# Gensim Word2Vec model\n",
    "vector_size = 300\n",
    "window_size = 10"
   ]
  },
  {
   "cell_type": "code",
   "execution_count": 8,
   "metadata": {},
   "outputs": [
    {
     "name": "stderr",
     "output_type": "stream",
     "text": [
      "2020-05-27 23:54:55,379 : INFO : loading projection weights from ./word2vec/GoogleNews-vectors-negative300.bin\n",
      "2020-05-27 23:56:53,627 : INFO : loaded (3000000, 300) matrix from ./word2vec/GoogleNews-vectors-negative300.bin\n"
     ]
    }
   ],
   "source": [
    "# Create Word2Vec\n",
    "logging.basicConfig(format='%(asctime)s : %(levelname)s : %(message)s', level=logging.INFO)\n",
    "#Google News model from https://github.com/3Top/word2vec-api\n",
    "word2vec = gensim.models.KeyedVectors.load_word2vec_format('./word2vec/GoogleNews-vectors-negative300.bin', binary=True)"
   ]
  },
  {
   "cell_type": "code",
   "execution_count": 9,
   "metadata": {},
   "outputs": [
    {
     "name": "stderr",
     "output_type": "stream",
     "text": [
      "C:\\Users\\rbn\\Anaconda3\\lib\\site-packages\\ipykernel_launcher.py:2: DeprecationWarning: Call to deprecated `wv` (Attribute will be removed in 4.0.0, use self instead).\n",
      "  \n"
     ]
    }
   ],
   "source": [
    "# Copy word vectors and delete Word2Vec model and original corpus to save memory\n",
    "X_vecs = word2vec.wv\n",
    "#del word2vec\n",
    "del corpus"
   ]
  },
  {
   "cell_type": "code",
   "execution_count": 10,
   "metadata": {},
   "outputs": [
    {
     "name": "stdout",
     "output_type": "stream",
     "text": [
      "Average tweet length: 23.5523138832998\n",
      "Max tweet length: 201\n"
     ]
    }
   ],
   "source": [
    "# Train subset size (0 < size < len(tokenized_corpus))\n",
    "train_size = math.floor(0.8 * len(tokenized_corpus))\n",
    "\n",
    "# Test subset size (0 < size < len(tokenized_corpus) - train_size)\n",
    "test_size = len(tokenized_corpus) - train_size\n",
    "\n",
    "# Compute average and max tweet length\n",
    "avg_length = 0.0\n",
    "max_length = 0\n",
    "\n",
    "for tweet in tokenized_corpus:\n",
    "    if len(tweet) > max_length:\n",
    "        max_length = len(tweet)\n",
    "    avg_length += float(len(tweet))\n",
    "    \n",
    "print('Average tweet length: {}'.format(avg_length / float(len(tokenized_corpus))))\n",
    "print('Max tweet length: {}'.format(max_length))"
   ]
  },
  {
   "cell_type": "code",
   "execution_count": 11,
   "metadata": {},
   "outputs": [],
   "source": [
    "# Tweet max length (number of tokens)\n",
    "max_tweet_length = max_length"
   ]
  },
  {
   "cell_type": "code",
   "execution_count": 12,
   "metadata": {},
   "outputs": [],
   "source": [
    "# Create train and test sets\n",
    "# Generate random indexes\n",
    "indexes = set(np.random.choice(len(tokenized_corpus), train_size + test_size, replace=False))\n",
    "\n",
    "X_train = np.zeros((train_size, max_tweet_length, vector_size), dtype=K.floatx())\n",
    "Y_train = np.zeros((train_size, 2), dtype=np.int32)\n",
    "X_test = np.zeros((test_size, max_tweet_length, vector_size), dtype=K.floatx())\n",
    "Y_test = np.zeros((test_size, 2), dtype=np.int32)\n",
    "\n",
    "for i, index in enumerate(indexes):\n",
    "    for t, token in enumerate(tokenized_corpus[index]):\n",
    "        if t >= max_tweet_length:\n",
    "            break\n",
    "        \n",
    "        if token not in X_vecs:\n",
    "            continue\n",
    "    \n",
    "        if i < train_size:\n",
    "            X_train[i, t, :] = X_vecs[token]\n",
    "        else:\n",
    "            X_test[i - train_size, t, :] = X_vecs[token]\n",
    "            \n",
    "    #Y = [NotSarc, Sarc]\n",
    "    if i < train_size:        \n",
    "        Y_train[i, :] = [1.0, 0.0] if labels[index] == 0 else [0.0, 1.0]\n",
    "    else:\n",
    "        Y_test[i - train_size, :] = [1.0, 0.0] if labels[index] == 0 else [0.0, 1.0] "
   ]
  },
  {
   "cell_type": "code",
   "execution_count": 13,
   "metadata": {
    "scrolled": false
   },
   "outputs": [
    {
     "name": "stdout",
     "output_type": "stream",
     "text": [
      "Model: \"sequential\"\n",
      "_________________________________________________________________\n",
      "Layer (type)                 Output Shape              Param #   \n",
      "=================================================================\n",
      "dense (Dense)                (None, 201, 64)           19264     \n",
      "_________________________________________________________________\n",
      "lstm (LSTM)                  (None, 201, 128)          98816     \n",
      "_________________________________________________________________\n",
      "flatten (Flatten)            (None, 25728)             0         \n",
      "_________________________________________________________________\n",
      "dense_1 (Dense)              (None, 2)                 51458     \n",
      "=================================================================\n",
      "Total params: 169,538\n",
      "Trainable params: 169,538\n",
      "Non-trainable params: 0\n",
      "_________________________________________________________________\n"
     ]
    }
   ],
   "source": [
    "batch_size = 16\n",
    "nb_epochs = 20\n",
    "\n",
    "model = tf.keras.Sequential()\n",
    "model.add(tf.keras.layers.Dense(64, input_shape=(max_tweet_length, vector_size)))\n",
    "model.add(tf.keras.layers.LSTM(128, return_sequences='true'))\n",
    "model.add(tf.keras.layers.Flatten())\n",
    "model.add(tf.keras.layers.Dense(2, activation='softmax'))\n",
    "\n",
    "model.summary()"
   ]
  },
  {
   "cell_type": "code",
   "execution_count": 14,
   "metadata": {},
   "outputs": [],
   "source": [
    "# Compile the model\n",
    "model.compile(loss=tf.keras.losses.CategoricalCrossentropy(from_logits=True), \n",
    "              optimizer=tf.keras.optimizers.Adam(learning_rate=0.0001),\n",
    "              metrics=['accuracy'])"
   ]
  },
  {
   "cell_type": "code",
   "execution_count": 15,
   "metadata": {
    "scrolled": false
   },
   "outputs": [
    {
     "name": "stdout",
     "output_type": "stream",
     "text": [
      "Train on 795 samples, validate on 199 samples\n",
      "Epoch 1/20\n",
      "795/795 [==============================] - 14s 18ms/sample - loss: 0.6532 - accuracy: 0.6440 - val_loss: 0.6078 - val_accuracy: 0.6683\n",
      "Epoch 2/20\n",
      "795/795 [==============================] - 9s 12ms/sample - loss: 0.6142 - accuracy: 0.6415 - val_loss: 0.5794 - val_accuracy: 0.6884\n",
      "Epoch 3/20\n",
      "795/795 [==============================] - 9s 12ms/sample - loss: 0.5674 - accuracy: 0.7170 - val_loss: 0.5015 - val_accuracy: 0.8090\n",
      "Epoch 4/20\n",
      "795/795 [==============================] - 10s 12ms/sample - loss: 0.4937 - accuracy: 0.8075 - val_loss: 0.4693 - val_accuracy: 0.8241\n",
      "Epoch 5/20\n",
      "795/795 [==============================] - 10s 13ms/sample - loss: 0.4591 - accuracy: 0.8516 - val_loss: 0.4693 - val_accuracy: 0.8342\n",
      "Epoch 6/20\n",
      "795/795 [==============================] - 11s 14ms/sample - loss: 0.4437 - accuracy: 0.8629 - val_loss: 0.4568 - val_accuracy: 0.8492\n",
      "Epoch 7/20\n",
      "795/795 [==============================] - 11s 13ms/sample - loss: 0.4400 - accuracy: 0.8667 - val_loss: 0.4601 - val_accuracy: 0.8543\n",
      "Epoch 8/20\n",
      "795/795 [==============================] - 9s 12ms/sample - loss: 0.4303 - accuracy: 0.8818 - val_loss: 0.4477 - val_accuracy: 0.8643\n",
      "Epoch 9/20\n",
      "795/795 [==============================] - 11s 13ms/sample - loss: 0.4211 - accuracy: 0.8868 - val_loss: 0.4427 - val_accuracy: 0.8643\n",
      "Epoch 10/20\n",
      "795/795 [==============================] - 9s 11ms/sample - loss: 0.4148 - accuracy: 0.8994 - val_loss: 0.4460 - val_accuracy: 0.8543\n",
      "Epoch 11/20\n",
      "795/795 [==============================] - 9s 11ms/sample - loss: 0.4058 - accuracy: 0.9082 - val_loss: 0.4445 - val_accuracy: 0.8744\n",
      "Epoch 12/20\n",
      "795/795 [==============================] - 10s 13ms/sample - loss: 0.4055 - accuracy: 0.9057 - val_loss: 0.4462 - val_accuracy: 0.8543\n",
      "Epoch 13/20\n",
      "795/795 [==============================] - 11s 13ms/sample - loss: 0.4131 - accuracy: 0.8943 - val_loss: 0.4411 - val_accuracy: 0.8643\n",
      "Epoch 14/20\n",
      "795/795 [==============================] - 12s 15ms/sample - loss: 0.3966 - accuracy: 0.9208 - val_loss: 0.4437 - val_accuracy: 0.8593\n",
      "Epoch 15/20\n",
      "795/795 [==============================] - 9s 12ms/sample - loss: 0.4096 - accuracy: 0.9019 - val_loss: 0.4620 - val_accuracy: 0.8442\n",
      "Epoch 16/20\n",
      "795/795 [==============================] - 9s 12ms/sample - loss: 0.4041 - accuracy: 0.9094 - val_loss: 0.4402 - val_accuracy: 0.8643\n",
      "Epoch 17/20\n",
      "795/795 [==============================] - 11s 13ms/sample - loss: 0.3872 - accuracy: 0.9258 - val_loss: 0.4461 - val_accuracy: 0.8643\n",
      "Epoch 18/20\n",
      "795/795 [==============================] - 9s 12ms/sample - loss: 0.3820 - accuracy: 0.9308 - val_loss: 0.4508 - val_accuracy: 0.8593\n",
      "Epoch 19/20\n",
      "795/795 [==============================] - 11s 14ms/sample - loss: 0.3900 - accuracy: 0.9208 - val_loss: 0.4464 - val_accuracy: 0.8643\n",
      "Epoch 20/20\n",
      "795/795 [==============================] - 11s 14ms/sample - loss: 0.3782 - accuracy: 0.9346 - val_loss: 0.4417 - val_accuracy: 0.8693\n"
     ]
    }
   ],
   "source": [
    "# Fit the model\n",
    "history = model.fit(X_train, Y_train,\n",
    "          batch_size=batch_size,\n",
    "          shuffle=True,\n",
    "          epochs=nb_epochs,\n",
    "          validation_data=(X_test, Y_test))"
   ]
  },
  {
   "cell_type": "code",
   "execution_count": 16,
   "metadata": {},
   "outputs": [
    {
     "name": "stdout",
     "output_type": "stream",
     "text": [
      "199/199 [==============================] - 0s 2ms/sample - loss: 0.4417 - accuracy: 0.8693\n",
      "Loss:  0.442\n",
      "Accuracy:  0.869\n"
     ]
    }
   ],
   "source": [
    "loss, accuracy = model.evaluate(X_test, Y_test)\n",
    "\n",
    "print(\"Loss: \", \"%.3f\" % loss)\n",
    "print(\"Accuracy: \", \"%.3f\" % accuracy)"
   ]
  },
  {
   "cell_type": "markdown",
   "metadata": {},
   "source": [
    "# Graph"
   ]
  },
  {
   "cell_type": "code",
   "execution_count": 17,
   "metadata": {},
   "outputs": [
    {
     "data": {
      "text/plain": [
       "dict_keys(['loss', 'accuracy', 'val_loss', 'val_accuracy'])"
      ]
     },
     "execution_count": 17,
     "metadata": {},
     "output_type": "execute_result"
    }
   ],
   "source": [
    "history_dict = history.history\n",
    "history_dict.keys()"
   ]
  },
  {
   "cell_type": "code",
   "execution_count": 18,
   "metadata": {},
   "outputs": [
    {
     "data": {
      "image/png": "[encoded data removed]",
      "text/plain": [
       "<Figure size 432x288 with 1 Axes>"
      ]
     },
     "metadata": {
      "needs_background": "light"
     },
     "output_type": "display_data"
    }
   ],
   "source": [
    "acc = history_dict['accuracy']\n",
    "val_acc = history_dict['val_accuracy']\n",
    "loss = history_dict['loss']\n",
    "val_loss = history_dict['val_loss']\n",
    "\n",
    "epochs = range(1, len(acc) + 1)\n",
    "\n",
    "# \"bo\" is for \"blue dot\"\n",
    "plt.plot(epochs, loss, 'bo', label='Training loss')\n",
    "# b is for \"solid blue line\"\n",
    "plt.plot(epochs, val_loss, 'b', label='Validation loss')\n",
    "plt.title('Training and validation loss')\n",
    "plt.xlabel('Epochs')\n",
    "plt.ylabel('Loss')\n",
    "plt.legend()\n",
    "\n",
    "plt.show()"
   ]
  },
  {
   "cell_type": "code",
   "execution_count": 19,
   "metadata": {},
   "outputs": [
    {
     "data": {
      "image/png": "[encoded data removed]",
      "text/plain": [
       "<Figure size 432x288 with 1 Axes>"
      ]
     },
     "metadata": {
      "needs_background": "light"
     },
     "output_type": "display_data"
    }
   ],
   "source": [
    "plt.plot(history.history['loss'], label='train')\n",
    "plt.plot(history.history['val_loss'], label='test')\n",
    "plt.legend();"
   ]
  },
  {
   "cell_type": "code",
   "execution_count": 20,
   "metadata": {},
   "outputs": [
    {
     "data": {
      "image/png": "[encoded data removed]",
      "text/plain": [
       "<Figure size 432x288 with 1 Axes>"
      ]
     },
     "metadata": {
      "needs_background": "light"
     },
     "output_type": "display_data"
    }
   ],
   "source": [
    "plt.clf()   # clear figure\n",
    "\n",
    "plt.plot(epochs, acc, 'bo', label='Training acc')\n",
    "plt.plot(epochs, val_acc, 'b', label='Validation acc')\n",
    "plt.title('Training and validation accuracy')\n",
    "plt.xlabel('Epochs')\n",
    "plt.ylabel('Accuracy')\n",
    "plt.legend(loc='lower right')\n",
    "\n",
    "plt.show()"
   ]
  },
  {
   "cell_type": "code",
   "execution_count": 21,
   "metadata": {},
   "outputs": [
    {
     "data": {
      "image/png": "[encoded data removed]",
      "text/plain": [
       "<Figure size 432x288 with 1 Axes>"
      ]
     },
     "metadata": {
      "needs_background": "light"
     },
     "output_type": "display_data"
    }
   ],
   "source": [
    "plt.plot(history.history['accuracy'], label='train')\n",
    "plt.plot(history.history['val_accuracy'], label='test')\n",
    "plt.legend();"
   ]
  },
  {
   "cell_type": "markdown",
   "metadata": {},
   "source": [
    "# Predictions"
   ]
  },
  {
   "cell_type": "code",
   "execution_count": 24,
   "metadata": {},
   "outputs": [],
   "source": [
    "def evaluate_phrase(tweet, model, word2vec, max_length, vector_size):\n",
    "    #Tokenisation\n",
    "    tkr = RegexpTokenizer('[a-zA-Z0-9@]+')\n",
    "    tokens = [t for t in tkr.tokenize(tweet) if not t.startswith('@')]\n",
    "    \n",
    "    vectorized_tweet = np.zeros((1,max_tweet_length, vector_size), dtype=K.floatx())\n",
    "    \n",
    "    for i, token in enumerate(tokens):\n",
    "        if token in word2vec.vocab:\n",
    "            vectorized_tweet[0][i] = word2vec[token]\n",
    "        \n",
    "    prediction = model.predict(vectorized_tweet)\n",
    "    print(prediction)\n",
    "    print(\"Non sarcasm\" if prediction[0][0]>prediction[0][1] else \"Sarcasm\")"
   ]
  },
  {
   "cell_type": "code",
   "execution_count": 25,
   "metadata": {},
   "outputs": [
    {
     "name": "stdout",
     "output_type": "stream",
     "text": [
      "[[0.00419593 0.99580413]]\n",
      "Sarcasm\n"
     ]
    }
   ],
   "source": [
    "evaluate_phrase(\"Please send me more invites to get the dislike button. The first 500 were clearly not enough.\", model, word2vec, max_tweet_length, vector_size)"
   ]
  }
 ],
 "metadata": {
  "kernelspec": {
   "display_name": "Python 3",
   "language": "python",
   "name": "python3"
  },
  "language_info": {
   "codemirror_mode": {
    "name": "ipython",
    "version": 3
   },
   "file_extension": ".py",
   "mimetype": "text/x-python",
   "name": "python",
   "nbconvert_exporter": "python",
   "pygments_lexer": "ipython3",
   "version": "3.7.4"
  }
 },
 "nbformat": 4,
 "nbformat_minor": 2
}
