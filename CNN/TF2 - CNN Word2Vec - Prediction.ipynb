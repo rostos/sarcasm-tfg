{
 "cells": [
  {
   "cell_type": "code",
   "execution_count": 1,
   "metadata": {},
   "outputs": [],
   "source": [
    "import tensorflow.keras.backend as K\n",
    "import multiprocessing\n",
    "\n",
    "import tensorflow as tf\n",
    "from tensorflow import keras\n",
    "\n",
    "import numpy as np\n",
    "import matplotlib.pyplot as plt\n",
    "import csv\n",
    "import math\n",
    "import random\n",
    "import logging\n",
    "\n",
    "from gensim.models.word2vec import Word2Vec\n",
    "\n",
    "from nltk.stem.lancaster import LancasterStemmer\n",
    "from nltk.tokenize import RegexpTokenizer"
   ]
  },
  {
   "cell_type": "code",
   "execution_count": 2,
   "metadata": {},
   "outputs": [],
   "source": [
    "# Set random seed (for reproducibility)\n",
    "np.random.seed(1000)"
   ]
  },
  {
   "cell_type": "code",
   "execution_count": 3,
   "metadata": {},
   "outputs": [],
   "source": [
    "#dataset_location = './datasets/sarcasm_v2.csv'\n",
    "dataset_location = './datasets/text_and_annorations.csv'\n",
    "model_location = './word2vec/'\n",
    "\n",
    "corpus = []\n",
    "labels = []"
   ]
  },
  {
   "cell_type": "code",
   "execution_count": 4,
   "metadata": {},
   "outputs": [],
   "source": [
    "#Shuffle the dataset\n",
    "\n",
    "ip=open(dataset_location,'r', encoding=\"utf8\")\n",
    "next(ip)   #ignore the first row (label row)\n",
    "li = ip.readlines()\n",
    "random.shuffle(li)\n",
    "\n",
    "#dataset_location = './datasets/shuffled_sarcasm_v2.csv'\n",
    "dataset_location = './datasets/shuffled_text_and_annotations.csv'\n",
    "\n",
    "fid = open(dataset_location, \"w\", encoding=\"utf8\")\n",
    "fid.writelines(li)\n",
    "fid.close()"
   ]
  },
  {
   "cell_type": "code",
   "execution_count": 5,
   "metadata": {},
   "outputs": [
    {
     "name": "stdout",
     "output_type": "stream",
     "text": [
      "Corpus size: 994\n"
     ]
    }
   ],
   "source": [
    "# Parse tweets and sentiments       \n",
    "with open(dataset_location, 'r', encoding=\"utf8\") as csvDataFile:\n",
    "    csvReader = csv.reader(csvDataFile)\n",
    "    \n",
    "    #skip the first line?\n",
    "    #next(csvReader)\n",
    "    \n",
    "    for row in csvReader:\n",
    "        #corpus.append(row[3] + \" - \" + row[4])\n",
    "        corpus.append(row[1])\n",
    "\n",
    "        #Sarcasm label, (0 = not sarcasm, 1 = sarcasm)\n",
    "        #pol = 1 if row[1] == 'sarc' else 0\n",
    "        pol = 1 if row[5] == 'Yes' else 0\n",
    "        labels.append(pol)\n",
    "        \n",
    "print('Corpus size: {}'.format(len(corpus)))"
   ]
  },
  {
   "cell_type": "code",
   "execution_count": 6,
   "metadata": {},
   "outputs": [],
   "source": [
    "# Tokenize and stem\n",
    "tkr = RegexpTokenizer('[a-zA-Z0-9@]+')\n",
    "#stemmer = LancasterStemmer()\n",
    "\n",
    "tokenized_corpus = []\n",
    "\n",
    "for i, tweet in enumerate(corpus):\n",
    "    #tokens = [stemmer.stem(t) for t in tkr.tokenize(tweet) if not t.startswith('@')]\n",
    "    tokens = [t for t in tkr.tokenize(tweet) if not t.startswith('@')]\n",
    "    tokenized_corpus.append(tokens)"
   ]
  },
  {
   "cell_type": "code",
   "execution_count": 7,
   "metadata": {},
   "outputs": [],
   "source": [
    "# Gensim Word2Vec model\n",
    "vector_size = 300\n",
    "window_size = 10"
   ]
  },
  {
   "cell_type": "code",
   "execution_count": 8,
   "metadata": {},
   "outputs": [
    {
     "name": "stderr",
     "output_type": "stream",
     "text": [
      "2020-06-09 18:30:55,946 : INFO : collecting all words and their counts\n",
      "2020-06-09 18:30:55,947 : INFO : PROGRESS: at sentence #0, processed 0 words, keeping 0 word types\n",
      "2020-06-09 18:30:55,953 : INFO : collected 4545 word types from a corpus of 23411 raw words and 994 sentences\n",
      "2020-06-09 18:30:55,953 : INFO : Loading a fresh vocabulary\n",
      "2020-06-09 18:30:55,958 : INFO : effective_min_count=5 retains 636 unique words (13% of original 4545, drops 3909)\n",
      "2020-06-09 18:30:55,959 : INFO : effective_min_count=5 leaves 17755 word corpus (75% of original 23411, drops 5656)\n",
      "2020-06-09 18:30:55,962 : INFO : deleting the raw counts dictionary of 4545 items\n",
      "2020-06-09 18:30:55,963 : INFO : sample=0.001 downsamples 72 most-common words\n",
      "2020-06-09 18:30:55,964 : INFO : downsampling leaves estimated 11628 word corpus (65.5% of prior 17755)\n",
      "2020-06-09 18:30:55,995 : INFO : estimated required memory for 636 words and 300 dimensions: 1844400 bytes\n",
      "2020-06-09 18:30:55,996 : INFO : resetting layer weights\n",
      "2020-06-09 18:30:56,136 : INFO : training model with 4 workers on 636 vocabulary and 300 features, using sg=1 hs=0 sample=0.001 negative=20 window=10\n",
      "2020-06-09 18:30:56,150 : INFO : worker thread finished; awaiting finish of 3 more threads\n",
      "2020-06-09 18:30:56,264 : INFO : worker thread finished; awaiting finish of 2 more threads\n",
      "2020-06-09 18:30:56,396 : INFO : worker thread finished; awaiting finish of 1 more threads\n",
      "2020-06-09 18:30:56,420 : INFO : worker thread finished; awaiting finish of 0 more threads\n",
      "2020-06-09 18:30:56,421 : INFO : EPOCH - 1 : training on 23411 raw words (11625 effective words) took 0.3s, 41472 effective words/s\n",
      "2020-06-09 18:30:56,427 : INFO : worker thread finished; awaiting finish of 3 more threads\n",
      "2020-06-09 18:30:56,526 : INFO : worker thread finished; awaiting finish of 2 more threads\n",
      "2020-06-09 18:30:56,680 : INFO : worker thread finished; awaiting finish of 1 more threads\n",
      "2020-06-09 18:30:56,691 : INFO : worker thread finished; awaiting finish of 0 more threads\n",
      "2020-06-09 18:30:56,692 : INFO : EPOCH - 2 : training on 23411 raw words (11604 effective words) took 0.3s, 43582 effective words/s\n",
      "2020-06-09 18:30:56,701 : INFO : worker thread finished; awaiting finish of 3 more threads\n",
      "2020-06-09 18:30:56,827 : INFO : worker thread finished; awaiting finish of 2 more threads\n",
      "2020-06-09 18:30:56,952 : INFO : worker thread finished; awaiting finish of 1 more threads\n",
      "2020-06-09 18:30:56,967 : INFO : worker thread finished; awaiting finish of 0 more threads\n",
      "2020-06-09 18:30:56,968 : INFO : EPOCH - 3 : training on 23411 raw words (11620 effective words) took 0.3s, 42831 effective words/s\n",
      "2020-06-09 18:30:56,974 : INFO : worker thread finished; awaiting finish of 3 more threads\n",
      "2020-06-09 18:30:57,091 : INFO : worker thread finished; awaiting finish of 2 more threads\n",
      "2020-06-09 18:30:57,226 : INFO : worker thread finished; awaiting finish of 1 more threads\n",
      "2020-06-09 18:30:57,246 : INFO : worker thread finished; awaiting finish of 0 more threads\n",
      "2020-06-09 18:30:57,247 : INFO : EPOCH - 4 : training on 23411 raw words (11576 effective words) took 0.3s, 42517 effective words/s\n",
      "2020-06-09 18:30:57,255 : INFO : worker thread finished; awaiting finish of 3 more threads\n",
      "2020-06-09 18:30:57,379 : INFO : worker thread finished; awaiting finish of 2 more threads\n",
      "2020-06-09 18:30:57,524 : INFO : worker thread finished; awaiting finish of 1 more threads\n",
      "2020-06-09 18:30:57,569 : INFO : worker thread finished; awaiting finish of 0 more threads\n",
      "2020-06-09 18:30:57,569 : INFO : EPOCH - 5 : training on 23411 raw words (11643 effective words) took 0.3s, 36811 effective words/s\n",
      "2020-06-09 18:30:57,583 : INFO : worker thread finished; awaiting finish of 3 more threads\n",
      "2020-06-09 18:30:57,707 : INFO : worker thread finished; awaiting finish of 2 more threads\n",
      "2020-06-09 18:30:57,833 : INFO : worker thread finished; awaiting finish of 1 more threads\n",
      "2020-06-09 18:30:57,849 : INFO : worker thread finished; awaiting finish of 0 more threads\n",
      "2020-06-09 18:30:57,850 : INFO : EPOCH - 6 : training on 23411 raw words (11704 effective words) took 0.3s, 42925 effective words/s\n",
      "2020-06-09 18:30:57,857 : INFO : worker thread finished; awaiting finish of 3 more threads\n",
      "2020-06-09 18:30:57,994 : INFO : worker thread finished; awaiting finish of 2 more threads\n",
      "2020-06-09 18:30:58,099 : INFO : worker thread finished; awaiting finish of 1 more threads\n",
      "2020-06-09 18:30:58,112 : INFO : worker thread finished; awaiting finish of 0 more threads\n",
      "2020-06-09 18:30:58,113 : INFO : EPOCH - 7 : training on 23411 raw words (11633 effective words) took 0.3s, 44875 effective words/s\n",
      "2020-06-09 18:30:58,121 : INFO : worker thread finished; awaiting finish of 3 more threads\n",
      "2020-06-09 18:30:58,220 : INFO : worker thread finished; awaiting finish of 2 more threads\n",
      "2020-06-09 18:30:58,348 : INFO : worker thread finished; awaiting finish of 1 more threads\n",
      "2020-06-09 18:30:58,367 : INFO : worker thread finished; awaiting finish of 0 more threads\n",
      "2020-06-09 18:30:58,368 : INFO : EPOCH - 8 : training on 23411 raw words (11566 effective words) took 0.2s, 46535 effective words/s\n",
      "2020-06-09 18:30:58,374 : INFO : worker thread finished; awaiting finish of 3 more threads\n",
      "2020-06-09 18:30:58,495 : INFO : worker thread finished; awaiting finish of 2 more threads\n",
      "2020-06-09 18:30:58,616 : INFO : worker thread finished; awaiting finish of 1 more threads\n",
      "2020-06-09 18:30:58,627 : INFO : worker thread finished; awaiting finish of 0 more threads\n",
      "2020-06-09 18:30:58,628 : INFO : EPOCH - 9 : training on 23411 raw words (11679 effective words) took 0.3s, 45469 effective words/s\n",
      "2020-06-09 18:30:58,638 : INFO : worker thread finished; awaiting finish of 3 more threads\n",
      "2020-06-09 18:30:58,747 : INFO : worker thread finished; awaiting finish of 2 more threads\n",
      "2020-06-09 18:30:58,892 : INFO : worker thread finished; awaiting finish of 1 more threads\n",
      "2020-06-09 18:30:58,895 : INFO : worker thread finished; awaiting finish of 0 more threads\n",
      "2020-06-09 18:30:58,895 : INFO : EPOCH - 10 : training on 23411 raw words (11672 effective words) took 0.3s, 44802 effective words/s\n",
      "2020-06-09 18:30:58,902 : INFO : worker thread finished; awaiting finish of 3 more threads\n",
      "2020-06-09 18:30:59,029 : INFO : worker thread finished; awaiting finish of 2 more threads\n",
      "2020-06-09 18:30:59,138 : INFO : worker thread finished; awaiting finish of 1 more threads\n",
      "2020-06-09 18:30:59,142 : INFO : worker thread finished; awaiting finish of 0 more threads\n",
      "2020-06-09 18:30:59,143 : INFO : EPOCH - 11 : training on 23411 raw words (11621 effective words) took 0.2s, 47671 effective words/s\n",
      "2020-06-09 18:30:59,150 : INFO : worker thread finished; awaiting finish of 3 more threads\n",
      "2020-06-09 18:30:59,265 : INFO : worker thread finished; awaiting finish of 2 more threads\n",
      "2020-06-09 18:30:59,403 : INFO : worker thread finished; awaiting finish of 1 more threads\n",
      "2020-06-09 18:30:59,406 : INFO : worker thread finished; awaiting finish of 0 more threads\n",
      "2020-06-09 18:30:59,408 : INFO : EPOCH - 12 : training on 23411 raw words (11584 effective words) took 0.3s, 44516 effective words/s\n",
      "2020-06-09 18:30:59,421 : INFO : worker thread finished; awaiting finish of 3 more threads\n",
      "2020-06-09 18:30:59,564 : INFO : worker thread finished; awaiting finish of 2 more threads\n",
      "2020-06-09 18:30:59,663 : INFO : worker thread finished; awaiting finish of 1 more threads\n",
      "2020-06-09 18:30:59,702 : INFO : worker thread finished; awaiting finish of 0 more threads\n",
      "2020-06-09 18:30:59,704 : INFO : EPOCH - 13 : training on 23411 raw words (11562 effective words) took 0.3s, 40005 effective words/s\n",
      "2020-06-09 18:30:59,712 : INFO : worker thread finished; awaiting finish of 3 more threads\n",
      "2020-06-09 18:30:59,822 : INFO : worker thread finished; awaiting finish of 2 more threads\n",
      "2020-06-09 18:30:59,957 : INFO : worker thread finished; awaiting finish of 1 more threads\n",
      "2020-06-09 18:30:59,968 : INFO : worker thread finished; awaiting finish of 0 more threads\n",
      "2020-06-09 18:30:59,969 : INFO : EPOCH - 14 : training on 23411 raw words (11635 effective words) took 0.3s, 44480 effective words/s\n",
      "2020-06-09 18:30:59,975 : INFO : worker thread finished; awaiting finish of 3 more threads\n",
      "2020-06-09 18:31:00,089 : INFO : worker thread finished; awaiting finish of 2 more threads\n"
     ]
    },
    {
     "name": "stderr",
     "output_type": "stream",
     "text": [
      "2020-06-09 18:31:00,240 : INFO : worker thread finished; awaiting finish of 1 more threads\n",
      "2020-06-09 18:31:00,255 : INFO : worker thread finished; awaiting finish of 0 more threads\n",
      "2020-06-09 18:31:00,256 : INFO : EPOCH - 15 : training on 23411 raw words (11655 effective words) took 0.3s, 41153 effective words/s\n",
      "2020-06-09 18:31:00,269 : INFO : worker thread finished; awaiting finish of 3 more threads\n",
      "2020-06-09 18:31:00,381 : INFO : worker thread finished; awaiting finish of 2 more threads\n",
      "2020-06-09 18:31:00,517 : INFO : worker thread finished; awaiting finish of 1 more threads\n",
      "2020-06-09 18:31:00,523 : INFO : worker thread finished; awaiting finish of 0 more threads\n",
      "2020-06-09 18:31:00,524 : INFO : EPOCH - 16 : training on 23411 raw words (11614 effective words) took 0.3s, 44619 effective words/s\n",
      "2020-06-09 18:31:00,530 : INFO : worker thread finished; awaiting finish of 3 more threads\n",
      "2020-06-09 18:31:00,632 : INFO : worker thread finished; awaiting finish of 2 more threads\n",
      "2020-06-09 18:31:00,785 : INFO : worker thread finished; awaiting finish of 1 more threads\n",
      "2020-06-09 18:31:00,795 : INFO : worker thread finished; awaiting finish of 0 more threads\n",
      "2020-06-09 18:31:00,796 : INFO : EPOCH - 17 : training on 23411 raw words (11653 effective words) took 0.3s, 43483 effective words/s\n",
      "2020-06-09 18:31:00,801 : INFO : worker thread finished; awaiting finish of 3 more threads\n",
      "2020-06-09 18:31:00,889 : INFO : worker thread finished; awaiting finish of 2 more threads\n",
      "2020-06-09 18:31:01,048 : INFO : worker thread finished; awaiting finish of 1 more threads\n",
      "2020-06-09 18:31:01,062 : INFO : worker thread finished; awaiting finish of 0 more threads\n",
      "2020-06-09 18:31:01,063 : INFO : EPOCH - 18 : training on 23411 raw words (11651 effective words) took 0.3s, 44162 effective words/s\n",
      "2020-06-09 18:31:01,068 : INFO : worker thread finished; awaiting finish of 3 more threads\n",
      "2020-06-09 18:31:01,191 : INFO : worker thread finished; awaiting finish of 2 more threads\n",
      "2020-06-09 18:31:01,299 : INFO : worker thread finished; awaiting finish of 1 more threads\n",
      "2020-06-09 18:31:01,310 : INFO : worker thread finished; awaiting finish of 0 more threads\n",
      "2020-06-09 18:31:01,311 : INFO : EPOCH - 19 : training on 23411 raw words (11599 effective words) took 0.2s, 47420 effective words/s\n",
      "2020-06-09 18:31:01,317 : INFO : worker thread finished; awaiting finish of 3 more threads\n",
      "2020-06-09 18:31:01,399 : INFO : worker thread finished; awaiting finish of 2 more threads\n",
      "2020-06-09 18:31:01,579 : INFO : worker thread finished; awaiting finish of 1 more threads\n",
      "2020-06-09 18:31:01,582 : INFO : worker thread finished; awaiting finish of 0 more threads\n",
      "2020-06-09 18:31:01,583 : INFO : EPOCH - 20 : training on 23411 raw words (11652 effective words) took 0.3s, 43472 effective words/s\n",
      "2020-06-09 18:31:01,589 : INFO : worker thread finished; awaiting finish of 3 more threads\n",
      "2020-06-09 18:31:01,726 : INFO : worker thread finished; awaiting finish of 2 more threads\n",
      "2020-06-09 18:31:01,834 : INFO : worker thread finished; awaiting finish of 1 more threads\n",
      "2020-06-09 18:31:01,839 : INFO : worker thread finished; awaiting finish of 0 more threads\n",
      "2020-06-09 18:31:01,840 : INFO : EPOCH - 21 : training on 23411 raw words (11642 effective words) took 0.3s, 45946 effective words/s\n",
      "2020-06-09 18:31:01,849 : INFO : worker thread finished; awaiting finish of 3 more threads\n",
      "2020-06-09 18:31:01,972 : INFO : worker thread finished; awaiting finish of 2 more threads\n",
      "2020-06-09 18:31:02,066 : INFO : worker thread finished; awaiting finish of 1 more threads\n",
      "2020-06-09 18:31:02,090 : INFO : worker thread finished; awaiting finish of 0 more threads\n",
      "2020-06-09 18:31:02,090 : INFO : EPOCH - 22 : training on 23411 raw words (11672 effective words) took 0.2s, 47945 effective words/s\n",
      "2020-06-09 18:31:02,097 : INFO : worker thread finished; awaiting finish of 3 more threads\n",
      "2020-06-09 18:31:02,215 : INFO : worker thread finished; awaiting finish of 2 more threads\n",
      "2020-06-09 18:31:02,305 : INFO : worker thread finished; awaiting finish of 1 more threads\n",
      "2020-06-09 18:31:02,333 : INFO : worker thread finished; awaiting finish of 0 more threads\n",
      "2020-06-09 18:31:02,334 : INFO : EPOCH - 23 : training on 23411 raw words (11624 effective words) took 0.2s, 48488 effective words/s\n",
      "2020-06-09 18:31:02,341 : INFO : worker thread finished; awaiting finish of 3 more threads\n",
      "2020-06-09 18:31:02,464 : INFO : worker thread finished; awaiting finish of 2 more threads\n",
      "2020-06-09 18:31:02,544 : INFO : worker thread finished; awaiting finish of 1 more threads\n",
      "2020-06-09 18:31:02,581 : INFO : worker thread finished; awaiting finish of 0 more threads\n",
      "2020-06-09 18:31:02,582 : INFO : EPOCH - 24 : training on 23411 raw words (11521 effective words) took 0.2s, 47164 effective words/s\n",
      "2020-06-09 18:31:02,589 : INFO : worker thread finished; awaiting finish of 3 more threads\n",
      "2020-06-09 18:31:02,719 : INFO : worker thread finished; awaiting finish of 2 more threads\n",
      "2020-06-09 18:31:02,802 : INFO : worker thread finished; awaiting finish of 1 more threads\n",
      "2020-06-09 18:31:02,827 : INFO : worker thread finished; awaiting finish of 0 more threads\n",
      "2020-06-09 18:31:02,828 : INFO : EPOCH - 25 : training on 23411 raw words (11638 effective words) took 0.2s, 48039 effective words/s\n",
      "2020-06-09 18:31:02,834 : INFO : worker thread finished; awaiting finish of 3 more threads\n",
      "2020-06-09 18:31:02,953 : INFO : worker thread finished; awaiting finish of 2 more threads\n",
      "2020-06-09 18:31:03,044 : INFO : worker thread finished; awaiting finish of 1 more threads\n",
      "2020-06-09 18:31:03,070 : INFO : worker thread finished; awaiting finish of 0 more threads\n",
      "2020-06-09 18:31:03,070 : INFO : EPOCH - 26 : training on 23411 raw words (11514 effective words) took 0.2s, 48335 effective words/s\n",
      "2020-06-09 18:31:03,077 : INFO : worker thread finished; awaiting finish of 3 more threads\n",
      "2020-06-09 18:31:03,200 : INFO : worker thread finished; awaiting finish of 2 more threads\n",
      "2020-06-09 18:31:03,289 : INFO : worker thread finished; awaiting finish of 1 more threads\n",
      "2020-06-09 18:31:03,317 : INFO : worker thread finished; awaiting finish of 0 more threads\n",
      "2020-06-09 18:31:03,317 : INFO : EPOCH - 27 : training on 23411 raw words (11600 effective words) took 0.2s, 47791 effective words/s\n",
      "2020-06-09 18:31:03,323 : INFO : worker thread finished; awaiting finish of 3 more threads\n",
      "2020-06-09 18:31:03,443 : INFO : worker thread finished; awaiting finish of 2 more threads\n",
      "2020-06-09 18:31:03,525 : INFO : worker thread finished; awaiting finish of 1 more threads\n",
      "2020-06-09 18:31:03,563 : INFO : worker thread finished; awaiting finish of 0 more threads\n",
      "2020-06-09 18:31:03,564 : INFO : EPOCH - 28 : training on 23411 raw words (11547 effective words) took 0.2s, 47428 effective words/s\n",
      "2020-06-09 18:31:03,570 : INFO : worker thread finished; awaiting finish of 3 more threads\n",
      "2020-06-09 18:31:03,683 : INFO : worker thread finished; awaiting finish of 2 more threads\n",
      "2020-06-09 18:31:03,794 : INFO : worker thread finished; awaiting finish of 1 more threads\n",
      "2020-06-09 18:31:03,806 : INFO : worker thread finished; awaiting finish of 0 more threads\n",
      "2020-06-09 18:31:03,807 : INFO : EPOCH - 29 : training on 23411 raw words (11635 effective words) took 0.2s, 48574 effective words/s\n",
      "2020-06-09 18:31:03,814 : INFO : worker thread finished; awaiting finish of 3 more threads\n",
      "2020-06-09 18:31:03,902 : INFO : worker thread finished; awaiting finish of 2 more threads\n",
      "2020-06-09 18:31:04,057 : INFO : worker thread finished; awaiting finish of 1 more threads\n",
      "2020-06-09 18:31:04,062 : INFO : worker thread finished; awaiting finish of 0 more threads\n",
      "2020-06-09 18:31:04,063 : INFO : EPOCH - 30 : training on 23411 raw words (11670 effective words) took 0.3s, 46547 effective words/s\n",
      "2020-06-09 18:31:04,068 : INFO : worker thread finished; awaiting finish of 3 more threads\n",
      "2020-06-09 18:31:04,159 : INFO : worker thread finished; awaiting finish of 2 more threads\n",
      "2020-06-09 18:31:04,302 : INFO : worker thread finished; awaiting finish of 1 more threads\n",
      "2020-06-09 18:31:04,321 : INFO : worker thread finished; awaiting finish of 0 more threads\n",
      "2020-06-09 18:31:04,322 : INFO : EPOCH - 31 : training on 23411 raw words (11666 effective words) took 0.3s, 45600 effective words/s\n"
     ]
    },
    {
     "name": "stderr",
     "output_type": "stream",
     "text": [
      "2020-06-09 18:31:04,329 : INFO : worker thread finished; awaiting finish of 3 more threads\n",
      "2020-06-09 18:31:04,452 : INFO : worker thread finished; awaiting finish of 2 more threads\n",
      "2020-06-09 18:31:04,546 : INFO : worker thread finished; awaiting finish of 1 more threads\n",
      "2020-06-09 18:31:04,560 : INFO : worker thread finished; awaiting finish of 0 more threads\n",
      "2020-06-09 18:31:04,561 : INFO : EPOCH - 32 : training on 23411 raw words (11634 effective words) took 0.2s, 49630 effective words/s\n",
      "2020-06-09 18:31:04,567 : INFO : worker thread finished; awaiting finish of 3 more threads\n",
      "2020-06-09 18:31:04,686 : INFO : worker thread finished; awaiting finish of 2 more threads\n",
      "2020-06-09 18:31:04,779 : INFO : worker thread finished; awaiting finish of 1 more threads\n",
      "2020-06-09 18:31:04,801 : INFO : worker thread finished; awaiting finish of 0 more threads\n",
      "2020-06-09 18:31:04,801 : INFO : EPOCH - 33 : training on 23411 raw words (11583 effective words) took 0.2s, 48979 effective words/s\n",
      "2020-06-09 18:31:04,808 : INFO : worker thread finished; awaiting finish of 3 more threads\n",
      "2020-06-09 18:31:04,926 : INFO : worker thread finished; awaiting finish of 2 more threads\n",
      "2020-06-09 18:31:05,013 : INFO : worker thread finished; awaiting finish of 1 more threads\n",
      "2020-06-09 18:31:05,049 : INFO : worker thread finished; awaiting finish of 0 more threads\n",
      "2020-06-09 18:31:05,050 : INFO : EPOCH - 34 : training on 23411 raw words (11636 effective words) took 0.2s, 47571 effective words/s\n",
      "2020-06-09 18:31:05,056 : INFO : worker thread finished; awaiting finish of 3 more threads\n",
      "2020-06-09 18:31:05,146 : INFO : worker thread finished; awaiting finish of 2 more threads\n",
      "2020-06-09 18:31:05,290 : INFO : worker thread finished; awaiting finish of 1 more threads\n",
      "2020-06-09 18:31:05,299 : INFO : worker thread finished; awaiting finish of 0 more threads\n",
      "2020-06-09 18:31:05,299 : INFO : EPOCH - 35 : training on 23411 raw words (11608 effective words) took 0.2s, 47269 effective words/s\n",
      "2020-06-09 18:31:05,305 : INFO : worker thread finished; awaiting finish of 3 more threads\n",
      "2020-06-09 18:31:05,426 : INFO : worker thread finished; awaiting finish of 2 more threads\n",
      "2020-06-09 18:31:05,513 : INFO : worker thread finished; awaiting finish of 1 more threads\n",
      "2020-06-09 18:31:05,544 : INFO : worker thread finished; awaiting finish of 0 more threads\n",
      "2020-06-09 18:31:05,545 : INFO : EPOCH - 36 : training on 23411 raw words (11670 effective words) took 0.2s, 48271 effective words/s\n",
      "2020-06-09 18:31:05,553 : INFO : worker thread finished; awaiting finish of 3 more threads\n",
      "2020-06-09 18:31:05,652 : INFO : worker thread finished; awaiting finish of 2 more threads\n",
      "2020-06-09 18:31:05,795 : INFO : worker thread finished; awaiting finish of 1 more threads\n",
      "2020-06-09 18:31:05,816 : INFO : worker thread finished; awaiting finish of 0 more threads\n",
      "2020-06-09 18:31:05,816 : INFO : EPOCH - 37 : training on 23411 raw words (11743 effective words) took 0.3s, 44040 effective words/s\n",
      "2020-06-09 18:31:05,822 : INFO : worker thread finished; awaiting finish of 3 more threads\n",
      "2020-06-09 18:31:05,906 : INFO : worker thread finished; awaiting finish of 2 more threads\n",
      "2020-06-09 18:31:06,053 : INFO : worker thread finished; awaiting finish of 1 more threads\n",
      "2020-06-09 18:31:06,062 : INFO : worker thread finished; awaiting finish of 0 more threads\n",
      "2020-06-09 18:31:06,063 : INFO : EPOCH - 38 : training on 23411 raw words (11601 effective words) took 0.2s, 47681 effective words/s\n",
      "2020-06-09 18:31:06,069 : INFO : worker thread finished; awaiting finish of 3 more threads\n",
      "2020-06-09 18:31:06,191 : INFO : worker thread finished; awaiting finish of 2 more threads\n",
      "2020-06-09 18:31:06,266 : INFO : worker thread finished; awaiting finish of 1 more threads\n",
      "2020-06-09 18:31:06,307 : INFO : worker thread finished; awaiting finish of 0 more threads\n",
      "2020-06-09 18:31:06,308 : INFO : EPOCH - 39 : training on 23411 raw words (11537 effective words) took 0.2s, 47871 effective words/s\n",
      "2020-06-09 18:31:06,315 : INFO : worker thread finished; awaiting finish of 3 more threads\n",
      "2020-06-09 18:31:06,436 : INFO : worker thread finished; awaiting finish of 2 more threads\n",
      "2020-06-09 18:31:06,530 : INFO : worker thread finished; awaiting finish of 1 more threads\n",
      "2020-06-09 18:31:06,551 : INFO : worker thread finished; awaiting finish of 0 more threads\n",
      "2020-06-09 18:31:06,552 : INFO : EPOCH - 40 : training on 23411 raw words (11640 effective words) took 0.2s, 48522 effective words/s\n",
      "2020-06-09 18:31:06,558 : INFO : worker thread finished; awaiting finish of 3 more threads\n",
      "2020-06-09 18:31:06,669 : INFO : worker thread finished; awaiting finish of 2 more threads\n",
      "2020-06-09 18:31:06,769 : INFO : worker thread finished; awaiting finish of 1 more threads\n",
      "2020-06-09 18:31:06,797 : INFO : worker thread finished; awaiting finish of 0 more threads\n",
      "2020-06-09 18:31:06,798 : INFO : EPOCH - 41 : training on 23411 raw words (11652 effective words) took 0.2s, 48204 effective words/s\n",
      "2020-06-09 18:31:06,804 : INFO : worker thread finished; awaiting finish of 3 more threads\n",
      "2020-06-09 18:31:06,926 : INFO : worker thread finished; awaiting finish of 2 more threads\n",
      "2020-06-09 18:31:07,005 : INFO : worker thread finished; awaiting finish of 1 more threads\n",
      "2020-06-09 18:31:07,045 : INFO : worker thread finished; awaiting finish of 0 more threads\n",
      "2020-06-09 18:31:07,046 : INFO : EPOCH - 42 : training on 23411 raw words (11634 effective words) took 0.2s, 47645 effective words/s\n",
      "2020-06-09 18:31:07,052 : INFO : worker thread finished; awaiting finish of 3 more threads\n",
      "2020-06-09 18:31:07,167 : INFO : worker thread finished; awaiting finish of 2 more threads\n",
      "2020-06-09 18:31:07,259 : INFO : worker thread finished; awaiting finish of 1 more threads\n",
      "2020-06-09 18:31:07,295 : INFO : worker thread finished; awaiting finish of 0 more threads\n",
      "2020-06-09 18:31:07,296 : INFO : EPOCH - 43 : training on 23411 raw words (11569 effective words) took 0.2s, 47043 effective words/s\n",
      "2020-06-09 18:31:07,302 : INFO : worker thread finished; awaiting finish of 3 more threads\n",
      "2020-06-09 18:31:07,431 : INFO : worker thread finished; awaiting finish of 2 more threads\n",
      "2020-06-09 18:31:07,518 : INFO : worker thread finished; awaiting finish of 1 more threads\n",
      "2020-06-09 18:31:07,539 : INFO : worker thread finished; awaiting finish of 0 more threads\n",
      "2020-06-09 18:31:07,540 : INFO : EPOCH - 44 : training on 23411 raw words (11644 effective words) took 0.2s, 48581 effective words/s\n",
      "2020-06-09 18:31:07,546 : INFO : worker thread finished; awaiting finish of 3 more threads\n",
      "2020-06-09 18:31:07,631 : INFO : worker thread finished; awaiting finish of 2 more threads\n",
      "2020-06-09 18:31:07,779 : INFO : worker thread finished; awaiting finish of 1 more threads\n",
      "2020-06-09 18:31:07,791 : INFO : worker thread finished; awaiting finish of 0 more threads\n",
      "2020-06-09 18:31:07,792 : INFO : EPOCH - 45 : training on 23411 raw words (11611 effective words) took 0.2s, 46591 effective words/s\n",
      "2020-06-09 18:31:07,799 : INFO : worker thread finished; awaiting finish of 3 more threads\n",
      "2020-06-09 18:31:07,885 : INFO : worker thread finished; awaiting finish of 2 more threads\n",
      "2020-06-09 18:31:08,029 : INFO : worker thread finished; awaiting finish of 1 more threads\n",
      "2020-06-09 18:31:08,039 : INFO : worker thread finished; awaiting finish of 0 more threads\n",
      "2020-06-09 18:31:08,040 : INFO : EPOCH - 46 : training on 23411 raw words (11577 effective words) took 0.2s, 47673 effective words/s\n",
      "2020-06-09 18:31:08,047 : INFO : worker thread finished; awaiting finish of 3 more threads\n",
      "2020-06-09 18:31:08,167 : INFO : worker thread finished; awaiting finish of 2 more threads\n",
      "2020-06-09 18:31:08,260 : INFO : worker thread finished; awaiting finish of 1 more threads\n",
      "2020-06-09 18:31:08,287 : INFO : worker thread finished; awaiting finish of 0 more threads\n",
      "2020-06-09 18:31:08,287 : INFO : EPOCH - 47 : training on 23411 raw words (11726 effective words) took 0.2s, 48055 effective words/s\n",
      "2020-06-09 18:31:08,296 : INFO : worker thread finished; awaiting finish of 3 more threads\n",
      "2020-06-09 18:31:08,415 : INFO : worker thread finished; awaiting finish of 2 more threads\n",
      "2020-06-09 18:31:08,494 : INFO : worker thread finished; awaiting finish of 1 more threads\n"
     ]
    },
    {
     "name": "stderr",
     "output_type": "stream",
     "text": [
      "2020-06-09 18:31:08,536 : INFO : worker thread finished; awaiting finish of 0 more threads\n",
      "2020-06-09 18:31:08,537 : INFO : EPOCH - 48 : training on 23411 raw words (11576 effective words) took 0.2s, 47271 effective words/s\n",
      "2020-06-09 18:31:08,546 : INFO : worker thread finished; awaiting finish of 3 more threads\n",
      "2020-06-09 18:31:08,668 : INFO : worker thread finished; awaiting finish of 2 more threads\n",
      "2020-06-09 18:31:08,756 : INFO : worker thread finished; awaiting finish of 1 more threads\n",
      "2020-06-09 18:31:08,782 : INFO : worker thread finished; awaiting finish of 0 more threads\n",
      "2020-06-09 18:31:08,782 : INFO : EPOCH - 49 : training on 23411 raw words (11575 effective words) took 0.2s, 47945 effective words/s\n",
      "2020-06-09 18:31:08,788 : INFO : worker thread finished; awaiting finish of 3 more threads\n",
      "2020-06-09 18:31:08,877 : INFO : worker thread finished; awaiting finish of 2 more threads\n",
      "2020-06-09 18:31:09,032 : INFO : worker thread finished; awaiting finish of 1 more threads\n",
      "2020-06-09 18:31:09,037 : INFO : worker thread finished; awaiting finish of 0 more threads\n",
      "2020-06-09 18:31:09,037 : INFO : EPOCH - 50 : training on 23411 raw words (11585 effective words) took 0.3s, 46191 effective words/s\n",
      "2020-06-09 18:31:09,038 : INFO : training on a 1170550 raw words (581078 effective words) took 12.9s, 45038 effective words/s\n"
     ]
    }
   ],
   "source": [
    "# Create Word2Vec\n",
    "logging.basicConfig(format='%(asctime)s : %(levelname)s : %(message)s', level=logging.INFO)\n",
    "word2vec = Word2Vec(sentences=tokenized_corpus,\n",
    "                    size=vector_size, \n",
    "                    window=window_size, \n",
    "                    negative=20,\n",
    "                    iter=50,\n",
    "                    seed=1000,\n",
    "                    workers=multiprocessing.cpu_count(),\n",
    "                    sg=1)"
   ]
  },
  {
   "cell_type": "code",
   "execution_count": 9,
   "metadata": {},
   "outputs": [],
   "source": [
    "# Copy word vectors and delete Word2Vec model and original corpus to save memory\n",
    "X_vecs = word2vec.wv\n",
    "#del word2vec\n",
    "del corpus"
   ]
  },
  {
   "cell_type": "code",
   "execution_count": 10,
   "metadata": {},
   "outputs": [
    {
     "name": "stdout",
     "output_type": "stream",
     "text": [
      "Average tweet length: 23.5523138832998\n",
      "Max tweet length: 201\n"
     ]
    }
   ],
   "source": [
    "# Train subset size (0 < size < len(tokenized_corpus))\n",
    "train_size = math.floor(0.8 * len(tokenized_corpus))\n",
    "\n",
    "# Test subset size (0 < size < len(tokenized_corpus) - train_size)\n",
    "test_size = len(tokenized_corpus) - train_size\n",
    "\n",
    "# Compute average and max tweet length\n",
    "avg_length = 0.0\n",
    "max_length = 0\n",
    "\n",
    "for tweet in tokenized_corpus:\n",
    "    if len(tweet) > max_length:\n",
    "        max_length = len(tweet)\n",
    "    avg_length += float(len(tweet))\n",
    "    \n",
    "print('Average tweet length: {}'.format(avg_length / float(len(tokenized_corpus))))\n",
    "print('Max tweet length: {}'.format(max_length))"
   ]
  },
  {
   "cell_type": "code",
   "execution_count": 11,
   "metadata": {},
   "outputs": [],
   "source": [
    "# Tweet max length (number of tokens)\n",
    "max_tweet_length = max_length"
   ]
  },
  {
   "cell_type": "code",
   "execution_count": 12,
   "metadata": {},
   "outputs": [],
   "source": [
    "# Create train and test sets\n",
    "# Generate random indexes\n",
    "indexes = set(np.random.choice(len(tokenized_corpus), train_size + test_size, replace=False))\n",
    "\n",
    "X_train = np.zeros((train_size, max_tweet_length, vector_size), dtype=K.floatx())\n",
    "Y_train = np.zeros((train_size, 2), dtype=np.int32)\n",
    "X_test = np.zeros((test_size, max_tweet_length, vector_size), dtype=K.floatx())\n",
    "Y_test = np.zeros((test_size, 2), dtype=np.int32)\n",
    "\n",
    "for i, index in enumerate(indexes):\n",
    "    for t, token in enumerate(tokenized_corpus[index]):\n",
    "        if t >= max_tweet_length:\n",
    "            break\n",
    "        \n",
    "        if token not in X_vecs:\n",
    "            continue\n",
    "    \n",
    "        if i < train_size:\n",
    "            X_train[i, t, :] = X_vecs[token]\n",
    "        else:\n",
    "            X_test[i - train_size, t, :] = X_vecs[token]\n",
    "            \n",
    "    if i < train_size:\n",
    "        Y_train[i, :] = [1.0, 0.0] if labels[index] == 0 else [0.0, 1.0]\n",
    "    else:\n",
    "        Y_test[i - train_size, :] = [1.0, 0.0] if labels[index] == 0 else [0.0, 1.0] "
   ]
  },
  {
   "cell_type": "code",
   "execution_count": 13,
   "metadata": {},
   "outputs": [
    {
     "name": "stdout",
     "output_type": "stream",
     "text": [
      "Model: \"sequential\"\n",
      "_________________________________________________________________\n",
      "Layer (type)                 Output Shape              Param #   \n",
      "=================================================================\n",
      "conv1d (Conv1D)              (None, 201, 16)           9616      \n",
      "_________________________________________________________________\n",
      "max_pooling1d (MaxPooling1D) (None, 100, 16)           0         \n",
      "_________________________________________________________________\n",
      "conv1d_1 (Conv1D)            (None, 100, 32)           1056      \n",
      "_________________________________________________________________\n",
      "max_pooling1d_1 (MaxPooling1 (None, 50, 32)            0         \n",
      "_________________________________________________________________\n",
      "conv1d_2 (Conv1D)            (None, 50, 16)            1040      \n",
      "_________________________________________________________________\n",
      "max_pooling1d_2 (MaxPooling1 (None, 25, 16)            0         \n",
      "_________________________________________________________________\n",
      "flatten (Flatten)            (None, 400)               0         \n",
      "_________________________________________________________________\n",
      "dense (Dense)                (None, 16)                6416      \n",
      "_________________________________________________________________\n",
      "dense_1 (Dense)              (None, 2)                 34        \n",
      "=================================================================\n",
      "Total params: 18,162\n",
      "Trainable params: 18,162\n",
      "Non-trainable params: 0\n",
      "_________________________________________________________________\n"
     ]
    }
   ],
   "source": [
    "# Keras convolutional model\n",
    "batch_size = 16\n",
    "nb_epochs = 10\n",
    "\n",
    "model = tf.keras.Sequential([\n",
    "    tf.keras.layers.Conv1D(16, kernel_size=2, activation='relu', padding='same', input_shape=(max_tweet_length, vector_size)),\n",
    "    tf.keras.layers.MaxPooling1D(2),\n",
    "    tf.keras.layers.Conv1D(32, kernel_size=2, activation='relu', padding='same'),\n",
    "    tf.keras.layers.MaxPooling1D(2),\n",
    "    tf.keras.layers.Conv1D(16, kernel_size=2, activation='relu', padding='same'),\n",
    "    tf.keras.layers.MaxPooling1D(2),\n",
    "    tf.keras.layers.Flatten(),\n",
    "    tf.keras.layers.Dense(16, activation='relu'),\n",
    "    tf.keras.layers.Dense(2, activation='softmax')\n",
    "])\n",
    "\n",
    "model.summary()"
   ]
  },
  {
   "cell_type": "code",
   "execution_count": 14,
   "metadata": {},
   "outputs": [],
   "source": [
    "# Compile the model\n",
    "model.compile(optimizer=tf.keras.optimizers.Adam(learning_rate=0.001),\n",
    "              loss=tf.keras.losses.CategoricalCrossentropy(from_logits=True),\n",
    "              metrics=['accuracy'])"
   ]
  },
  {
   "cell_type": "code",
   "execution_count": 15,
   "metadata": {
    "scrolled": false
   },
   "outputs": [
    {
     "name": "stdout",
     "output_type": "stream",
     "text": [
      "Epoch 1/10\n",
      "50/50 [==============================] - 1s 21ms/step - loss: 0.6313 - accuracy: 0.6491 - val_loss: 0.5997 - val_accuracy: 0.6432\n",
      "Epoch 2/10\n",
      "50/50 [==============================] - 1s 16ms/step - loss: 0.5894 - accuracy: 0.6604 - val_loss: 0.5696 - val_accuracy: 0.7789\n",
      "Epoch 3/10\n",
      "50/50 [==============================] - 1s 19ms/step - loss: 0.5231 - accuracy: 0.8138 - val_loss: 0.5229 - val_accuracy: 0.7889\n",
      "Epoch 4/10\n",
      "50/50 [==============================] - 1s 17ms/step - loss: 0.4380 - accuracy: 0.8818 - val_loss: 0.4776 - val_accuracy: 0.8191\n",
      "Epoch 5/10\n",
      "50/50 [==============================] - 1s 19ms/step - loss: 0.4080 - accuracy: 0.9082 - val_loss: 0.4643 - val_accuracy: 0.8241\n",
      "Epoch 6/10\n",
      "50/50 [==============================] - 1s 18ms/step - loss: 0.3835 - accuracy: 0.9358 - val_loss: 0.4543 - val_accuracy: 0.8543\n",
      "Epoch 7/10\n",
      "50/50 [==============================] - 1s 19ms/step - loss: 0.3660 - accuracy: 0.9497 - val_loss: 0.4561 - val_accuracy: 0.8442\n",
      "Epoch 8/10\n",
      "50/50 [==============================] - 1s 17ms/step - loss: 0.3595 - accuracy: 0.9635 - val_loss: 0.4587 - val_accuracy: 0.8442\n",
      "Epoch 9/10\n",
      "50/50 [==============================] - 1s 17ms/step - loss: 0.3460 - accuracy: 0.9736 - val_loss: 0.4543 - val_accuracy: 0.8492\n",
      "Epoch 10/10\n",
      "50/50 [==============================] - 1s 16ms/step - loss: 0.3485 - accuracy: 0.9698 - val_loss: 0.4568 - val_accuracy: 0.8543\n"
     ]
    }
   ],
   "source": [
    "# Fit the model\n",
    "history = model.fit(X_train, Y_train,\n",
    "          batch_size=batch_size,\n",
    "          shuffle=True,\n",
    "          epochs=nb_epochs,\n",
    "          validation_data=(X_test, Y_test))"
   ]
  },
  {
   "cell_type": "code",
   "execution_count": 16,
   "metadata": {},
   "outputs": [
    {
     "name": "stdout",
     "output_type": "stream",
     "text": [
      "7/7 [==============================] - 0s 9ms/step - loss: 0.4568 - accuracy: 0.8543\n",
      "Loss:  0.457\n",
      "Accuracy:  0.854\n"
     ]
    }
   ],
   "source": [
    "loss, accuracy = model.evaluate(X_test, Y_test)\n",
    "\n",
    "print(\"Loss: \", \"%.3f\" % loss)\n",
    "print(\"Accuracy: \", \"%.3f\" % accuracy)"
   ]
  },
  {
   "cell_type": "markdown",
   "metadata": {},
   "source": [
    "# Graph"
   ]
  },
  {
   "cell_type": "code",
   "execution_count": 17,
   "metadata": {},
   "outputs": [
    {
     "data": {
      "text/plain": [
       "dict_keys(['loss', 'accuracy', 'val_loss', 'val_accuracy'])"
      ]
     },
     "execution_count": 17,
     "metadata": {},
     "output_type": "execute_result"
    }
   ],
   "source": [
    "history_dict = history.history\n",
    "history_dict.keys()"
   ]
  },
  {
   "cell_type": "code",
   "execution_count": 18,
   "metadata": {},
   "outputs": [
    {
     "data": {
      "image/png": "[encoded data removed]",
      "text/plain": [
       "<Figure size 432x288 with 1 Axes>"
      ]
     },
     "metadata": {
      "needs_background": "light"
     },
     "output_type": "display_data"
    }
   ],
   "source": [
    "acc = history_dict['accuracy']\n",
    "val_acc = history_dict['val_accuracy']\n",
    "loss = history_dict['loss']\n",
    "val_loss = history_dict['val_loss']\n",
    "\n",
    "epochs = range(1, len(acc) + 1)\n",
    "\n",
    "# \"bo\" is for \"blue dot\"\n",
    "plt.plot(epochs, loss, 'bo', label='Training loss')\n",
    "# b is for \"solid blue line\"\n",
    "plt.plot(epochs, val_loss, 'b', label='Validation loss')\n",
    "plt.title('Training and validation loss')\n",
    "plt.xlabel('Epochs')\n",
    "plt.ylabel('Loss')\n",
    "plt.legend()\n",
    "\n",
    "plt.show()"
   ]
  },
  {
   "cell_type": "code",
   "execution_count": 19,
   "metadata": {},
   "outputs": [
    {
     "data": {
      "image/png": "[encoded data removed]",
      "text/plain": [
       "<Figure size 432x288 with 1 Axes>"
      ]
     },
     "metadata": {
      "needs_background": "light"
     },
     "output_type": "display_data"
    }
   ],
   "source": [
    "plt.plot(history.history['loss'], label='Training loss')\n",
    "plt.plot(history.history['val_loss'], label='Validation loss')\n",
    "plt.title('Training and validation loss')\n",
    "plt.xlabel('Epochs')\n",
    "plt.ylabel('Loss')\n",
    "plt.legend();\n",
    "plt.show()"
   ]
  },
  {
   "cell_type": "code",
   "execution_count": 20,
   "metadata": {},
   "outputs": [
    {
     "data": {
      "image/png": "[encoded data removed]",
      "text/plain": [
       "<Figure size 432x288 with 1 Axes>"
      ]
     },
     "metadata": {
      "needs_background": "light"
     },
     "output_type": "display_data"
    }
   ],
   "source": [
    "plt.clf()   # clear figure\n",
    "\n",
    "plt.plot(epochs, acc, 'bo', label='Training acc')\n",
    "plt.plot(epochs, val_acc, 'b', label='Validation acc')\n",
    "plt.title('Training and validation accuracy')\n",
    "plt.xlabel('Epochs')\n",
    "plt.ylabel('Accuracy')\n",
    "plt.legend(loc='lower right')\n",
    "\n",
    "plt.show()"
   ]
  },
  {
   "cell_type": "code",
   "execution_count": 21,
   "metadata": {},
   "outputs": [
    {
     "data": {
      "image/png": "[encoded data removed]",
      "text/plain": [
       "<Figure size 432x288 with 1 Axes>"
      ]
     },
     "metadata": {
      "needs_background": "light"
     },
     "output_type": "display_data"
    }
   ],
   "source": [
    "plt.plot(history.history['accuracy'], label='Training accuracy')\n",
    "plt.plot(history.history['val_accuracy'], label='Validation accuracy')\n",
    "plt.title('Training and validation accuracy')\n",
    "plt.xlabel('Epochs')\n",
    "plt.ylabel('Accuracy')\n",
    "plt.legend(loc='lower right')\n",
    "plt.show()"
   ]
  },
  {
   "cell_type": "markdown",
   "metadata": {},
   "source": [
    "# Predictions"
   ]
  },
  {
   "cell_type": "code",
   "execution_count": 51,
   "metadata": {},
   "outputs": [],
   "source": [
    "def evaluate_phrase(tweet, model, word2vec, max_length, vector_size):\n",
    "    #Tokenisation\n",
    "    tkr = RegexpTokenizer('[a-zA-Z0-9@]+')\n",
    "    tokens = [t for t in tkr.tokenize(tweet) if not t.startswith('@')]\n",
    "    \n",
    "    vectorized_tweet = np.zeros((1,max_tweet_length, vector_size), dtype=K.floatx())\n",
    "    \n",
    "    for i, token in enumerate(tokens):\n",
    "        if token in word2vec.wv.vocab:\n",
    "            vectorized_tweet[0][i] = word2vec.wv.__getitem__(token)\n",
    "        \n",
    "    prediction = model.predict(vectorized_tweet)\n",
    "    print(\"NS: {:.2f}%\".format(prediction[0][0]*100) + \" S: {:.2f}%\".format(prediction[0][1]*100))\n",
    "    print(\"Non sarcasm\" if prediction[0][0]>prediction[0][1] else \"Sarcasm\")"
   ]
  },
  {
   "cell_type": "code",
   "execution_count": 52,
   "metadata": {},
   "outputs": [
    {
     "name": "stdout",
     "output_type": "stream",
     "text": [
      "NS: 0.27% S: 99.73%\n",
      "Sarcasm\n"
     ]
    }
   ],
   "source": [
    "evaluate_phrase(\"Let's downvote someone just for misunderstanding!\", model, word2vec, max_tweet_length, vector_size)"
   ]
  }
 ],
 "metadata": {
  "kernelspec": {
   "display_name": "Python 3",
   "language": "python",
   "name": "python3"
  },
  "language_info": {
   "codemirror_mode": {
    "name": "ipython",
    "version": 3
   },
   "file_extension": ".py",
   "mimetype": "text/x-python",
   "name": "python",
   "nbconvert_exporter": "python",
   "pygments_lexer": "ipython3",
   "version": "3.7.6"
  }
 },
 "nbformat": 4,
 "nbformat_minor": 2
}
