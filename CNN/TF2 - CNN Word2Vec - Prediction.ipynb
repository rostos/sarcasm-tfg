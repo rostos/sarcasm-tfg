{
 "cells": [
  {
   "cell_type": "code",
   "execution_count": 1,
   "metadata": {},
   "outputs": [],
   "source": [
    "import tensorflow.keras.backend as K\n",
    "import multiprocessing\n",
    "\n",
    "import tensorflow as tf\n",
    "from tensorflow import keras\n",
    "\n",
    "import numpy as np\n",
    "import matplotlib.pyplot as plt\n",
    "import csv\n",
    "import math\n",
    "import random\n",
    "import logging\n",
    "\n",
    "from gensim.models.word2vec import Word2Vec\n",
    "\n",
    "from nltk.stem.lancaster import LancasterStemmer\n",
    "from nltk.tokenize import RegexpTokenizer"
   ]
  },
  {
   "cell_type": "code",
   "execution_count": 2,
   "metadata": {},
   "outputs": [],
   "source": [
    "# Set random seed (for reproducibility)\n",
    "np.random.seed(1000)"
   ]
  },
  {
   "cell_type": "code",
   "execution_count": 3,
   "metadata": {},
   "outputs": [],
   "source": [
    "#dataset_location = './datasets/sarcasm_v2.csv'\n",
    "dataset_location = './datasets/text_and_annorations.csv'\n",
    "model_location = './word2vec/'\n",
    "\n",
    "corpus = []\n",
    "labels = []"
   ]
  },
  {
   "cell_type": "code",
   "execution_count": 4,
   "metadata": {},
   "outputs": [],
   "source": [
    "#Shuffle the dataset\n",
    "\n",
    "ip=open(dataset_location,'r', encoding=\"utf8\")\n",
    "next(ip)   #ignore the first row (label row)\n",
    "li = ip.readlines()\n",
    "random.shuffle(li)\n",
    "\n",
    "#dataset_location = './datasets/shuffled_sarcasm_v2.csv'\n",
    "dataset_location = './datasets/shuffled_text_and_annotations.csv'\n",
    "\n",
    "fid = open(dataset_location, \"w\", encoding=\"utf8\")\n",
    "fid.writelines(li)\n",
    "fid.close()"
   ]
  },
  {
   "cell_type": "code",
   "execution_count": 5,
   "metadata": {},
   "outputs": [
    {
     "name": "stdout",
     "output_type": "stream",
     "text": [
      "Corpus size: 994\n"
     ]
    }
   ],
   "source": [
    "# Parse tweets and sentiments       \n",
    "with open(dataset_location, 'r', encoding=\"utf8\") as csvDataFile:\n",
    "    csvReader = csv.reader(csvDataFile)\n",
    "    \n",
    "    #skip the first line?\n",
    "    #next(csvReader)\n",
    "    \n",
    "    for row in csvReader:\n",
    "        #corpus.append(row[3] + \" - \" + row[4])\n",
    "        corpus.append(row[1])\n",
    "\n",
    "        #Sarcasm label, (0 = not sarcasm, 1 = sarcasm)\n",
    "        #pol = 1 if row[1] == 'sarc' else 0\n",
    "        pol = 1 if row[5] == 'Yes' else 0\n",
    "        labels.append(pol)\n",
    "        \n",
    "print('Corpus size: {}'.format(len(corpus)))"
   ]
  },
  {
   "cell_type": "code",
   "execution_count": 6,
   "metadata": {},
   "outputs": [],
   "source": [
    "# Tokenize and stem\n",
    "tkr = RegexpTokenizer('[a-zA-Z0-9@]+')\n",
    "#stemmer = LancasterStemmer()\n",
    "\n",
    "tokenized_corpus = []\n",
    "\n",
    "for i, tweet in enumerate(corpus):\n",
    "    #tokens = [stemmer.stem(t) for t in tkr.tokenize(tweet) if not t.startswith('@')]\n",
    "    tokens = [t for t in tkr.tokenize(tweet) if not t.startswith('@')]\n",
    "    tokenized_corpus.append(tokens)"
   ]
  },
  {
   "cell_type": "code",
   "execution_count": 7,
   "metadata": {},
   "outputs": [],
   "source": [
    "# Gensim Word2Vec model\n",
    "vector_size = 300\n",
    "window_size = 10"
   ]
  },
  {
   "cell_type": "code",
   "execution_count": 8,
   "metadata": {},
   "outputs": [
    {
     "name": "stderr",
     "output_type": "stream",
     "text": [
      "2020-06-04 13:43:31,560 : INFO : collecting all words and their counts\n",
      "2020-06-04 13:43:31,561 : INFO : PROGRESS: at sentence #0, processed 0 words, keeping 0 word types\n",
      "2020-06-04 13:43:31,567 : INFO : collected 4545 word types from a corpus of 23411 raw words and 994 sentences\n",
      "2020-06-04 13:43:31,568 : INFO : Loading a fresh vocabulary\n",
      "2020-06-04 13:43:31,572 : INFO : effective_min_count=5 retains 636 unique words (13% of original 4545, drops 3909)\n",
      "2020-06-04 13:43:31,573 : INFO : effective_min_count=5 leaves 17755 word corpus (75% of original 23411, drops 5656)\n",
      "2020-06-04 13:43:31,577 : INFO : deleting the raw counts dictionary of 4545 items\n",
      "2020-06-04 13:43:31,578 : INFO : sample=0.001 downsamples 72 most-common words\n",
      "2020-06-04 13:43:31,579 : INFO : downsampling leaves estimated 11628 word corpus (65.5% of prior 17755)\n",
      "2020-06-04 13:43:31,581 : INFO : estimated required memory for 636 words and 300 dimensions: 1844400 bytes\n",
      "2020-06-04 13:43:31,582 : INFO : resetting layer weights\n",
      "2020-06-04 13:43:31,600 : INFO : training model with 4 workers on 636 vocabulary and 300 features, using sg=1 hs=0 sample=0.001 negative=20 window=10\n",
      "2020-06-04 13:43:31,606 : INFO : worker thread finished; awaiting finish of 3 more threads\n",
      "2020-06-04 13:43:31,689 : INFO : worker thread finished; awaiting finish of 2 more threads\n",
      "2020-06-04 13:43:31,819 : INFO : worker thread finished; awaiting finish of 1 more threads\n",
      "2020-06-04 13:43:31,832 : INFO : worker thread finished; awaiting finish of 0 more threads\n",
      "2020-06-04 13:43:31,833 : INFO : EPOCH - 1 : training on 23411 raw words (11564 effective words) took 0.2s, 50634 effective words/s\n",
      "2020-06-04 13:43:31,840 : INFO : worker thread finished; awaiting finish of 3 more threads\n",
      "2020-06-04 13:43:31,921 : INFO : worker thread finished; awaiting finish of 2 more threads\n",
      "2020-06-04 13:43:32,058 : INFO : worker thread finished; awaiting finish of 1 more threads\n",
      "2020-06-04 13:43:32,067 : INFO : worker thread finished; awaiting finish of 0 more threads\n",
      "2020-06-04 13:43:32,068 : INFO : EPOCH - 2 : training on 23411 raw words (11616 effective words) took 0.2s, 50055 effective words/s\n",
      "2020-06-04 13:43:32,076 : INFO : worker thread finished; awaiting finish of 3 more threads\n",
      "2020-06-04 13:43:32,159 : INFO : worker thread finished; awaiting finish of 2 more threads\n",
      "2020-06-04 13:43:32,301 : INFO : worker thread finished; awaiting finish of 1 more threads\n",
      "2020-06-04 13:43:32,313 : INFO : worker thread finished; awaiting finish of 0 more threads\n",
      "2020-06-04 13:43:32,314 : INFO : EPOCH - 3 : training on 23411 raw words (11628 effective words) took 0.2s, 48317 effective words/s\n",
      "2020-06-04 13:43:32,320 : INFO : worker thread finished; awaiting finish of 3 more threads\n",
      "2020-06-04 13:43:32,400 : INFO : worker thread finished; awaiting finish of 2 more threads\n",
      "2020-06-04 13:43:32,546 : INFO : worker thread finished; awaiting finish of 1 more threads\n",
      "2020-06-04 13:43:32,554 : INFO : worker thread finished; awaiting finish of 0 more threads\n",
      "2020-06-04 13:43:32,555 : INFO : EPOCH - 4 : training on 23411 raw words (11630 effective words) took 0.2s, 48962 effective words/s\n",
      "2020-06-04 13:43:32,562 : INFO : worker thread finished; awaiting finish of 3 more threads\n",
      "2020-06-04 13:43:32,647 : INFO : worker thread finished; awaiting finish of 2 more threads\n",
      "2020-06-04 13:43:32,780 : INFO : worker thread finished; awaiting finish of 1 more threads\n",
      "2020-06-04 13:43:32,792 : INFO : worker thread finished; awaiting finish of 0 more threads\n",
      "2020-06-04 13:43:32,793 : INFO : EPOCH - 5 : training on 23411 raw words (11661 effective words) took 0.2s, 49630 effective words/s\n",
      "2020-06-04 13:43:32,799 : INFO : worker thread finished; awaiting finish of 3 more threads\n",
      "2020-06-04 13:43:32,882 : INFO : worker thread finished; awaiting finish of 2 more threads\n",
      "2020-06-04 13:43:33,020 : INFO : worker thread finished; awaiting finish of 1 more threads\n",
      "2020-06-04 13:43:33,038 : INFO : worker thread finished; awaiting finish of 0 more threads\n",
      "2020-06-04 13:43:33,039 : INFO : EPOCH - 6 : training on 23411 raw words (11629 effective words) took 0.2s, 48529 effective words/s\n",
      "2020-06-04 13:43:33,045 : INFO : worker thread finished; awaiting finish of 3 more threads\n",
      "2020-06-04 13:43:33,127 : INFO : worker thread finished; awaiting finish of 2 more threads\n",
      "2020-06-04 13:43:33,260 : INFO : worker thread finished; awaiting finish of 1 more threads\n",
      "2020-06-04 13:43:33,274 : INFO : worker thread finished; awaiting finish of 0 more threads\n",
      "2020-06-04 13:43:33,275 : INFO : EPOCH - 7 : training on 23411 raw words (11512 effective words) took 0.2s, 49523 effective words/s\n",
      "2020-06-04 13:43:33,282 : INFO : worker thread finished; awaiting finish of 3 more threads\n",
      "2020-06-04 13:43:33,367 : INFO : worker thread finished; awaiting finish of 2 more threads\n",
      "2020-06-04 13:43:33,497 : INFO : worker thread finished; awaiting finish of 1 more threads\n",
      "2020-06-04 13:43:33,513 : INFO : worker thread finished; awaiting finish of 0 more threads\n",
      "2020-06-04 13:43:33,514 : INFO : EPOCH - 8 : training on 23411 raw words (11598 effective words) took 0.2s, 49334 effective words/s\n",
      "2020-06-04 13:43:33,521 : INFO : worker thread finished; awaiting finish of 3 more threads\n",
      "2020-06-04 13:43:33,607 : INFO : worker thread finished; awaiting finish of 2 more threads\n",
      "2020-06-04 13:43:33,748 : INFO : worker thread finished; awaiting finish of 1 more threads\n",
      "2020-06-04 13:43:33,758 : INFO : worker thread finished; awaiting finish of 0 more threads\n",
      "2020-06-04 13:43:33,759 : INFO : EPOCH - 9 : training on 23411 raw words (11680 effective words) took 0.2s, 48454 effective words/s\n",
      "2020-06-04 13:43:33,766 : INFO : worker thread finished; awaiting finish of 3 more threads\n",
      "2020-06-04 13:43:33,849 : INFO : worker thread finished; awaiting finish of 2 more threads\n",
      "2020-06-04 13:43:33,998 : INFO : worker thread finished; awaiting finish of 1 more threads\n",
      "2020-06-04 13:43:34,009 : INFO : worker thread finished; awaiting finish of 0 more threads\n",
      "2020-06-04 13:43:34,010 : INFO : EPOCH - 10 : training on 23411 raw words (11613 effective words) took 0.2s, 47012 effective words/s\n",
      "2020-06-04 13:43:34,017 : INFO : worker thread finished; awaiting finish of 3 more threads\n",
      "2020-06-04 13:43:34,099 : INFO : worker thread finished; awaiting finish of 2 more threads\n",
      "2020-06-04 13:43:34,235 : INFO : worker thread finished; awaiting finish of 1 more threads\n",
      "2020-06-04 13:43:34,250 : INFO : worker thread finished; awaiting finish of 0 more threads\n",
      "2020-06-04 13:43:34,251 : INFO : EPOCH - 11 : training on 23411 raw words (11661 effective words) took 0.2s, 49150 effective words/s\n",
      "2020-06-04 13:43:34,260 : INFO : worker thread finished; awaiting finish of 3 more threads\n",
      "2020-06-04 13:43:34,342 : INFO : worker thread finished; awaiting finish of 2 more threads\n",
      "2020-06-04 13:43:34,477 : INFO : worker thread finished; awaiting finish of 1 more threads\n",
      "2020-06-04 13:43:34,491 : INFO : worker thread finished; awaiting finish of 0 more threads\n",
      "2020-06-04 13:43:34,492 : INFO : EPOCH - 12 : training on 23411 raw words (11584 effective words) took 0.2s, 49300 effective words/s\n",
      "2020-06-04 13:43:34,498 : INFO : worker thread finished; awaiting finish of 3 more threads\n",
      "2020-06-04 13:43:34,581 : INFO : worker thread finished; awaiting finish of 2 more threads\n",
      "2020-06-04 13:43:34,713 : INFO : worker thread finished; awaiting finish of 1 more threads\n",
      "2020-06-04 13:43:34,728 : INFO : worker thread finished; awaiting finish of 0 more threads\n",
      "2020-06-04 13:43:34,728 : INFO : EPOCH - 13 : training on 23411 raw words (11582 effective words) took 0.2s, 49769 effective words/s\n",
      "2020-06-04 13:43:34,734 : INFO : worker thread finished; awaiting finish of 3 more threads\n",
      "2020-06-04 13:43:34,820 : INFO : worker thread finished; awaiting finish of 2 more threads\n",
      "2020-06-04 13:43:34,955 : INFO : worker thread finished; awaiting finish of 1 more threads\n",
      "2020-06-04 13:43:34,972 : INFO : worker thread finished; awaiting finish of 0 more threads\n",
      "2020-06-04 13:43:34,974 : INFO : EPOCH - 14 : training on 23411 raw words (11614 effective words) took 0.2s, 48013 effective words/s\n",
      "2020-06-04 13:43:34,984 : INFO : worker thread finished; awaiting finish of 3 more threads\n",
      "2020-06-04 13:43:35,071 : INFO : worker thread finished; awaiting finish of 2 more threads\n"
     ]
    },
    {
     "name": "stderr",
     "output_type": "stream",
     "text": [
      "2020-06-04 13:43:35,214 : INFO : worker thread finished; awaiting finish of 1 more threads\n",
      "2020-06-04 13:43:35,216 : INFO : worker thread finished; awaiting finish of 0 more threads\n",
      "2020-06-04 13:43:35,217 : INFO : EPOCH - 15 : training on 23411 raw words (11609 effective words) took 0.2s, 48538 effective words/s\n",
      "2020-06-04 13:43:35,224 : INFO : worker thread finished; awaiting finish of 3 more threads\n",
      "2020-06-04 13:43:35,312 : INFO : worker thread finished; awaiting finish of 2 more threads\n",
      "2020-06-04 13:43:35,446 : INFO : worker thread finished; awaiting finish of 1 more threads\n",
      "2020-06-04 13:43:35,458 : INFO : worker thread finished; awaiting finish of 0 more threads\n",
      "2020-06-04 13:43:35,459 : INFO : EPOCH - 16 : training on 23411 raw words (11616 effective words) took 0.2s, 48806 effective words/s\n",
      "2020-06-04 13:43:35,465 : INFO : worker thread finished; awaiting finish of 3 more threads\n",
      "2020-06-04 13:43:35,544 : INFO : worker thread finished; awaiting finish of 2 more threads\n",
      "2020-06-04 13:43:35,680 : INFO : worker thread finished; awaiting finish of 1 more threads\n",
      "2020-06-04 13:43:35,698 : INFO : worker thread finished; awaiting finish of 0 more threads\n",
      "2020-06-04 13:43:35,699 : INFO : EPOCH - 17 : training on 23411 raw words (11638 effective words) took 0.2s, 49180 effective words/s\n",
      "2020-06-04 13:43:35,705 : INFO : worker thread finished; awaiting finish of 3 more threads\n",
      "2020-06-04 13:43:35,790 : INFO : worker thread finished; awaiting finish of 2 more threads\n",
      "2020-06-04 13:43:35,926 : INFO : worker thread finished; awaiting finish of 1 more threads\n",
      "2020-06-04 13:43:35,943 : INFO : worker thread finished; awaiting finish of 0 more threads\n",
      "2020-06-04 13:43:35,944 : INFO : EPOCH - 18 : training on 23411 raw words (11610 effective words) took 0.2s, 48540 effective words/s\n",
      "2020-06-04 13:43:35,951 : INFO : worker thread finished; awaiting finish of 3 more threads\n",
      "2020-06-04 13:43:36,036 : INFO : worker thread finished; awaiting finish of 2 more threads\n",
      "2020-06-04 13:43:36,166 : INFO : worker thread finished; awaiting finish of 1 more threads\n",
      "2020-06-04 13:43:36,180 : INFO : worker thread finished; awaiting finish of 0 more threads\n",
      "2020-06-04 13:43:36,181 : INFO : EPOCH - 19 : training on 23411 raw words (11561 effective words) took 0.2s, 49955 effective words/s\n",
      "2020-06-04 13:43:36,188 : INFO : worker thread finished; awaiting finish of 3 more threads\n",
      "2020-06-04 13:43:36,270 : INFO : worker thread finished; awaiting finish of 2 more threads\n",
      "2020-06-04 13:43:36,403 : INFO : worker thread finished; awaiting finish of 1 more threads\n",
      "2020-06-04 13:43:36,414 : INFO : worker thread finished; awaiting finish of 0 more threads\n",
      "2020-06-04 13:43:36,415 : INFO : EPOCH - 20 : training on 23411 raw words (11648 effective words) took 0.2s, 50573 effective words/s\n",
      "2020-06-04 13:43:36,422 : INFO : worker thread finished; awaiting finish of 3 more threads\n",
      "2020-06-04 13:43:36,505 : INFO : worker thread finished; awaiting finish of 2 more threads\n",
      "2020-06-04 13:43:36,637 : INFO : worker thread finished; awaiting finish of 1 more threads\n",
      "2020-06-04 13:43:36,647 : INFO : worker thread finished; awaiting finish of 0 more threads\n",
      "2020-06-04 13:43:36,648 : INFO : EPOCH - 21 : training on 23411 raw words (11647 effective words) took 0.2s, 50947 effective words/s\n",
      "2020-06-04 13:43:36,654 : INFO : worker thread finished; awaiting finish of 3 more threads\n",
      "2020-06-04 13:43:36,740 : INFO : worker thread finished; awaiting finish of 2 more threads\n",
      "2020-06-04 13:43:36,864 : INFO : worker thread finished; awaiting finish of 1 more threads\n",
      "2020-06-04 13:43:36,876 : INFO : worker thread finished; awaiting finish of 0 more threads\n",
      "2020-06-04 13:43:36,877 : INFO : EPOCH - 22 : training on 23411 raw words (11506 effective words) took 0.2s, 51054 effective words/s\n",
      "2020-06-04 13:43:36,884 : INFO : worker thread finished; awaiting finish of 3 more threads\n",
      "2020-06-04 13:43:36,967 : INFO : worker thread finished; awaiting finish of 2 more threads\n",
      "2020-06-04 13:43:37,105 : INFO : worker thread finished; awaiting finish of 1 more threads\n",
      "2020-06-04 13:43:37,114 : INFO : worker thread finished; awaiting finish of 0 more threads\n",
      "2020-06-04 13:43:37,115 : INFO : EPOCH - 23 : training on 23411 raw words (11635 effective words) took 0.2s, 49561 effective words/s\n",
      "2020-06-04 13:43:37,122 : INFO : worker thread finished; awaiting finish of 3 more threads\n",
      "2020-06-04 13:43:37,203 : INFO : worker thread finished; awaiting finish of 2 more threads\n",
      "2020-06-04 13:43:37,332 : INFO : worker thread finished; awaiting finish of 1 more threads\n",
      "2020-06-04 13:43:37,348 : INFO : worker thread finished; awaiting finish of 0 more threads\n",
      "2020-06-04 13:43:37,349 : INFO : EPOCH - 24 : training on 23411 raw words (11539 effective words) took 0.2s, 50246 effective words/s\n",
      "2020-06-04 13:43:37,356 : INFO : worker thread finished; awaiting finish of 3 more threads\n",
      "2020-06-04 13:43:37,442 : INFO : worker thread finished; awaiting finish of 2 more threads\n",
      "2020-06-04 13:43:37,570 : INFO : worker thread finished; awaiting finish of 1 more threads\n",
      "2020-06-04 13:43:37,585 : INFO : worker thread finished; awaiting finish of 0 more threads\n",
      "2020-06-04 13:43:37,586 : INFO : EPOCH - 25 : training on 23411 raw words (11641 effective words) took 0.2s, 49879 effective words/s\n",
      "2020-06-04 13:43:37,594 : INFO : worker thread finished; awaiting finish of 3 more threads\n",
      "2020-06-04 13:43:37,672 : INFO : worker thread finished; awaiting finish of 2 more threads\n",
      "2020-06-04 13:43:37,814 : INFO : worker thread finished; awaiting finish of 1 more threads\n",
      "2020-06-04 13:43:37,821 : INFO : worker thread finished; awaiting finish of 0 more threads\n",
      "2020-06-04 13:43:37,822 : INFO : EPOCH - 26 : training on 23411 raw words (11658 effective words) took 0.2s, 50434 effective words/s\n",
      "2020-06-04 13:43:37,829 : INFO : worker thread finished; awaiting finish of 3 more threads\n",
      "2020-06-04 13:43:37,911 : INFO : worker thread finished; awaiting finish of 2 more threads\n",
      "2020-06-04 13:43:38,041 : INFO : worker thread finished; awaiting finish of 1 more threads\n",
      "2020-06-04 13:43:38,058 : INFO : worker thread finished; awaiting finish of 0 more threads\n",
      "2020-06-04 13:43:38,059 : INFO : EPOCH - 27 : training on 23411 raw words (11637 effective words) took 0.2s, 49990 effective words/s\n",
      "2020-06-04 13:43:38,066 : INFO : worker thread finished; awaiting finish of 3 more threads\n",
      "2020-06-04 13:43:38,149 : INFO : worker thread finished; awaiting finish of 2 more threads\n",
      "2020-06-04 13:43:38,283 : INFO : worker thread finished; awaiting finish of 1 more threads\n",
      "2020-06-04 13:43:38,296 : INFO : worker thread finished; awaiting finish of 0 more threads\n",
      "2020-06-04 13:43:38,297 : INFO : EPOCH - 28 : training on 23411 raw words (11638 effective words) took 0.2s, 49817 effective words/s\n",
      "2020-06-04 13:43:38,304 : INFO : worker thread finished; awaiting finish of 3 more threads\n",
      "2020-06-04 13:43:38,387 : INFO : worker thread finished; awaiting finish of 2 more threads\n",
      "2020-06-04 13:43:38,531 : INFO : worker thread finished; awaiting finish of 1 more threads\n",
      "2020-06-04 13:43:38,539 : INFO : worker thread finished; awaiting finish of 0 more threads\n",
      "2020-06-04 13:43:38,540 : INFO : EPOCH - 29 : training on 23411 raw words (11599 effective words) took 0.2s, 48621 effective words/s\n",
      "2020-06-04 13:43:38,547 : INFO : worker thread finished; awaiting finish of 3 more threads\n",
      "2020-06-04 13:43:38,629 : INFO : worker thread finished; awaiting finish of 2 more threads\n",
      "2020-06-04 13:43:38,766 : INFO : worker thread finished; awaiting finish of 1 more threads\n",
      "2020-06-04 13:43:38,777 : INFO : worker thread finished; awaiting finish of 0 more threads\n",
      "2020-06-04 13:43:38,779 : INFO : EPOCH - 30 : training on 23411 raw words (11611 effective words) took 0.2s, 49539 effective words/s\n",
      "2020-06-04 13:43:38,787 : INFO : worker thread finished; awaiting finish of 3 more threads\n",
      "2020-06-04 13:43:38,863 : INFO : worker thread finished; awaiting finish of 2 more threads\n",
      "2020-06-04 13:43:38,998 : INFO : worker thread finished; awaiting finish of 1 more threads\n",
      "2020-06-04 13:43:39,020 : INFO : worker thread finished; awaiting finish of 0 more threads\n",
      "2020-06-04 13:43:39,021 : INFO : EPOCH - 31 : training on 23411 raw words (11600 effective words) took 0.2s, 48644 effective words/s\n"
     ]
    },
    {
     "name": "stderr",
     "output_type": "stream",
     "text": [
      "2020-06-04 13:43:39,028 : INFO : worker thread finished; awaiting finish of 3 more threads\n",
      "2020-06-04 13:43:39,109 : INFO : worker thread finished; awaiting finish of 2 more threads\n",
      "2020-06-04 13:43:39,239 : INFO : worker thread finished; awaiting finish of 1 more threads\n",
      "2020-06-04 13:43:39,253 : INFO : worker thread finished; awaiting finish of 0 more threads\n",
      "2020-06-04 13:43:39,255 : INFO : EPOCH - 32 : training on 23411 raw words (11570 effective words) took 0.2s, 50433 effective words/s\n",
      "2020-06-04 13:43:39,261 : INFO : worker thread finished; awaiting finish of 3 more threads\n",
      "2020-06-04 13:43:39,345 : INFO : worker thread finished; awaiting finish of 2 more threads\n",
      "2020-06-04 13:43:39,478 : INFO : worker thread finished; awaiting finish of 1 more threads\n",
      "2020-06-04 13:43:39,494 : INFO : worker thread finished; awaiting finish of 0 more threads\n",
      "2020-06-04 13:43:39,495 : INFO : EPOCH - 33 : training on 23411 raw words (11602 effective words) took 0.2s, 48902 effective words/s\n",
      "2020-06-04 13:43:39,502 : INFO : worker thread finished; awaiting finish of 3 more threads\n",
      "2020-06-04 13:43:39,586 : INFO : worker thread finished; awaiting finish of 2 more threads\n",
      "2020-06-04 13:43:39,720 : INFO : worker thread finished; awaiting finish of 1 more threads\n",
      "2020-06-04 13:43:39,733 : INFO : worker thread finished; awaiting finish of 0 more threads\n",
      "2020-06-04 13:43:39,734 : INFO : EPOCH - 34 : training on 23411 raw words (11636 effective words) took 0.2s, 49497 effective words/s\n",
      "2020-06-04 13:43:39,742 : INFO : worker thread finished; awaiting finish of 3 more threads\n",
      "2020-06-04 13:43:39,866 : INFO : worker thread finished; awaiting finish of 2 more threads\n",
      "2020-06-04 13:43:39,974 : INFO : worker thread finished; awaiting finish of 1 more threads\n",
      "2020-06-04 13:43:40,003 : INFO : worker thread finished; awaiting finish of 0 more threads\n",
      "2020-06-04 13:43:40,004 : INFO : EPOCH - 35 : training on 23411 raw words (11640 effective words) took 0.3s, 43858 effective words/s\n",
      "2020-06-04 13:43:40,011 : INFO : worker thread finished; awaiting finish of 3 more threads\n",
      "2020-06-04 13:43:40,091 : INFO : worker thread finished; awaiting finish of 2 more threads\n",
      "2020-06-04 13:43:40,230 : INFO : worker thread finished; awaiting finish of 1 more threads\n",
      "2020-06-04 13:43:40,238 : INFO : worker thread finished; awaiting finish of 0 more threads\n",
      "2020-06-04 13:43:40,239 : INFO : EPOCH - 36 : training on 23411 raw words (11581 effective words) took 0.2s, 50298 effective words/s\n",
      "2020-06-04 13:43:40,245 : INFO : worker thread finished; awaiting finish of 3 more threads\n",
      "2020-06-04 13:43:40,326 : INFO : worker thread finished; awaiting finish of 2 more threads\n",
      "2020-06-04 13:43:40,457 : INFO : worker thread finished; awaiting finish of 1 more threads\n",
      "2020-06-04 13:43:40,475 : INFO : worker thread finished; awaiting finish of 0 more threads\n",
      "2020-06-04 13:43:40,477 : INFO : EPOCH - 37 : training on 23411 raw words (11684 effective words) took 0.2s, 49942 effective words/s\n",
      "2020-06-04 13:43:40,483 : INFO : worker thread finished; awaiting finish of 3 more threads\n",
      "2020-06-04 13:43:40,573 : INFO : worker thread finished; awaiting finish of 2 more threads\n",
      "2020-06-04 13:43:40,707 : INFO : worker thread finished; awaiting finish of 1 more threads\n",
      "2020-06-04 13:43:40,725 : INFO : worker thread finished; awaiting finish of 0 more threads\n",
      "2020-06-04 13:43:40,726 : INFO : EPOCH - 38 : training on 23411 raw words (11561 effective words) took 0.2s, 47101 effective words/s\n",
      "2020-06-04 13:43:40,733 : INFO : worker thread finished; awaiting finish of 3 more threads\n",
      "2020-06-04 13:43:40,818 : INFO : worker thread finished; awaiting finish of 2 more threads\n",
      "2020-06-04 13:43:40,948 : INFO : worker thread finished; awaiting finish of 1 more threads\n",
      "2020-06-04 13:43:40,965 : INFO : worker thread finished; awaiting finish of 0 more threads\n",
      "2020-06-04 13:43:40,966 : INFO : EPOCH - 39 : training on 23411 raw words (11602 effective words) took 0.2s, 49317 effective words/s\n",
      "2020-06-04 13:43:40,972 : INFO : worker thread finished; awaiting finish of 3 more threads\n",
      "2020-06-04 13:43:41,056 : INFO : worker thread finished; awaiting finish of 2 more threads\n",
      "2020-06-04 13:43:41,192 : INFO : worker thread finished; awaiting finish of 1 more threads\n",
      "2020-06-04 13:43:41,211 : INFO : worker thread finished; awaiting finish of 0 more threads\n",
      "2020-06-04 13:43:41,212 : INFO : EPOCH - 40 : training on 23411 raw words (11579 effective words) took 0.2s, 47811 effective words/s\n",
      "2020-06-04 13:43:41,218 : INFO : worker thread finished; awaiting finish of 3 more threads\n",
      "2020-06-04 13:43:41,298 : INFO : worker thread finished; awaiting finish of 2 more threads\n",
      "2020-06-04 13:43:41,437 : INFO : worker thread finished; awaiting finish of 1 more threads\n",
      "2020-06-04 13:43:41,449 : INFO : worker thread finished; awaiting finish of 0 more threads\n",
      "2020-06-04 13:43:41,450 : INFO : EPOCH - 41 : training on 23411 raw words (11569 effective words) took 0.2s, 49243 effective words/s\n",
      "2020-06-04 13:43:41,457 : INFO : worker thread finished; awaiting finish of 3 more threads\n",
      "2020-06-04 13:43:41,537 : INFO : worker thread finished; awaiting finish of 2 more threads\n",
      "2020-06-04 13:43:41,680 : INFO : worker thread finished; awaiting finish of 1 more threads\n",
      "2020-06-04 13:43:41,682 : INFO : worker thread finished; awaiting finish of 0 more threads\n",
      "2020-06-04 13:43:41,683 : INFO : EPOCH - 42 : training on 23411 raw words (11694 effective words) took 0.2s, 51164 effective words/s\n",
      "2020-06-04 13:43:41,690 : INFO : worker thread finished; awaiting finish of 3 more threads\n",
      "2020-06-04 13:43:41,773 : INFO : worker thread finished; awaiting finish of 2 more threads\n",
      "2020-06-04 13:43:41,909 : INFO : worker thread finished; awaiting finish of 1 more threads\n",
      "2020-06-04 13:43:41,917 : INFO : worker thread finished; awaiting finish of 0 more threads\n",
      "2020-06-04 13:43:41,918 : INFO : EPOCH - 43 : training on 23411 raw words (11563 effective words) took 0.2s, 50145 effective words/s\n",
      "2020-06-04 13:43:41,924 : INFO : worker thread finished; awaiting finish of 3 more threads\n",
      "2020-06-04 13:43:42,009 : INFO : worker thread finished; awaiting finish of 2 more threads\n",
      "2020-06-04 13:43:42,143 : INFO : worker thread finished; awaiting finish of 1 more threads\n",
      "2020-06-04 13:43:42,159 : INFO : worker thread finished; awaiting finish of 0 more threads\n",
      "2020-06-04 13:43:42,160 : INFO : EPOCH - 44 : training on 23411 raw words (11628 effective words) took 0.2s, 48712 effective words/s\n",
      "2020-06-04 13:43:42,166 : INFO : worker thread finished; awaiting finish of 3 more threads\n",
      "2020-06-04 13:43:42,249 : INFO : worker thread finished; awaiting finish of 2 more threads\n",
      "2020-06-04 13:43:42,392 : INFO : worker thread finished; awaiting finish of 1 more threads\n",
      "2020-06-04 13:43:42,403 : INFO : worker thread finished; awaiting finish of 0 more threads\n",
      "2020-06-04 13:43:42,403 : INFO : EPOCH - 45 : training on 23411 raw words (11664 effective words) took 0.2s, 48674 effective words/s\n",
      "2020-06-04 13:43:42,410 : INFO : worker thread finished; awaiting finish of 3 more threads\n",
      "2020-06-04 13:43:42,493 : INFO : worker thread finished; awaiting finish of 2 more threads\n",
      "2020-06-04 13:43:42,622 : INFO : worker thread finished; awaiting finish of 1 more threads\n",
      "2020-06-04 13:43:42,645 : INFO : worker thread finished; awaiting finish of 0 more threads\n",
      "2020-06-04 13:43:42,646 : INFO : EPOCH - 46 : training on 23411 raw words (11655 effective words) took 0.2s, 48941 effective words/s\n",
      "2020-06-04 13:43:42,652 : INFO : worker thread finished; awaiting finish of 3 more threads\n",
      "2020-06-04 13:43:42,742 : INFO : worker thread finished; awaiting finish of 2 more threads\n",
      "2020-06-04 13:43:42,880 : INFO : worker thread finished; awaiting finish of 1 more threads\n",
      "2020-06-04 13:43:42,907 : INFO : worker thread finished; awaiting finish of 0 more threads\n",
      "2020-06-04 13:43:42,908 : INFO : EPOCH - 47 : training on 23411 raw words (11622 effective words) took 0.3s, 44925 effective words/s\n",
      "2020-06-04 13:43:42,915 : INFO : worker thread finished; awaiting finish of 3 more threads\n",
      "2020-06-04 13:43:43,002 : INFO : worker thread finished; awaiting finish of 2 more threads\n",
      "2020-06-04 13:43:43,148 : INFO : worker thread finished; awaiting finish of 1 more threads\n"
     ]
    },
    {
     "name": "stderr",
     "output_type": "stream",
     "text": [
      "2020-06-04 13:43:43,161 : INFO : worker thread finished; awaiting finish of 0 more threads\n",
      "2020-06-04 13:43:43,162 : INFO : EPOCH - 48 : training on 23411 raw words (11606 effective words) took 0.2s, 46464 effective words/s\n",
      "2020-06-04 13:43:43,168 : INFO : worker thread finished; awaiting finish of 3 more threads\n",
      "2020-06-04 13:43:43,253 : INFO : worker thread finished; awaiting finish of 2 more threads\n",
      "2020-06-04 13:43:43,395 : INFO : worker thread finished; awaiting finish of 1 more threads\n",
      "2020-06-04 13:43:43,407 : INFO : worker thread finished; awaiting finish of 0 more threads\n",
      "2020-06-04 13:43:43,408 : INFO : EPOCH - 49 : training on 23411 raw words (11629 effective words) took 0.2s, 47911 effective words/s\n",
      "2020-06-04 13:43:43,415 : INFO : worker thread finished; awaiting finish of 3 more threads\n",
      "2020-06-04 13:43:43,500 : INFO : worker thread finished; awaiting finish of 2 more threads\n",
      "2020-06-04 13:43:43,637 : INFO : worker thread finished; awaiting finish of 1 more threads\n",
      "2020-06-04 13:43:43,654 : INFO : worker thread finished; awaiting finish of 0 more threads\n",
      "2020-06-04 13:43:43,655 : INFO : EPOCH - 50 : training on 23411 raw words (11649 effective words) took 0.2s, 47884 effective words/s\n",
      "2020-06-04 13:43:43,656 : INFO : training on a 1170550 raw words (580699 effective words) took 12.1s, 48171 effective words/s\n"
     ]
    }
   ],
   "source": [
    "# Create Word2Vec\n",
    "logging.basicConfig(format='%(asctime)s : %(levelname)s : %(message)s', level=logging.INFO)\n",
    "word2vec = Word2Vec(sentences=tokenized_corpus,\n",
    "                    size=vector_size, \n",
    "                    window=window_size, \n",
    "                    negative=20,\n",
    "                    iter=50,\n",
    "                    seed=1000,\n",
    "                    workers=multiprocessing.cpu_count(),\n",
    "                    sg=1)"
   ]
  },
  {
   "cell_type": "code",
   "execution_count": 9,
   "metadata": {},
   "outputs": [],
   "source": [
    "# Copy word vectors and delete Word2Vec model and original corpus to save memory\n",
    "X_vecs = word2vec.wv\n",
    "#del word2vec\n",
    "del corpus"
   ]
  },
  {
   "cell_type": "code",
   "execution_count": 10,
   "metadata": {},
   "outputs": [
    {
     "name": "stdout",
     "output_type": "stream",
     "text": [
      "Average tweet length: 23.5523138832998\n",
      "Max tweet length: 201\n"
     ]
    }
   ],
   "source": [
    "# Train subset size (0 < size < len(tokenized_corpus))\n",
    "train_size = math.floor(0.8 * len(tokenized_corpus))\n",
    "\n",
    "# Test subset size (0 < size < len(tokenized_corpus) - train_size)\n",
    "test_size = len(tokenized_corpus) - train_size\n",
    "\n",
    "# Compute average and max tweet length\n",
    "avg_length = 0.0\n",
    "max_length = 0\n",
    "\n",
    "for tweet in tokenized_corpus:\n",
    "    if len(tweet) > max_length:\n",
    "        max_length = len(tweet)\n",
    "    avg_length += float(len(tweet))\n",
    "    \n",
    "print('Average tweet length: {}'.format(avg_length / float(len(tokenized_corpus))))\n",
    "print('Max tweet length: {}'.format(max_length))"
   ]
  },
  {
   "cell_type": "code",
   "execution_count": 11,
   "metadata": {},
   "outputs": [],
   "source": [
    "# Tweet max length (number of tokens)\n",
    "max_tweet_length = max_length"
   ]
  },
  {
   "cell_type": "code",
   "execution_count": 12,
   "metadata": {},
   "outputs": [],
   "source": [
    "# Create train and test sets\n",
    "# Generate random indexes\n",
    "indexes = set(np.random.choice(len(tokenized_corpus), train_size + test_size, replace=False))\n",
    "\n",
    "X_train = np.zeros((train_size, max_tweet_length, vector_size), dtype=K.floatx())\n",
    "Y_train = np.zeros((train_size, 2), dtype=np.int32)\n",
    "X_test = np.zeros((test_size, max_tweet_length, vector_size), dtype=K.floatx())\n",
    "Y_test = np.zeros((test_size, 2), dtype=np.int32)\n",
    "\n",
    "for i, index in enumerate(indexes):\n",
    "    for t, token in enumerate(tokenized_corpus[index]):\n",
    "        if t >= max_tweet_length:\n",
    "            break\n",
    "        \n",
    "        if token not in X_vecs:\n",
    "            continue\n",
    "    \n",
    "        if i < train_size:\n",
    "            X_train[i, t, :] = X_vecs[token]\n",
    "        else:\n",
    "            X_test[i - train_size, t, :] = X_vecs[token]\n",
    "            \n",
    "    if i < train_size:\n",
    "        Y_train[i, :] = [1.0, 0.0] if labels[index] == 0 else [0.0, 1.0]\n",
    "    else:\n",
    "        Y_test[i - train_size, :] = [1.0, 0.0] if labels[index] == 0 else [0.0, 1.0] "
   ]
  },
  {
   "cell_type": "code",
   "execution_count": 13,
   "metadata": {},
   "outputs": [
    {
     "name": "stdout",
     "output_type": "stream",
     "text": [
      "Model: \"sequential\"\n",
      "_________________________________________________________________\n",
      "Layer (type)                 Output Shape              Param #   \n",
      "=================================================================\n",
      "conv1d (Conv1D)              (None, 201, 16)           9616      \n",
      "_________________________________________________________________\n",
      "max_pooling1d (MaxPooling1D) (None, 100, 16)           0         \n",
      "_________________________________________________________________\n",
      "conv1d_1 (Conv1D)            (None, 100, 32)           1056      \n",
      "_________________________________________________________________\n",
      "max_pooling1d_1 (MaxPooling1 (None, 50, 32)            0         \n",
      "_________________________________________________________________\n",
      "conv1d_2 (Conv1D)            (None, 50, 16)            1040      \n",
      "_________________________________________________________________\n",
      "max_pooling1d_2 (MaxPooling1 (None, 25, 16)            0         \n",
      "_________________________________________________________________\n",
      "flatten (Flatten)            (None, 400)               0         \n",
      "_________________________________________________________________\n",
      "dense (Dense)                (None, 16)                6416      \n",
      "_________________________________________________________________\n",
      "dense_1 (Dense)              (None, 2)                 34        \n",
      "=================================================================\n",
      "Total params: 18,162\n",
      "Trainable params: 18,162\n",
      "Non-trainable params: 0\n",
      "_________________________________________________________________\n"
     ]
    }
   ],
   "source": [
    "# Keras convolutional model\n",
    "batch_size = 16\n",
    "nb_epochs = 10\n",
    "\n",
    "model = tf.keras.Sequential([\n",
    "    tf.keras.layers.Conv1D(16, kernel_size=2, activation='relu', padding='same', input_shape=(max_tweet_length, vector_size)),\n",
    "    tf.keras.layers.MaxPooling1D(2),\n",
    "    tf.keras.layers.Conv1D(32, kernel_size=2, activation='relu', padding='same'),\n",
    "    tf.keras.layers.MaxPooling1D(2),\n",
    "    tf.keras.layers.Conv1D(16, kernel_size=2, activation='relu', padding='same'),\n",
    "    tf.keras.layers.MaxPooling1D(2),\n",
    "    tf.keras.layers.Flatten(),\n",
    "    tf.keras.layers.Dense(16, activation='relu'),\n",
    "    tf.keras.layers.Dense(2, activation='softmax')\n",
    "])\n",
    "\n",
    "model.summary()"
   ]
  },
  {
   "cell_type": "code",
   "execution_count": 14,
   "metadata": {},
   "outputs": [],
   "source": [
    "# Compile the model\n",
    "model.compile(optimizer=tf.keras.optimizers.Adam(learning_rate=0.001),\n",
    "              loss=tf.keras.losses.CategoricalCrossentropy(from_logits=True),\n",
    "              metrics=['accuracy'])"
   ]
  },
  {
   "cell_type": "code",
   "execution_count": 15,
   "metadata": {
    "scrolled": false
   },
   "outputs": [
    {
     "name": "stdout",
     "output_type": "stream",
     "text": [
      "Train on 795 samples, validate on 199 samples\n",
      "Epoch 1/10\n",
      "795/795 [==============================] - 2s 3ms/sample - loss: 0.6287 - accuracy: 0.6403 - val_loss: 0.5851 - val_accuracy: 0.6784\n",
      "Epoch 2/10\n",
      "795/795 [==============================] - 1s 2ms/sample - loss: 0.5966 - accuracy: 0.6415 - val_loss: 0.5624 - val_accuracy: 0.6784\n",
      "Epoch 3/10\n",
      "795/795 [==============================] - 1s 2ms/sample - loss: 0.5558 - accuracy: 0.7283 - val_loss: 0.5145 - val_accuracy: 0.7487\n",
      "Epoch 4/10\n",
      "795/795 [==============================] - 1s 2ms/sample - loss: 0.5076 - accuracy: 0.8516 - val_loss: 0.4937 - val_accuracy: 0.8543\n",
      "Epoch 5/10\n",
      "795/795 [==============================] - 1s 2ms/sample - loss: 0.4811 - accuracy: 0.9057 - val_loss: 0.4861 - val_accuracy: 0.8492\n",
      "Epoch 6/10\n",
      "795/795 [==============================] - 1s 2ms/sample - loss: 0.4630 - accuracy: 0.9283 - val_loss: 0.4829 - val_accuracy: 0.8593\n",
      "Epoch 7/10\n",
      "795/795 [==============================] - 1s 2ms/sample - loss: 0.4462 - accuracy: 0.9409 - val_loss: 0.4729 - val_accuracy: 0.8744\n",
      "Epoch 8/10\n",
      "795/795 [==============================] - 1s 2ms/sample - loss: 0.4310 - accuracy: 0.9635 - val_loss: 0.4715 - val_accuracy: 0.8643\n",
      "Epoch 9/10\n",
      "795/795 [==============================] - 1s 2ms/sample - loss: 0.4178 - accuracy: 0.9774 - val_loss: 0.4625 - val_accuracy: 0.8894\n",
      "Epoch 10/10\n",
      "795/795 [==============================] - 1s 2ms/sample - loss: 0.4115 - accuracy: 0.9723 - val_loss: 0.4597 - val_accuracy: 0.8844\n"
     ]
    }
   ],
   "source": [
    "# Fit the model\n",
    "history = model.fit(X_train, Y_train,\n",
    "          batch_size=batch_size,\n",
    "          shuffle=True,\n",
    "          epochs=nb_epochs,\n",
    "          validation_data=(X_test, Y_test))"
   ]
  },
  {
   "cell_type": "code",
   "execution_count": 16,
   "metadata": {},
   "outputs": [
    {
     "name": "stdout",
     "output_type": "stream",
     "text": [
      "199/199 [==============================] - 0s 762us/sample - loss: 0.4597 - accuracy: 0.8844\n",
      "Loss:  0.460\n",
      "Accuracy:  0.884\n"
     ]
    }
   ],
   "source": [
    "loss, accuracy = model.evaluate(X_test, Y_test)\n",
    "\n",
    "print(\"Loss: \", \"%.3f\" % loss)\n",
    "print(\"Accuracy: \", \"%.3f\" % accuracy)"
   ]
  },
  {
   "cell_type": "markdown",
   "metadata": {},
   "source": [
    "# Graph"
   ]
  },
  {
   "cell_type": "code",
   "execution_count": 17,
   "metadata": {},
   "outputs": [
    {
     "data": {
      "text/plain": [
       "dict_keys(['loss', 'accuracy', 'val_loss', 'val_accuracy'])"
      ]
     },
     "execution_count": 17,
     "metadata": {},
     "output_type": "execute_result"
    }
   ],
   "source": [
    "history_dict = history.history\n",
    "history_dict.keys()"
   ]
  },
  {
   "cell_type": "code",
   "execution_count": 18,
   "metadata": {},
   "outputs": [
    {
     "data": {
      "image/png": "[encoded data removed]",
      "text/plain": [
       "<Figure size 432x288 with 1 Axes>"
      ]
     },
     "metadata": {
      "needs_background": "light"
     },
     "output_type": "display_data"
    }
   ],
   "source": [
    "acc = history_dict['accuracy']\n",
    "val_acc = history_dict['val_accuracy']\n",
    "loss = history_dict['loss']\n",
    "val_loss = history_dict['val_loss']\n",
    "\n",
    "epochs = range(1, len(acc) + 1)\n",
    "\n",
    "# \"bo\" is for \"blue dot\"\n",
    "plt.plot(epochs, loss, 'bo', label='Training loss')\n",
    "# b is for \"solid blue line\"\n",
    "plt.plot(epochs, val_loss, 'b', label='Validation loss')\n",
    "plt.title('Training and validation loss')\n",
    "plt.xlabel('Epochs')\n",
    "plt.ylabel('Loss')\n",
    "plt.legend()\n",
    "\n",
    "plt.show()"
   ]
  },
  {
   "cell_type": "code",
   "execution_count": 19,
   "metadata": {},
   "outputs": [
    {
     "data": {
      "image/png": "[encoded data removed]",
      "text/plain": [
       "<Figure size 432x288 with 1 Axes>"
      ]
     },
     "metadata": {
      "needs_background": "light"
     },
     "output_type": "display_data"
    }
   ],
   "source": [
    "plt.plot(history.history['loss'], label='Training loss')\n",
    "plt.plot(history.history['val_loss'], label='Validation loss')\n",
    "plt.title('Training and validation loss')\n",
    "plt.xlabel('Epochs')\n",
    "plt.ylabel('Loss')\n",
    "plt.legend();\n",
    "plt.show()"
   ]
  },
  {
   "cell_type": "code",
   "execution_count": 20,
   "metadata": {},
   "outputs": [
    {
     "data": {
      "image/png": "[encoded data removed]",
      "text/plain": [
       "<Figure size 432x288 with 1 Axes>"
      ]
     },
     "metadata": {
      "needs_background": "light"
     },
     "output_type": "display_data"
    }
   ],
   "source": [
    "plt.clf()   # clear figure\n",
    "\n",
    "plt.plot(epochs, acc, 'bo', label='Training acc')\n",
    "plt.plot(epochs, val_acc, 'b', label='Validation acc')\n",
    "plt.title('Training and validation accuracy')\n",
    "plt.xlabel('Epochs')\n",
    "plt.ylabel('Accuracy')\n",
    "plt.legend(loc='lower right')\n",
    "\n",
    "plt.show()"
   ]
  },
  {
   "cell_type": "code",
   "execution_count": 21,
   "metadata": {},
   "outputs": [
    {
     "data": {
      "image/png": "[encoded data removed]",
      "text/plain": [
       "<Figure size 432x288 with 1 Axes>"
      ]
     },
     "metadata": {
      "needs_background": "light"
     },
     "output_type": "display_data"
    }
   ],
   "source": [
    "plt.plot(history.history['accuracy'], label='Training accuracy')\n",
    "plt.plot(history.history['val_accuracy'], label='Validation accuracy')\n",
    "plt.title('Training and validation accuracy')\n",
    "plt.xlabel('Epochs')\n",
    "plt.ylabel('Accuracy')\n",
    "plt.legend(loc='lower right')\n",
    "plt.show()"
   ]
  },
  {
   "cell_type": "markdown",
   "metadata": {},
   "source": [
    "# Predictions"
   ]
  },
  {
   "cell_type": "code",
   "execution_count": 22,
   "metadata": {},
   "outputs": [],
   "source": [
    "def evaluate_phrase(tweet, model, word2vec, max_length, vector_size):\n",
    "    #Tokenisation\n",
    "    tkr = RegexpTokenizer('[a-zA-Z0-9@]+')\n",
    "    tokens = [t for t in tkr.tokenize(tweet) if not t.startswith('@')]\n",
    "    \n",
    "    vectorized_tweet = np.zeros((1,max_tweet_length, vector_size), dtype=K.floatx())\n",
    "    \n",
    "    for i, token in enumerate(tokens):\n",
    "        if token in word2vec.wv.vocab:\n",
    "            vectorized_tweet[0][i] = word2vec[token]\n",
    "        \n",
    "    prediction = model.predict(vectorized_tweet)\n",
    "    print(prediction)\n",
    "    print(\"Non sarcasm\" if prediction[0][0]>prediction[0][1] else \"Sarcasm\")"
   ]
  },
  {
   "cell_type": "code",
   "execution_count": 77,
   "metadata": {},
   "outputs": [
    {
     "name": "stdout",
     "output_type": "stream",
     "text": [
      "[[9.9989772e-01 1.0230067e-04]]\n",
      "Non sarcasm\n"
     ]
    },
    {
     "name": "stderr",
     "output_type": "stream",
     "text": [
      "C:\\Users\\rbn\\Anaconda3\\lib\\site-packages\\ipykernel_launcher.py:10: DeprecationWarning: Call to deprecated `__getitem__` (Method will be removed in 4.0.0, use self.wv.__getitem__() instead).\n",
      "  # Remove the CWD from sys.path while we load stuff.\n"
     ]
    }
   ],
   "source": [
    "evaluate_phrase(\"i'm pro-choice because when i get pregnant, i want to choose whether or not i will abort it. i am not pro-abortion because i don't want to be forced to aborting my child when i get pregnant i am not pro-life, because i don't want to be forced to have my child when i get pregnant. i am pro-choice, do not call me pro-abortion, because that is not what i am. i don't go on the streets and say ''hey, let's all have abortions'' you on the other hand go on and say ''hey let's give all fetuses life'' that's what makes you pro-life. i don't want abortion. i wish no one would chose it because it would be much better without it. but the world isn't ideal. don't change the title, i just want people to know that we are called pro-choicers.\", model, word2vec, max_tweet_length, vector_size)"
   ]
  }
 ],
 "metadata": {
  "kernelspec": {
   "display_name": "Python 3",
   "language": "python",
   "name": "python3"
  },
  "language_info": {
   "codemirror_mode": {
    "name": "ipython",
    "version": 3
   },
   "file_extension": ".py",
   "mimetype": "text/x-python",
   "name": "python",
   "nbconvert_exporter": "python",
   "pygments_lexer": "ipython3",
   "version": "3.7.4"
  }
 },
 "nbformat": 4,
 "nbformat_minor": 2
}
