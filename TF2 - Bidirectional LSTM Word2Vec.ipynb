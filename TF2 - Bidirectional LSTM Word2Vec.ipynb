{
 "cells": [
  {
   "cell_type": "code",
   "execution_count": 1,
   "metadata": {},
   "outputs": [],
   "source": [
    "import tensorflow.keras.backend as K\n",
    "import multiprocessing\n",
    "\n",
    "import tensorflow as tf\n",
    "from tensorflow import keras\n",
    "\n",
    "import numpy as np\n",
    "import matplotlib.pyplot as plt\n",
    "import csv\n",
    "import math\n",
    "import random\n",
    "import logging\n",
    "\n",
    "from gensim.models.word2vec import Word2Vec\n",
    "\n",
    "from nltk.stem.lancaster import LancasterStemmer\n",
    "from nltk.tokenize import RegexpTokenizer"
   ]
  },
  {
   "cell_type": "code",
   "execution_count": 2,
   "metadata": {},
   "outputs": [],
   "source": [
    "# Set random seed (for reproducibility)\n",
    "np.random.seed(1000)"
   ]
  },
  {
   "cell_type": "code",
   "execution_count": 3,
   "metadata": {},
   "outputs": [],
   "source": [
    "#dataset_location = './datasets/sarcasm_v2.csv'\n",
    "dataset_location = './datasets/text_and_annorations.csv'\n",
    "model_location = './word2vec/'\n",
    "\n",
    "corpus = []\n",
    "labels = []"
   ]
  },
  {
   "cell_type": "code",
   "execution_count": 4,
   "metadata": {},
   "outputs": [],
   "source": [
    "#Shuffle the dataset\n",
    "\n",
    "ip=open(dataset_location,'r', encoding=\"utf8\")\n",
    "next(ip)   #ignore the first row (label row)\n",
    "li = ip.readlines()\n",
    "random.shuffle(li)\n",
    "\n",
    "#dataset_location = './datasets/shuffled_sarcasm_v2.csv'\n",
    "dataset_location = './datasets/shuffled_text_and_annotations.csv'\n",
    "\n",
    "fid = open(dataset_location, \"w\", encoding=\"utf8\")\n",
    "fid.writelines(li)\n",
    "fid.close()"
   ]
  },
  {
   "cell_type": "code",
   "execution_count": 5,
   "metadata": {},
   "outputs": [
    {
     "name": "stdout",
     "output_type": "stream",
     "text": [
      "Corpus size: 994\n"
     ]
    }
   ],
   "source": [
    "# Parse tweets and sentiments       \n",
    "with open(dataset_location, 'r', encoding=\"utf8\") as csvDataFile:\n",
    "    csvReader = csv.reader(csvDataFile)\n",
    "    \n",
    "    #skip the first line?\n",
    "    #next(csvReader)\n",
    "    \n",
    "    for row in csvReader:\n",
    "        #corpus.append(row[3] + \" - \" + row[4])\n",
    "        corpus.append(row[1])\n",
    "\n",
    "        #Sarcasm label, (0 = not sarcasm, 1 = sarcasm)\n",
    "        #pol = 1 if row[1] == 'sarc' else 0\n",
    "        pol = 1 if row[5] == 'Yes' else 0\n",
    "        labels.append(pol)\n",
    "        \n",
    "print('Corpus size: {}'.format(len(corpus)))"
   ]
  },
  {
   "cell_type": "code",
   "execution_count": 6,
   "metadata": {},
   "outputs": [],
   "source": [
    "# Tokenize and stem\n",
    "tkr = RegexpTokenizer('[a-zA-Z0-9@]+')\n",
    "stemmer = LancasterStemmer()\n",
    "\n",
    "tokenized_corpus = []\n",
    "\n",
    "for i, tweet in enumerate(corpus):\n",
    "    tokens = [stemmer.stem(t) for t in tkr.tokenize(tweet) if not t.startswith('@')]\n",
    "    #tokens = [t for t in tkr.tokenize(tweet) if not t.startswith('@')]\n",
    "    tokenized_corpus.append(tokens)"
   ]
  },
  {
   "cell_type": "code",
   "execution_count": 7,
   "metadata": {},
   "outputs": [],
   "source": [
    "# Gensim Word2Vec model\n",
    "vector_size = 300\n",
    "window_size = 10"
   ]
  },
  {
   "cell_type": "code",
   "execution_count": 8,
   "metadata": {},
   "outputs": [
    {
     "name": "stderr",
     "output_type": "stream",
     "text": [
      "2020-06-04 12:24:59,992 : INFO : collecting all words and their counts\n",
      "2020-06-04 12:24:59,993 : INFO : PROGRESS: at sentence #0, processed 0 words, keeping 0 word types\n",
      "2020-06-04 12:25:00,000 : INFO : collected 2950 word types from a corpus of 23411 raw words and 994 sentences\n",
      "2020-06-04 12:25:00,001 : INFO : Loading a fresh vocabulary\n",
      "2020-06-04 12:25:00,005 : INFO : effective_min_count=5 retains 651 unique words (22% of original 2950, drops 2299)\n",
      "2020-06-04 12:25:00,006 : INFO : effective_min_count=5 leaves 19806 word corpus (84% of original 23411, drops 3605)\n",
      "2020-06-04 12:25:00,012 : INFO : deleting the raw counts dictionary of 2950 items\n",
      "2020-06-04 12:25:00,013 : INFO : sample=0.001 downsamples 71 most-common words\n",
      "2020-06-04 12:25:00,014 : INFO : downsampling leaves estimated 13028 word corpus (65.8% of prior 19806)\n",
      "2020-06-04 12:25:00,018 : INFO : estimated required memory for 651 words and 300 dimensions: 1887900 bytes\n",
      "2020-06-04 12:25:00,019 : INFO : resetting layer weights\n",
      "2020-06-04 12:25:00,038 : INFO : training model with 4 workers on 651 vocabulary and 300 features, using sg=1 hs=0 sample=0.001 negative=20 window=10\n",
      "2020-06-04 12:25:00,045 : INFO : worker thread finished; awaiting finish of 3 more threads\n",
      "2020-06-04 12:25:00,142 : INFO : worker thread finished; awaiting finish of 2 more threads\n",
      "2020-06-04 12:25:00,315 : INFO : worker thread finished; awaiting finish of 1 more threads\n",
      "2020-06-04 12:25:00,319 : INFO : worker thread finished; awaiting finish of 0 more threads\n",
      "2020-06-04 12:25:00,320 : INFO : EPOCH - 1 : training on 23411 raw words (13037 effective words) took 0.3s, 46987 effective words/s\n",
      "2020-06-04 12:25:00,326 : INFO : worker thread finished; awaiting finish of 3 more threads\n",
      "2020-06-04 12:25:00,420 : INFO : worker thread finished; awaiting finish of 2 more threads\n",
      "2020-06-04 12:25:00,584 : INFO : worker thread finished; awaiting finish of 1 more threads\n",
      "2020-06-04 12:25:00,596 : INFO : worker thread finished; awaiting finish of 0 more threads\n",
      "2020-06-04 12:25:00,597 : INFO : EPOCH - 2 : training on 23411 raw words (13044 effective words) took 0.3s, 47536 effective words/s\n",
      "2020-06-04 12:25:00,607 : INFO : worker thread finished; awaiting finish of 3 more threads\n",
      "2020-06-04 12:25:00,699 : INFO : worker thread finished; awaiting finish of 2 more threads\n",
      "2020-06-04 12:25:00,868 : INFO : worker thread finished; awaiting finish of 1 more threads\n",
      "2020-06-04 12:25:00,877 : INFO : worker thread finished; awaiting finish of 0 more threads\n",
      "2020-06-04 12:25:00,878 : INFO : EPOCH - 3 : training on 23411 raw words (12927 effective words) took 0.3s, 47259 effective words/s\n",
      "2020-06-04 12:25:00,885 : INFO : worker thread finished; awaiting finish of 3 more threads\n",
      "2020-06-04 12:25:00,980 : INFO : worker thread finished; awaiting finish of 2 more threads\n",
      "2020-06-04 12:25:01,146 : INFO : worker thread finished; awaiting finish of 1 more threads\n",
      "2020-06-04 12:25:01,154 : INFO : worker thread finished; awaiting finish of 0 more threads\n",
      "2020-06-04 12:25:01,155 : INFO : EPOCH - 4 : training on 23411 raw words (13024 effective words) took 0.3s, 47681 effective words/s\n",
      "2020-06-04 12:25:01,162 : INFO : worker thread finished; awaiting finish of 3 more threads\n",
      "2020-06-04 12:25:01,258 : INFO : worker thread finished; awaiting finish of 2 more threads\n",
      "2020-06-04 12:25:01,440 : INFO : worker thread finished; awaiting finish of 1 more threads\n",
      "2020-06-04 12:25:01,455 : INFO : worker thread finished; awaiting finish of 0 more threads\n",
      "2020-06-04 12:25:01,456 : INFO : EPOCH - 5 : training on 23411 raw words (13011 effective words) took 0.3s, 43708 effective words/s\n",
      "2020-06-04 12:25:01,463 : INFO : worker thread finished; awaiting finish of 3 more threads\n",
      "2020-06-04 12:25:01,575 : INFO : worker thread finished; awaiting finish of 2 more threads\n",
      "2020-06-04 12:25:01,750 : INFO : worker thread finished; awaiting finish of 1 more threads\n",
      "2020-06-04 12:25:01,757 : INFO : worker thread finished; awaiting finish of 0 more threads\n",
      "2020-06-04 12:25:01,758 : INFO : EPOCH - 6 : training on 23411 raw words (13100 effective words) took 0.3s, 44010 effective words/s\n",
      "2020-06-04 12:25:01,765 : INFO : worker thread finished; awaiting finish of 3 more threads\n",
      "2020-06-04 12:25:01,862 : INFO : worker thread finished; awaiting finish of 2 more threads\n",
      "2020-06-04 12:25:02,038 : INFO : worker thread finished; awaiting finish of 1 more threads\n",
      "2020-06-04 12:25:02,044 : INFO : worker thread finished; awaiting finish of 0 more threads\n",
      "2020-06-04 12:25:02,044 : INFO : EPOCH - 7 : training on 23411 raw words (13115 effective words) took 0.3s, 46465 effective words/s\n",
      "2020-06-04 12:25:02,051 : INFO : worker thread finished; awaiting finish of 3 more threads\n",
      "2020-06-04 12:25:02,151 : INFO : worker thread finished; awaiting finish of 2 more threads\n",
      "2020-06-04 12:25:02,326 : INFO : worker thread finished; awaiting finish of 1 more threads\n",
      "2020-06-04 12:25:02,335 : INFO : worker thread finished; awaiting finish of 0 more threads\n",
      "2020-06-04 12:25:02,336 : INFO : EPOCH - 8 : training on 23411 raw words (13060 effective words) took 0.3s, 45291 effective words/s\n",
      "2020-06-04 12:25:02,344 : INFO : worker thread finished; awaiting finish of 3 more threads\n",
      "2020-06-04 12:25:02,442 : INFO : worker thread finished; awaiting finish of 2 more threads\n",
      "2020-06-04 12:25:02,625 : INFO : worker thread finished; awaiting finish of 1 more threads\n",
      "2020-06-04 12:25:02,638 : INFO : worker thread finished; awaiting finish of 0 more threads\n",
      "2020-06-04 12:25:02,640 : INFO : EPOCH - 9 : training on 23411 raw words (13097 effective words) took 0.3s, 43896 effective words/s\n",
      "2020-06-04 12:25:02,648 : INFO : worker thread finished; awaiting finish of 3 more threads\n",
      "2020-06-04 12:25:02,763 : INFO : worker thread finished; awaiting finish of 2 more threads\n",
      "2020-06-04 12:25:02,932 : INFO : worker thread finished; awaiting finish of 1 more threads\n",
      "2020-06-04 12:25:02,935 : INFO : worker thread finished; awaiting finish of 0 more threads\n",
      "2020-06-04 12:25:02,936 : INFO : EPOCH - 10 : training on 23411 raw words (13109 effective words) took 0.3s, 45006 effective words/s\n",
      "2020-06-04 12:25:02,943 : INFO : worker thread finished; awaiting finish of 3 more threads\n",
      "2020-06-04 12:25:03,041 : INFO : worker thread finished; awaiting finish of 2 more threads\n",
      "2020-06-04 12:25:03,225 : INFO : worker thread finished; awaiting finish of 1 more threads\n",
      "2020-06-04 12:25:03,229 : INFO : worker thread finished; awaiting finish of 0 more threads\n",
      "2020-06-04 12:25:03,230 : INFO : EPOCH - 11 : training on 23411 raw words (12967 effective words) took 0.3s, 44744 effective words/s\n",
      "2020-06-04 12:25:03,238 : INFO : worker thread finished; awaiting finish of 3 more threads\n",
      "2020-06-04 12:25:03,338 : INFO : worker thread finished; awaiting finish of 2 more threads\n",
      "2020-06-04 12:25:03,519 : INFO : worker thread finished; awaiting finish of 1 more threads\n",
      "2020-06-04 12:25:03,536 : INFO : worker thread finished; awaiting finish of 0 more threads\n",
      "2020-06-04 12:25:03,537 : INFO : EPOCH - 12 : training on 23411 raw words (13069 effective words) took 0.3s, 43257 effective words/s\n",
      "2020-06-04 12:25:03,545 : INFO : worker thread finished; awaiting finish of 3 more threads\n",
      "2020-06-04 12:25:03,656 : INFO : worker thread finished; awaiting finish of 2 more threads\n",
      "2020-06-04 12:25:03,836 : INFO : worker thread finished; awaiting finish of 1 more threads\n",
      "2020-06-04 12:25:03,848 : INFO : worker thread finished; awaiting finish of 0 more threads\n",
      "2020-06-04 12:25:03,851 : INFO : EPOCH - 13 : training on 23411 raw words (13065 effective words) took 0.3s, 42314 effective words/s\n",
      "2020-06-04 12:25:03,860 : INFO : worker thread finished; awaiting finish of 3 more threads\n",
      "2020-06-04 12:25:03,956 : INFO : worker thread finished; awaiting finish of 2 more threads\n",
      "2020-06-04 12:25:04,137 : INFO : worker thread finished; awaiting finish of 1 more threads\n",
      "2020-06-04 12:25:04,153 : INFO : worker thread finished; awaiting finish of 0 more threads\n",
      "2020-06-04 12:25:04,154 : INFO : EPOCH - 14 : training on 23411 raw words (13069 effective words) took 0.3s, 44075 effective words/s\n",
      "2020-06-04 12:25:04,160 : INFO : worker thread finished; awaiting finish of 3 more threads\n",
      "2020-06-04 12:25:04,258 : INFO : worker thread finished; awaiting finish of 2 more threads\n"
     ]
    },
    {
     "name": "stderr",
     "output_type": "stream",
     "text": [
      "2020-06-04 12:25:04,414 : INFO : worker thread finished; awaiting finish of 1 more threads\n",
      "2020-06-04 12:25:04,428 : INFO : worker thread finished; awaiting finish of 0 more threads\n",
      "2020-06-04 12:25:04,429 : INFO : EPOCH - 15 : training on 23411 raw words (13033 effective words) took 0.3s, 48048 effective words/s\n",
      "2020-06-04 12:25:04,436 : INFO : worker thread finished; awaiting finish of 3 more threads\n",
      "2020-06-04 12:25:04,537 : INFO : worker thread finished; awaiting finish of 2 more threads\n",
      "2020-06-04 12:25:04,713 : INFO : worker thread finished; awaiting finish of 1 more threads\n",
      "2020-06-04 12:25:04,718 : INFO : worker thread finished; awaiting finish of 0 more threads\n",
      "2020-06-04 12:25:04,719 : INFO : EPOCH - 16 : training on 23411 raw words (13047 effective words) took 0.3s, 45484 effective words/s\n",
      "2020-06-04 12:25:04,726 : INFO : worker thread finished; awaiting finish of 3 more threads\n",
      "2020-06-04 12:25:04,834 : INFO : worker thread finished; awaiting finish of 2 more threads\n",
      "2020-06-04 12:25:05,015 : INFO : worker thread finished; awaiting finish of 1 more threads\n",
      "2020-06-04 12:25:05,022 : INFO : worker thread finished; awaiting finish of 0 more threads\n",
      "2020-06-04 12:25:05,023 : INFO : EPOCH - 17 : training on 23411 raw words (13050 effective words) took 0.3s, 43495 effective words/s\n",
      "2020-06-04 12:25:05,030 : INFO : worker thread finished; awaiting finish of 3 more threads\n",
      "2020-06-04 12:25:05,129 : INFO : worker thread finished; awaiting finish of 2 more threads\n",
      "2020-06-04 12:25:05,319 : INFO : worker thread finished; awaiting finish of 1 more threads\n",
      "2020-06-04 12:25:05,324 : INFO : worker thread finished; awaiting finish of 0 more threads\n",
      "2020-06-04 12:25:05,325 : INFO : EPOCH - 18 : training on 23411 raw words (12953 effective words) took 0.3s, 43427 effective words/s\n",
      "2020-06-04 12:25:05,344 : INFO : worker thread finished; awaiting finish of 3 more threads\n",
      "2020-06-04 12:25:05,435 : INFO : worker thread finished; awaiting finish of 2 more threads\n",
      "2020-06-04 12:25:05,595 : INFO : worker thread finished; awaiting finish of 1 more threads\n",
      "2020-06-04 12:25:05,602 : INFO : worker thread finished; awaiting finish of 0 more threads\n",
      "2020-06-04 12:25:05,603 : INFO : EPOCH - 19 : training on 23411 raw words (13032 effective words) took 0.3s, 48010 effective words/s\n",
      "2020-06-04 12:25:05,611 : INFO : worker thread finished; awaiting finish of 3 more threads\n",
      "2020-06-04 12:25:05,699 : INFO : worker thread finished; awaiting finish of 2 more threads\n",
      "2020-06-04 12:25:05,868 : INFO : worker thread finished; awaiting finish of 1 more threads\n",
      "2020-06-04 12:25:05,877 : INFO : worker thread finished; awaiting finish of 0 more threads\n",
      "2020-06-04 12:25:05,878 : INFO : EPOCH - 20 : training on 23411 raw words (12950 effective words) took 0.3s, 47950 effective words/s\n",
      "2020-06-04 12:25:05,884 : INFO : worker thread finished; awaiting finish of 3 more threads\n",
      "2020-06-04 12:25:05,994 : INFO : worker thread finished; awaiting finish of 2 more threads\n",
      "2020-06-04 12:25:06,167 : INFO : worker thread finished; awaiting finish of 1 more threads\n",
      "2020-06-04 12:25:06,181 : INFO : worker thread finished; awaiting finish of 0 more threads\n",
      "2020-06-04 12:25:06,182 : INFO : EPOCH - 21 : training on 23411 raw words (13116 effective words) took 0.3s, 43746 effective words/s\n",
      "2020-06-04 12:25:06,189 : INFO : worker thread finished; awaiting finish of 3 more threads\n",
      "2020-06-04 12:25:06,288 : INFO : worker thread finished; awaiting finish of 2 more threads\n",
      "2020-06-04 12:25:06,495 : INFO : worker thread finished; awaiting finish of 1 more threads\n",
      "2020-06-04 12:25:06,505 : INFO : worker thread finished; awaiting finish of 0 more threads\n",
      "2020-06-04 12:25:06,505 : INFO : EPOCH - 22 : training on 23411 raw words (13058 effective words) took 0.3s, 40885 effective words/s\n",
      "2020-06-04 12:25:06,517 : INFO : worker thread finished; awaiting finish of 3 more threads\n",
      "2020-06-04 12:25:06,614 : INFO : worker thread finished; awaiting finish of 2 more threads\n",
      "2020-06-04 12:25:06,792 : INFO : worker thread finished; awaiting finish of 1 more threads\n",
      "2020-06-04 12:25:06,803 : INFO : worker thread finished; awaiting finish of 0 more threads\n",
      "2020-06-04 12:25:06,804 : INFO : EPOCH - 23 : training on 23411 raw words (13103 effective words) took 0.3s, 44990 effective words/s\n",
      "2020-06-04 12:25:06,810 : INFO : worker thread finished; awaiting finish of 3 more threads\n",
      "2020-06-04 12:25:06,908 : INFO : worker thread finished; awaiting finish of 2 more threads\n",
      "2020-06-04 12:25:07,075 : INFO : worker thread finished; awaiting finish of 1 more threads\n",
      "2020-06-04 12:25:07,083 : INFO : worker thread finished; awaiting finish of 0 more threads\n",
      "2020-06-04 12:25:07,084 : INFO : EPOCH - 24 : training on 23411 raw words (13035 effective words) took 0.3s, 47082 effective words/s\n",
      "2020-06-04 12:25:07,091 : INFO : worker thread finished; awaiting finish of 3 more threads\n",
      "2020-06-04 12:25:07,183 : INFO : worker thread finished; awaiting finish of 2 more threads\n",
      "2020-06-04 12:25:07,350 : INFO : worker thread finished; awaiting finish of 1 more threads\n",
      "2020-06-04 12:25:07,363 : INFO : worker thread finished; awaiting finish of 0 more threads\n",
      "2020-06-04 12:25:07,364 : INFO : EPOCH - 25 : training on 23411 raw words (13003 effective words) took 0.3s, 47089 effective words/s\n",
      "2020-06-04 12:25:07,373 : INFO : worker thread finished; awaiting finish of 3 more threads\n",
      "2020-06-04 12:25:07,496 : INFO : worker thread finished; awaiting finish of 2 more threads\n",
      "2020-06-04 12:25:07,700 : INFO : worker thread finished; awaiting finish of 1 more threads\n",
      "2020-06-04 12:25:07,721 : INFO : worker thread finished; awaiting finish of 0 more threads\n",
      "2020-06-04 12:25:07,722 : INFO : EPOCH - 26 : training on 23411 raw words (13036 effective words) took 0.4s, 37106 effective words/s\n",
      "2020-06-04 12:25:07,732 : INFO : worker thread finished; awaiting finish of 3 more threads\n",
      "2020-06-04 12:25:07,833 : INFO : worker thread finished; awaiting finish of 2 more threads\n",
      "2020-06-04 12:25:08,018 : INFO : worker thread finished; awaiting finish of 1 more threads\n",
      "2020-06-04 12:25:08,026 : INFO : worker thread finished; awaiting finish of 0 more threads\n",
      "2020-06-04 12:25:08,027 : INFO : EPOCH - 27 : training on 23411 raw words (13004 effective words) took 0.3s, 43617 effective words/s\n",
      "2020-06-04 12:25:08,038 : INFO : worker thread finished; awaiting finish of 3 more threads\n",
      "2020-06-04 12:25:08,134 : INFO : worker thread finished; awaiting finish of 2 more threads\n",
      "2020-06-04 12:25:08,307 : INFO : worker thread finished; awaiting finish of 1 more threads\n",
      "2020-06-04 12:25:08,309 : INFO : worker thread finished; awaiting finish of 0 more threads\n",
      "2020-06-04 12:25:08,310 : INFO : EPOCH - 28 : training on 23411 raw words (13054 effective words) took 0.3s, 46947 effective words/s\n",
      "2020-06-04 12:25:08,316 : INFO : worker thread finished; awaiting finish of 3 more threads\n",
      "2020-06-04 12:25:08,405 : INFO : worker thread finished; awaiting finish of 2 more threads\n",
      "2020-06-04 12:25:08,569 : INFO : worker thread finished; awaiting finish of 1 more threads\n",
      "2020-06-04 12:25:08,578 : INFO : worker thread finished; awaiting finish of 0 more threads\n",
      "2020-06-04 12:25:08,579 : INFO : EPOCH - 29 : training on 23411 raw words (13008 effective words) took 0.3s, 48957 effective words/s\n",
      "2020-06-04 12:25:08,587 : INFO : worker thread finished; awaiting finish of 3 more threads\n",
      "2020-06-04 12:25:08,686 : INFO : worker thread finished; awaiting finish of 2 more threads\n",
      "2020-06-04 12:25:08,875 : INFO : worker thread finished; awaiting finish of 1 more threads\n",
      "2020-06-04 12:25:08,891 : INFO : worker thread finished; awaiting finish of 0 more threads\n",
      "2020-06-04 12:25:08,892 : INFO : EPOCH - 30 : training on 23411 raw words (13010 effective words) took 0.3s, 42160 effective words/s\n",
      "2020-06-04 12:25:08,899 : INFO : worker thread finished; awaiting finish of 3 more threads\n",
      "2020-06-04 12:25:08,992 : INFO : worker thread finished; awaiting finish of 2 more threads\n",
      "2020-06-04 12:25:09,151 : INFO : worker thread finished; awaiting finish of 1 more threads\n",
      "2020-06-04 12:25:09,157 : INFO : worker thread finished; awaiting finish of 0 more threads\n",
      "2020-06-04 12:25:09,158 : INFO : EPOCH - 31 : training on 23411 raw words (13028 effective words) took 0.3s, 49721 effective words/s\n"
     ]
    },
    {
     "name": "stderr",
     "output_type": "stream",
     "text": [
      "2020-06-04 12:25:09,165 : INFO : worker thread finished; awaiting finish of 3 more threads\n",
      "2020-06-04 12:25:09,254 : INFO : worker thread finished; awaiting finish of 2 more threads\n",
      "2020-06-04 12:25:09,415 : INFO : worker thread finished; awaiting finish of 1 more threads\n",
      "2020-06-04 12:25:09,419 : INFO : worker thread finished; awaiting finish of 0 more threads\n",
      "2020-06-04 12:25:09,420 : INFO : EPOCH - 32 : training on 23411 raw words (12991 effective words) took 0.3s, 50411 effective words/s\n",
      "2020-06-04 12:25:09,427 : INFO : worker thread finished; awaiting finish of 3 more threads\n",
      "2020-06-04 12:25:09,518 : INFO : worker thread finished; awaiting finish of 2 more threads\n",
      "2020-06-04 12:25:09,673 : INFO : worker thread finished; awaiting finish of 1 more threads\n",
      "2020-06-04 12:25:09,686 : INFO : worker thread finished; awaiting finish of 0 more threads\n",
      "2020-06-04 12:25:09,687 : INFO : EPOCH - 33 : training on 23411 raw words (12965 effective words) took 0.3s, 49119 effective words/s\n",
      "2020-06-04 12:25:09,693 : INFO : worker thread finished; awaiting finish of 3 more threads\n",
      "2020-06-04 12:25:09,786 : INFO : worker thread finished; awaiting finish of 2 more threads\n",
      "2020-06-04 12:25:09,950 : INFO : worker thread finished; awaiting finish of 1 more threads\n",
      "2020-06-04 12:25:09,957 : INFO : worker thread finished; awaiting finish of 0 more threads\n",
      "2020-06-04 12:25:09,958 : INFO : EPOCH - 34 : training on 23411 raw words (13018 effective words) took 0.3s, 49233 effective words/s\n",
      "2020-06-04 12:25:09,964 : INFO : worker thread finished; awaiting finish of 3 more threads\n",
      "2020-06-04 12:25:10,056 : INFO : worker thread finished; awaiting finish of 2 more threads\n",
      "2020-06-04 12:25:10,212 : INFO : worker thread finished; awaiting finish of 1 more threads\n",
      "2020-06-04 12:25:10,222 : INFO : worker thread finished; awaiting finish of 0 more threads\n",
      "2020-06-04 12:25:10,222 : INFO : EPOCH - 35 : training on 23411 raw words (12993 effective words) took 0.3s, 49800 effective words/s\n",
      "2020-06-04 12:25:10,229 : INFO : worker thread finished; awaiting finish of 3 more threads\n",
      "2020-06-04 12:25:10,321 : INFO : worker thread finished; awaiting finish of 2 more threads\n",
      "2020-06-04 12:25:10,485 : INFO : worker thread finished; awaiting finish of 1 more threads\n",
      "2020-06-04 12:25:10,498 : INFO : worker thread finished; awaiting finish of 0 more threads\n",
      "2020-06-04 12:25:10,499 : INFO : EPOCH - 36 : training on 23411 raw words (13081 effective words) took 0.3s, 48057 effective words/s\n",
      "2020-06-04 12:25:10,506 : INFO : worker thread finished; awaiting finish of 3 more threads\n",
      "2020-06-04 12:25:10,604 : INFO : worker thread finished; awaiting finish of 2 more threads\n",
      "2020-06-04 12:25:10,794 : INFO : worker thread finished; awaiting finish of 1 more threads\n",
      "2020-06-04 12:25:10,808 : INFO : worker thread finished; awaiting finish of 0 more threads\n",
      "2020-06-04 12:25:10,810 : INFO : EPOCH - 37 : training on 23411 raw words (13072 effective words) took 0.3s, 42605 effective words/s\n",
      "2020-06-04 12:25:10,822 : INFO : worker thread finished; awaiting finish of 3 more threads\n",
      "2020-06-04 12:25:10,923 : INFO : worker thread finished; awaiting finish of 2 more threads\n",
      "2020-06-04 12:25:11,113 : INFO : worker thread finished; awaiting finish of 1 more threads\n",
      "2020-06-04 12:25:11,121 : INFO : worker thread finished; awaiting finish of 0 more threads\n",
      "2020-06-04 12:25:11,122 : INFO : EPOCH - 38 : training on 23411 raw words (13065 effective words) took 0.3s, 42698 effective words/s\n",
      "2020-06-04 12:25:11,130 : INFO : worker thread finished; awaiting finish of 3 more threads\n",
      "2020-06-04 12:25:11,223 : INFO : worker thread finished; awaiting finish of 2 more threads\n",
      "2020-06-04 12:25:11,398 : INFO : worker thread finished; awaiting finish of 1 more threads\n",
      "2020-06-04 12:25:11,414 : INFO : worker thread finished; awaiting finish of 0 more threads\n",
      "2020-06-04 12:25:11,416 : INFO : EPOCH - 39 : training on 23411 raw words (13061 effective words) took 0.3s, 45240 effective words/s\n",
      "2020-06-04 12:25:11,424 : INFO : worker thread finished; awaiting finish of 3 more threads\n",
      "2020-06-04 12:25:11,524 : INFO : worker thread finished; awaiting finish of 2 more threads\n",
      "2020-06-04 12:25:11,709 : INFO : worker thread finished; awaiting finish of 1 more threads\n",
      "2020-06-04 12:25:11,729 : INFO : worker thread finished; awaiting finish of 0 more threads\n",
      "2020-06-04 12:25:11,730 : INFO : EPOCH - 40 : training on 23411 raw words (12960 effective words) took 0.3s, 41933 effective words/s\n",
      "2020-06-04 12:25:11,740 : INFO : worker thread finished; awaiting finish of 3 more threads\n",
      "2020-06-04 12:25:11,837 : INFO : worker thread finished; awaiting finish of 2 more threads\n",
      "2020-06-04 12:25:12,035 : INFO : worker thread finished; awaiting finish of 1 more threads\n",
      "2020-06-04 12:25:12,036 : INFO : worker thread finished; awaiting finish of 0 more threads\n",
      "2020-06-04 12:25:12,037 : INFO : EPOCH - 41 : training on 23411 raw words (12903 effective words) took 0.3s, 43034 effective words/s\n",
      "2020-06-04 12:25:12,044 : INFO : worker thread finished; awaiting finish of 3 more threads\n",
      "2020-06-04 12:25:12,155 : INFO : worker thread finished; awaiting finish of 2 more threads\n",
      "2020-06-04 12:25:12,354 : INFO : worker thread finished; awaiting finish of 1 more threads\n",
      "2020-06-04 12:25:12,362 : INFO : worker thread finished; awaiting finish of 0 more threads\n",
      "2020-06-04 12:25:12,364 : INFO : EPOCH - 42 : training on 23411 raw words (13011 effective words) took 0.3s, 40383 effective words/s\n",
      "2020-06-04 12:25:12,375 : INFO : worker thread finished; awaiting finish of 3 more threads\n",
      "2020-06-04 12:25:12,469 : INFO : worker thread finished; awaiting finish of 2 more threads\n",
      "2020-06-04 12:25:12,640 : INFO : worker thread finished; awaiting finish of 1 more threads\n",
      "2020-06-04 12:25:12,642 : INFO : worker thread finished; awaiting finish of 0 more threads\n",
      "2020-06-04 12:25:12,643 : INFO : EPOCH - 43 : training on 23411 raw words (13006 effective words) took 0.3s, 47832 effective words/s\n",
      "2020-06-04 12:25:12,650 : INFO : worker thread finished; awaiting finish of 3 more threads\n",
      "2020-06-04 12:25:12,748 : INFO : worker thread finished; awaiting finish of 2 more threads\n",
      "2020-06-04 12:25:12,924 : INFO : worker thread finished; awaiting finish of 1 more threads\n",
      "2020-06-04 12:25:12,933 : INFO : worker thread finished; awaiting finish of 0 more threads\n",
      "2020-06-04 12:25:12,934 : INFO : EPOCH - 44 : training on 23411 raw words (12954 effective words) took 0.3s, 45176 effective words/s\n",
      "2020-06-04 12:25:12,940 : INFO : worker thread finished; awaiting finish of 3 more threads\n",
      "2020-06-04 12:25:13,036 : INFO : worker thread finished; awaiting finish of 2 more threads\n",
      "2020-06-04 12:25:13,225 : INFO : worker thread finished; awaiting finish of 1 more threads\n",
      "2020-06-04 12:25:13,242 : INFO : worker thread finished; awaiting finish of 0 more threads\n",
      "2020-06-04 12:25:13,244 : INFO : EPOCH - 45 : training on 23411 raw words (13024 effective words) took 0.3s, 42566 effective words/s\n",
      "2020-06-04 12:25:13,255 : INFO : worker thread finished; awaiting finish of 3 more threads\n",
      "2020-06-04 12:25:13,359 : INFO : worker thread finished; awaiting finish of 2 more threads\n",
      "2020-06-04 12:25:13,523 : INFO : worker thread finished; awaiting finish of 1 more threads\n",
      "2020-06-04 12:25:13,530 : INFO : worker thread finished; awaiting finish of 0 more threads\n",
      "2020-06-04 12:25:13,531 : INFO : EPOCH - 46 : training on 23411 raw words (13009 effective words) took 0.3s, 45966 effective words/s\n",
      "2020-06-04 12:25:13,539 : INFO : worker thread finished; awaiting finish of 3 more threads\n",
      "2020-06-04 12:25:13,631 : INFO : worker thread finished; awaiting finish of 2 more threads\n",
      "2020-06-04 12:25:13,797 : INFO : worker thread finished; awaiting finish of 1 more threads\n",
      "2020-06-04 12:25:13,803 : INFO : worker thread finished; awaiting finish of 0 more threads\n",
      "2020-06-04 12:25:13,804 : INFO : EPOCH - 47 : training on 23411 raw words (13022 effective words) took 0.3s, 48436 effective words/s\n",
      "2020-06-04 12:25:13,811 : INFO : worker thread finished; awaiting finish of 3 more threads\n",
      "2020-06-04 12:25:13,907 : INFO : worker thread finished; awaiting finish of 2 more threads\n",
      "2020-06-04 12:25:14,067 : INFO : worker thread finished; awaiting finish of 1 more threads\n"
     ]
    },
    {
     "name": "stderr",
     "output_type": "stream",
     "text": [
      "2020-06-04 12:25:14,076 : INFO : worker thread finished; awaiting finish of 0 more threads\n",
      "2020-06-04 12:25:14,078 : INFO : EPOCH - 48 : training on 23411 raw words (13034 effective words) took 0.3s, 48414 effective words/s\n",
      "2020-06-04 12:25:14,085 : INFO : worker thread finished; awaiting finish of 3 more threads\n",
      "2020-06-04 12:25:14,172 : INFO : worker thread finished; awaiting finish of 2 more threads\n",
      "2020-06-04 12:25:14,334 : INFO : worker thread finished; awaiting finish of 1 more threads\n",
      "2020-06-04 12:25:14,345 : INFO : worker thread finished; awaiting finish of 0 more threads\n",
      "2020-06-04 12:25:14,346 : INFO : EPOCH - 49 : training on 23411 raw words (13010 effective words) took 0.3s, 49177 effective words/s\n",
      "2020-06-04 12:25:14,353 : INFO : worker thread finished; awaiting finish of 3 more threads\n",
      "2020-06-04 12:25:14,444 : INFO : worker thread finished; awaiting finish of 2 more threads\n",
      "2020-06-04 12:25:14,601 : INFO : worker thread finished; awaiting finish of 1 more threads\n",
      "2020-06-04 12:25:14,616 : INFO : worker thread finished; awaiting finish of 0 more threads\n",
      "2020-06-04 12:25:14,617 : INFO : EPOCH - 50 : training on 23411 raw words (13056 effective words) took 0.3s, 49042 effective words/s\n",
      "2020-06-04 12:25:14,617 : INFO : training on a 1170550 raw words (651449 effective words) took 14.6s, 44686 effective words/s\n"
     ]
    }
   ],
   "source": [
    "# Create Word2Vec\n",
    "logging.basicConfig(format='%(asctime)s : %(levelname)s : %(message)s', level=logging.INFO)\n",
    "word2vec = Word2Vec(sentences=tokenized_corpus,\n",
    "                    size=vector_size, \n",
    "                    window=window_size, \n",
    "                    negative=20,\n",
    "                    iter=50,\n",
    "                    seed=1000,\n",
    "                    workers=multiprocessing.cpu_count(),\n",
    "                    sg=1)"
   ]
  },
  {
   "cell_type": "code",
   "execution_count": 9,
   "metadata": {},
   "outputs": [],
   "source": [
    "# Copy word vectors and delete Word2Vec model and original corpus to save memory\n",
    "X_vecs = word2vec.wv\n",
    "del word2vec\n",
    "del corpus"
   ]
  },
  {
   "cell_type": "code",
   "execution_count": 10,
   "metadata": {},
   "outputs": [
    {
     "name": "stdout",
     "output_type": "stream",
     "text": [
      "Average tweet length: 23.5523138832998\n",
      "Max tweet length: 201\n"
     ]
    }
   ],
   "source": [
    "# Train subset size (0 < size < len(tokenized_corpus))\n",
    "train_size = math.floor(0.8 * len(tokenized_corpus))\n",
    "\n",
    "# Test subset size (0 < size < len(tokenized_corpus) - train_size)\n",
    "test_size = len(tokenized_corpus) - train_size\n",
    "\n",
    "# Compute average and max tweet length\n",
    "avg_length = 0.0\n",
    "max_length = 0\n",
    "\n",
    "for tweet in tokenized_corpus:\n",
    "    if len(tweet) > max_length:\n",
    "        max_length = len(tweet)\n",
    "    avg_length += float(len(tweet))\n",
    "    \n",
    "print('Average tweet length: {}'.format(avg_length / float(len(tokenized_corpus))))\n",
    "print('Max tweet length: {}'.format(max_length))"
   ]
  },
  {
   "cell_type": "code",
   "execution_count": 11,
   "metadata": {},
   "outputs": [],
   "source": [
    "# Tweet max length (number of tokens)\n",
    "max_tweet_length = max_length"
   ]
  },
  {
   "cell_type": "code",
   "execution_count": 12,
   "metadata": {},
   "outputs": [],
   "source": [
    "# Create train and test sets\n",
    "# Generate random indexes\n",
    "indexes = set(np.random.choice(len(tokenized_corpus), train_size + test_size, replace=False))\n",
    "\n",
    "X_train = np.zeros((train_size, max_tweet_length, vector_size), dtype=K.floatx())\n",
    "Y_train = np.zeros((train_size, 2), dtype=np.int32)\n",
    "X_test = np.zeros((test_size, max_tweet_length, vector_size), dtype=K.floatx())\n",
    "Y_test = np.zeros((test_size, 2), dtype=np.int32)\n",
    "\n",
    "for i, index in enumerate(indexes):\n",
    "    for t, token in enumerate(tokenized_corpus[index]):\n",
    "        if t >= max_tweet_length:\n",
    "            break\n",
    "        \n",
    "        if token not in X_vecs:\n",
    "            continue\n",
    "    \n",
    "        if i < train_size:\n",
    "            X_train[i, t, :] = X_vecs[token]\n",
    "        else:\n",
    "            X_test[i - train_size, t, :] = X_vecs[token]\n",
    "            \n",
    "    if i < train_size:\n",
    "        Y_train[i, :] = [1.0, 0.0] if labels[index] == 0 else [0.0, 1.0]\n",
    "    else:\n",
    "        Y_test[i - train_size, :] = [1.0, 0.0] if labels[index] == 0 else [0.0, 1.0] "
   ]
  },
  {
   "cell_type": "code",
   "execution_count": 13,
   "metadata": {},
   "outputs": [
    {
     "name": "stdout",
     "output_type": "stream",
     "text": [
      "Model: \"sequential\"\n",
      "_________________________________________________________________\n",
      "Layer (type)                 Output Shape              Param #   \n",
      "=================================================================\n",
      "bidirectional (Bidirectional (None, 201, 128)          186880    \n",
      "_________________________________________________________________\n",
      "bidirectional_1 (Bidirection (None, 64)                41216     \n",
      "_________________________________________________________________\n",
      "dense (Dense)                (None, 2)                 130       \n",
      "=================================================================\n",
      "Total params: 228,226\n",
      "Trainable params: 228,226\n",
      "Non-trainable params: 0\n",
      "_________________________________________________________________\n"
     ]
    }
   ],
   "source": [
    "batch_size = 16\n",
    "nb_epochs = 15\n",
    "\n",
    "model = tf.keras.Sequential([\n",
    "    tf.keras.layers.Bidirectional(tf.keras.layers.LSTM(64, return_sequences=True), input_shape=(max_tweet_length, vector_size)),\n",
    "    tf.keras.layers.Bidirectional(tf.keras.layers.LSTM(32)),\n",
    "    tf.keras.layers.Dense(2, activation='softmax')\n",
    "])\n",
    "\n",
    "model.summary()"
   ]
  },
  {
   "cell_type": "code",
   "execution_count": 14,
   "metadata": {},
   "outputs": [],
   "source": [
    "# Compile the model\n",
    "model.compile(loss=tf.keras.losses.CategoricalCrossentropy(from_logits=True), \n",
    "              optimizer=tf.keras.optimizers.Adam(learning_rate=0.0001),\n",
    "              metrics=['accuracy'])"
   ]
  },
  {
   "cell_type": "code",
   "execution_count": 15,
   "metadata": {
    "scrolled": false
   },
   "outputs": [
    {
     "name": "stdout",
     "output_type": "stream",
     "text": [
      "Train on 795 samples, validate on 199 samples\n",
      "Epoch 1/15\n",
      "795/795 [==============================] - 36s 45ms/sample - loss: 0.6592 - accuracy: 0.6403 - val_loss: 0.6260 - val_accuracy: 0.6784\n",
      "Epoch 2/15\n",
      "795/795 [==============================] - 29s 36ms/sample - loss: 0.6280 - accuracy: 0.6403 - val_loss: 0.6003 - val_accuracy: 0.6784\n",
      "Epoch 3/15\n",
      "795/795 [==============================] - 33s 41ms/sample - loss: 0.5855 - accuracy: 0.6604 - val_loss: 0.5462 - val_accuracy: 0.8090\n",
      "Epoch 4/15\n",
      "795/795 [==============================] - 28s 35ms/sample - loss: 0.5181 - accuracy: 0.8314 - val_loss: 0.5067 - val_accuracy: 0.8291\n",
      "Epoch 5/15\n",
      "795/795 [==============================] - 29s 37ms/sample - loss: 0.4779 - accuracy: 0.8553 - val_loss: 0.4896 - val_accuracy: 0.8291\n",
      "Epoch 6/15\n",
      "795/795 [==============================] - 28s 35ms/sample - loss: 0.4577 - accuracy: 0.8667 - val_loss: 0.4797 - val_accuracy: 0.8291\n",
      "Epoch 7/15\n",
      "795/795 [==============================] - 27s 34ms/sample - loss: 0.4342 - accuracy: 0.8943 - val_loss: 0.4609 - val_accuracy: 0.8543\n",
      "Epoch 8/15\n",
      "795/795 [==============================] - 27s 34ms/sample - loss: 0.4253 - accuracy: 0.8956 - val_loss: 0.4388 - val_accuracy: 0.8844\n",
      "Epoch 9/15\n",
      "795/795 [==============================] - 28s 35ms/sample - loss: 0.4132 - accuracy: 0.9082 - val_loss: 0.4333 - val_accuracy: 0.8844\n",
      "Epoch 10/15\n",
      "795/795 [==============================] - 25s 31ms/sample - loss: 0.4086 - accuracy: 0.9107 - val_loss: 0.4305 - val_accuracy: 0.8894\n",
      "Epoch 11/15\n",
      "795/795 [==============================] - 26s 32ms/sample - loss: 0.4014 - accuracy: 0.9170 - val_loss: 0.4320 - val_accuracy: 0.8844\n",
      "Epoch 12/15\n",
      "795/795 [==============================] - 26s 33ms/sample - loss: 0.3989 - accuracy: 0.9157 - val_loss: 0.4396 - val_accuracy: 0.8744\n",
      "Epoch 13/15\n",
      "795/795 [==============================] - 25s 31ms/sample - loss: 0.3921 - accuracy: 0.9233 - val_loss: 0.4315 - val_accuracy: 0.8744\n",
      "Epoch 14/15\n",
      "795/795 [==============================] - 25s 31ms/sample - loss: 0.3806 - accuracy: 0.9384 - val_loss: 0.4274 - val_accuracy: 0.8844\n",
      "Epoch 15/15\n",
      "795/795 [==============================] - 25s 31ms/sample - loss: 0.3741 - accuracy: 0.9447 - val_loss: 0.4266 - val_accuracy: 0.8844\n"
     ]
    }
   ],
   "source": [
    "# Fit the model\n",
    "history = model.fit(X_train, Y_train,\n",
    "          batch_size=batch_size,\n",
    "          shuffle=True,\n",
    "          epochs=nb_epochs,\n",
    "          validation_data=(X_test, Y_test))"
   ]
  },
  {
   "cell_type": "code",
   "execution_count": 16,
   "metadata": {},
   "outputs": [
    {
     "name": "stdout",
     "output_type": "stream",
     "text": [
      "199/199 [==============================] - 1s 4ms/sample - loss: 0.4266 - accuracy: 0.8844\n",
      "Loss:  0.427\n",
      "Accuracy:  0.884\n"
     ]
    }
   ],
   "source": [
    "loss, accuracy = model.evaluate(X_test, Y_test)\n",
    "\n",
    "print(\"Loss: \", \"%.3f\" % loss)\n",
    "print(\"Accuracy: \", \"%.3f\" % accuracy)"
   ]
  },
  {
   "cell_type": "markdown",
   "metadata": {},
   "source": [
    "# Graph"
   ]
  },
  {
   "cell_type": "code",
   "execution_count": 17,
   "metadata": {},
   "outputs": [
    {
     "data": {
      "text/plain": [
       "dict_keys(['loss', 'accuracy', 'val_loss', 'val_accuracy'])"
      ]
     },
     "execution_count": 17,
     "metadata": {},
     "output_type": "execute_result"
    }
   ],
   "source": [
    "history_dict = history.history\n",
    "history_dict.keys()"
   ]
  },
  {
   "cell_type": "code",
   "execution_count": 18,
   "metadata": {},
   "outputs": [
    {
     "data": {
      "image/png": "[encoded data removed]",
      "text/plain": [
       "<Figure size 432x288 with 1 Axes>"
      ]
     },
     "metadata": {
      "needs_background": "light"
     },
     "output_type": "display_data"
    }
   ],
   "source": [
    "acc = history_dict['accuracy']\n",
    "val_acc = history_dict['val_accuracy']\n",
    "loss = history_dict['loss']\n",
    "val_loss = history_dict['val_loss']\n",
    "\n",
    "epochs = range(1, len(acc) + 1)\n",
    "\n",
    "# \"bo\" is for \"blue dot\"\n",
    "plt.plot(epochs, loss, 'bo', label='Training loss')\n",
    "# b is for \"solid blue line\"\n",
    "plt.plot(epochs, val_loss, 'b', label='Validation loss')\n",
    "plt.title('Training and validation loss')\n",
    "plt.xlabel('Epochs')\n",
    "plt.ylabel('Loss')\n",
    "plt.legend()\n",
    "\n",
    "plt.show()"
   ]
  },
  {
   "cell_type": "code",
   "execution_count": 19,
   "metadata": {},
   "outputs": [
    {
     "data": {
      "image/png": "[encoded data removed]",
      "text/plain": [
       "<Figure size 432x288 with 1 Axes>"
      ]
     },
     "metadata": {
      "needs_background": "light"
     },
     "output_type": "display_data"
    }
   ],
   "source": [
    "plt.plot(history.history['loss'], label='Training loss')\n",
    "plt.plot(history.history['val_loss'], label='Validation loss')\n",
    "plt.title('Training and validation loss')\n",
    "plt.xlabel('Epochs')\n",
    "plt.ylabel('Loss')\n",
    "plt.legend();\n",
    "plt.show()"
   ]
  },
  {
   "cell_type": "code",
   "execution_count": 20,
   "metadata": {},
   "outputs": [
    {
     "data": {
      "image/png": "[encoded data removed]",
      "text/plain": [
       "<Figure size 432x288 with 1 Axes>"
      ]
     },
     "metadata": {
      "needs_background": "light"
     },
     "output_type": "display_data"
    }
   ],
   "source": [
    "plt.clf()   # clear figure\n",
    "\n",
    "plt.plot(epochs, acc, 'bo', label='Training acc')\n",
    "plt.plot(epochs, val_acc, 'b', label='Validation acc')\n",
    "plt.title('Training and validation accuracy')\n",
    "plt.xlabel('Epochs')\n",
    "plt.ylabel('Accuracy')\n",
    "plt.legend(loc='lower right')\n",
    "\n",
    "plt.show()"
   ]
  },
  {
   "cell_type": "code",
   "execution_count": 21,
   "metadata": {},
   "outputs": [
    {
     "data": {
      "image/png": "[encoded data removed]",
      "text/plain": [
       "<Figure size 432x288 with 1 Axes>"
      ]
     },
     "metadata": {
      "needs_background": "light"
     },
     "output_type": "display_data"
    }
   ],
   "source": [
    "plt.plot(history.history['accuracy'], label='Training accuracy')\n",
    "plt.plot(history.history['val_accuracy'], label='Validation accuracy')\n",
    "plt.title('Training and validation accuracy')\n",
    "plt.xlabel('Epochs')\n",
    "plt.ylabel('Accuracy')\n",
    "plt.legend(loc='lower right')\n",
    "plt.show()"
   ]
  }
 ],
 "metadata": {
  "kernelspec": {
   "display_name": "Python 3",
   "language": "python",
   "name": "python3"
  },
  "language_info": {
   "codemirror_mode": {
    "name": "ipython",
    "version": 3
   },
   "file_extension": ".py",
   "mimetype": "text/x-python",
   "name": "python",
   "nbconvert_exporter": "python",
   "pygments_lexer": "ipython3",
   "version": "3.7.4"
  }
 },
 "nbformat": 4,
 "nbformat_minor": 2
}
