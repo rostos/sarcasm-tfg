{
 "cells": [
  {
   "cell_type": "code",
   "execution_count": 1,
   "metadata": {},
   "outputs": [],
   "source": [
    "import tensorflow.keras.backend as K\n",
    "import multiprocessing\n",
    "\n",
    "import tensorflow as tf\n",
    "from tensorflow import keras\n",
    "\n",
    "import numpy as np\n",
    "import matplotlib.pyplot as plt\n",
    "import csv\n",
    "import math\n",
    "import random\n",
    "import logging\n",
    "\n",
    "from gensim.models.word2vec import Word2Vec\n",
    "\n",
    "from nltk.stem.lancaster import LancasterStemmer\n",
    "from nltk.tokenize import RegexpTokenizer"
   ]
  },
  {
   "cell_type": "code",
   "execution_count": 2,
   "metadata": {},
   "outputs": [],
   "source": [
    "# Set random seed (for reproducibility)\n",
    "np.random.seed(1000)"
   ]
  },
  {
   "cell_type": "code",
   "execution_count": 3,
   "metadata": {},
   "outputs": [],
   "source": [
    "#dataset_location = './datasets/sarcasm_v2.csv'\n",
    "dataset_location = './datasets/text_and_annorations.csv'\n",
    "model_location = './word2vec/'\n",
    "\n",
    "corpus = []\n",
    "labels = []"
   ]
  },
  {
   "cell_type": "code",
   "execution_count": 4,
   "metadata": {},
   "outputs": [],
   "source": [
    "#Shuffle the dataset\n",
    "\n",
    "ip=open(dataset_location,'r', encoding=\"utf8\")\n",
    "next(ip)   #ignore the first row (label row)\n",
    "li = ip.readlines()\n",
    "random.shuffle(li)\n",
    "\n",
    "#dataset_location = './datasets/shuffled_sarcasm_v2.csv'\n",
    "dataset_location = './datasets/shuffled_text_and_annotations.csv'\n",
    "\n",
    "fid = open(dataset_location, \"w\", encoding=\"utf8\")\n",
    "fid.writelines(li)\n",
    "fid.close()"
   ]
  },
  {
   "cell_type": "code",
   "execution_count": 5,
   "metadata": {},
   "outputs": [
    {
     "name": "stdout",
     "output_type": "stream",
     "text": [
      "Corpus size: 994\n"
     ]
    }
   ],
   "source": [
    "# Parse tweets and sentiments       \n",
    "with open(dataset_location, 'r', encoding=\"utf8\") as csvDataFile:\n",
    "    csvReader = csv.reader(csvDataFile)\n",
    "    \n",
    "    #skip the first line?\n",
    "    #next(csvReader)\n",
    "    \n",
    "    for row in csvReader:\n",
    "        #corpus.append(row[3] + \" - \" + row[4])\n",
    "        corpus.append(row[1])\n",
    "\n",
    "        #Sarcasm label, (0 = not sarcasm, 1 = sarcasm)\n",
    "        #pol = 1 if row[1] == 'sarc' else 0\n",
    "        pol = 1 if row[5] == 'Yes' else 0\n",
    "        labels.append(pol)\n",
    "        \n",
    "print('Corpus size: {}'.format(len(corpus)))"
   ]
  },
  {
   "cell_type": "code",
   "execution_count": 6,
   "metadata": {},
   "outputs": [],
   "source": [
    "# Tokenize and stem\n",
    "tkr = RegexpTokenizer('[a-zA-Z0-9@]+')\n",
    "#stemmer = LancasterStemmer()\n",
    "\n",
    "tokenized_corpus = []\n",
    "\n",
    "for i, tweet in enumerate(corpus):\n",
    "    #tokens = [stemmer.stem(t) for t in tkr.tokenize(tweet) if not t.startswith('@')]\n",
    "    tokens = [t for t in tkr.tokenize(tweet) if not t.startswith('@')]\n",
    "    tokenized_corpus.append(tokens)"
   ]
  },
  {
   "cell_type": "code",
   "execution_count": 7,
   "metadata": {},
   "outputs": [],
   "source": [
    "# Gensim Word2Vec model\n",
    "vector_size = 300\n",
    "window_size = 10"
   ]
  },
  {
   "cell_type": "code",
   "execution_count": 8,
   "metadata": {},
   "outputs": [
    {
     "name": "stderr",
     "output_type": "stream",
     "text": [
      "2020-06-04 12:33:59,915 : INFO : collecting all words and their counts\n",
      "2020-06-04 12:33:59,916 : INFO : PROGRESS: at sentence #0, processed 0 words, keeping 0 word types\n",
      "2020-06-04 12:33:59,922 : INFO : collected 4545 word types from a corpus of 23411 raw words and 994 sentences\n",
      "2020-06-04 12:33:59,923 : INFO : Loading a fresh vocabulary\n",
      "2020-06-04 12:33:59,927 : INFO : effective_min_count=5 retains 636 unique words (13% of original 4545, drops 3909)\n",
      "2020-06-04 12:33:59,928 : INFO : effective_min_count=5 leaves 17755 word corpus (75% of original 23411, drops 5656)\n",
      "2020-06-04 12:33:59,931 : INFO : deleting the raw counts dictionary of 4545 items\n",
      "2020-06-04 12:33:59,933 : INFO : sample=0.001 downsamples 72 most-common words\n",
      "2020-06-04 12:33:59,934 : INFO : downsampling leaves estimated 11628 word corpus (65.5% of prior 17755)\n",
      "2020-06-04 12:33:59,937 : INFO : estimated required memory for 636 words and 300 dimensions: 1844400 bytes\n",
      "2020-06-04 12:33:59,937 : INFO : resetting layer weights\n",
      "2020-06-04 12:33:59,954 : INFO : training model with 4 workers on 636 vocabulary and 300 features, using sg=1 hs=0 sample=0.001 negative=20 window=10\n",
      "2020-06-04 12:33:59,962 : INFO : worker thread finished; awaiting finish of 3 more threads\n",
      "2020-06-04 12:34:00,055 : INFO : worker thread finished; awaiting finish of 2 more threads\n",
      "2020-06-04 12:34:00,196 : INFO : worker thread finished; awaiting finish of 1 more threads\n",
      "2020-06-04 12:34:00,207 : INFO : worker thread finished; awaiting finish of 0 more threads\n",
      "2020-06-04 12:34:00,208 : INFO : EPOCH - 1 : training on 23411 raw words (11616 effective words) took 0.2s, 46652 effective words/s\n",
      "2020-06-04 12:34:00,215 : INFO : worker thread finished; awaiting finish of 3 more threads\n",
      "2020-06-04 12:34:00,297 : INFO : worker thread finished; awaiting finish of 2 more threads\n",
      "2020-06-04 12:34:00,443 : INFO : worker thread finished; awaiting finish of 1 more threads\n",
      "2020-06-04 12:34:00,448 : INFO : worker thread finished; awaiting finish of 0 more threads\n",
      "2020-06-04 12:34:00,449 : INFO : EPOCH - 2 : training on 23411 raw words (11618 effective words) took 0.2s, 48932 effective words/s\n",
      "2020-06-04 12:34:00,456 : INFO : worker thread finished; awaiting finish of 3 more threads\n",
      "2020-06-04 12:34:00,542 : INFO : worker thread finished; awaiting finish of 2 more threads\n",
      "2020-06-04 12:34:00,693 : INFO : worker thread finished; awaiting finish of 1 more threads\n",
      "2020-06-04 12:34:00,696 : INFO : worker thread finished; awaiting finish of 0 more threads\n",
      "2020-06-04 12:34:00,697 : INFO : EPOCH - 3 : training on 23411 raw words (11614 effective words) took 0.2s, 47698 effective words/s\n",
      "2020-06-04 12:34:00,703 : INFO : worker thread finished; awaiting finish of 3 more threads\n",
      "2020-06-04 12:34:00,790 : INFO : worker thread finished; awaiting finish of 2 more threads\n",
      "2020-06-04 12:34:00,945 : INFO : worker thread finished; awaiting finish of 1 more threads\n",
      "2020-06-04 12:34:00,948 : INFO : worker thread finished; awaiting finish of 0 more threads\n",
      "2020-06-04 12:34:00,949 : INFO : EPOCH - 4 : training on 23411 raw words (11656 effective words) took 0.2s, 46852 effective words/s\n",
      "2020-06-04 12:34:00,957 : INFO : worker thread finished; awaiting finish of 3 more threads\n",
      "2020-06-04 12:34:01,040 : INFO : worker thread finished; awaiting finish of 2 more threads\n",
      "2020-06-04 12:34:01,187 : INFO : worker thread finished; awaiting finish of 1 more threads\n",
      "2020-06-04 12:34:01,189 : INFO : worker thread finished; awaiting finish of 0 more threads\n",
      "2020-06-04 12:34:01,189 : INFO : EPOCH - 5 : training on 23411 raw words (11619 effective words) took 0.2s, 49349 effective words/s\n",
      "2020-06-04 12:34:01,196 : INFO : worker thread finished; awaiting finish of 3 more threads\n",
      "2020-06-04 12:34:01,278 : INFO : worker thread finished; awaiting finish of 2 more threads\n",
      "2020-06-04 12:34:01,420 : INFO : worker thread finished; awaiting finish of 1 more threads\n",
      "2020-06-04 12:34:01,426 : INFO : worker thread finished; awaiting finish of 0 more threads\n",
      "2020-06-04 12:34:01,427 : INFO : EPOCH - 6 : training on 23411 raw words (11634 effective words) took 0.2s, 49889 effective words/s\n",
      "2020-06-04 12:34:01,434 : INFO : worker thread finished; awaiting finish of 3 more threads\n",
      "2020-06-04 12:34:01,536 : INFO : worker thread finished; awaiting finish of 2 more threads\n",
      "2020-06-04 12:34:01,680 : INFO : worker thread finished; awaiting finish of 1 more threads\n",
      "2020-06-04 12:34:01,684 : INFO : worker thread finished; awaiting finish of 0 more threads\n",
      "2020-06-04 12:34:01,685 : INFO : EPOCH - 7 : training on 23411 raw words (11789 effective words) took 0.3s, 46432 effective words/s\n",
      "2020-06-04 12:34:01,692 : INFO : worker thread finished; awaiting finish of 3 more threads\n",
      "2020-06-04 12:34:01,771 : INFO : worker thread finished; awaiting finish of 2 more threads\n",
      "2020-06-04 12:34:01,911 : INFO : worker thread finished; awaiting finish of 1 more threads\n",
      "2020-06-04 12:34:01,923 : INFO : worker thread finished; awaiting finish of 0 more threads\n",
      "2020-06-04 12:34:01,924 : INFO : EPOCH - 8 : training on 23411 raw words (11644 effective words) took 0.2s, 49507 effective words/s\n",
      "2020-06-04 12:34:01,931 : INFO : worker thread finished; awaiting finish of 3 more threads\n",
      "2020-06-04 12:34:02,008 : INFO : worker thread finished; awaiting finish of 2 more threads\n",
      "2020-06-04 12:34:02,149 : INFO : worker thread finished; awaiting finish of 1 more threads\n",
      "2020-06-04 12:34:02,156 : INFO : worker thread finished; awaiting finish of 0 more threads\n",
      "2020-06-04 12:34:02,156 : INFO : EPOCH - 9 : training on 23411 raw words (11560 effective words) took 0.2s, 50522 effective words/s\n",
      "2020-06-04 12:34:02,162 : INFO : worker thread finished; awaiting finish of 3 more threads\n",
      "2020-06-04 12:34:02,262 : INFO : worker thread finished; awaiting finish of 2 more threads\n",
      "2020-06-04 12:34:02,396 : INFO : worker thread finished; awaiting finish of 1 more threads\n",
      "2020-06-04 12:34:02,397 : INFO : worker thread finished; awaiting finish of 0 more threads\n",
      "2020-06-04 12:34:02,398 : INFO : EPOCH - 10 : training on 23411 raw words (11619 effective words) took 0.2s, 49355 effective words/s\n",
      "2020-06-04 12:34:02,405 : INFO : worker thread finished; awaiting finish of 3 more threads\n",
      "2020-06-04 12:34:02,483 : INFO : worker thread finished; awaiting finish of 2 more threads\n",
      "2020-06-04 12:34:02,695 : INFO : worker thread finished; awaiting finish of 1 more threads\n",
      "2020-06-04 12:34:02,700 : INFO : worker thread finished; awaiting finish of 0 more threads\n",
      "2020-06-04 12:34:02,701 : INFO : EPOCH - 11 : training on 23411 raw words (11650 effective words) took 0.3s, 38968 effective words/s\n",
      "2020-06-04 12:34:02,715 : INFO : worker thread finished; awaiting finish of 3 more threads\n",
      "2020-06-04 12:34:02,814 : INFO : worker thread finished; awaiting finish of 2 more threads\n",
      "2020-06-04 12:34:02,958 : INFO : worker thread finished; awaiting finish of 1 more threads\n",
      "2020-06-04 12:34:02,965 : INFO : worker thread finished; awaiting finish of 0 more threads\n",
      "2020-06-04 12:34:02,966 : INFO : EPOCH - 12 : training on 23411 raw words (11660 effective words) took 0.3s, 45456 effective words/s\n",
      "2020-06-04 12:34:02,973 : INFO : worker thread finished; awaiting finish of 3 more threads\n",
      "2020-06-04 12:34:03,057 : INFO : worker thread finished; awaiting finish of 2 more threads\n",
      "2020-06-04 12:34:03,206 : INFO : worker thread finished; awaiting finish of 1 more threads\n",
      "2020-06-04 12:34:03,208 : INFO : worker thread finished; awaiting finish of 0 more threads\n",
      "2020-06-04 12:34:03,209 : INFO : EPOCH - 13 : training on 23411 raw words (11683 effective words) took 0.2s, 48831 effective words/s\n",
      "2020-06-04 12:34:03,216 : INFO : worker thread finished; awaiting finish of 3 more threads\n",
      "2020-06-04 12:34:03,306 : INFO : worker thread finished; awaiting finish of 2 more threads\n",
      "2020-06-04 12:34:03,447 : INFO : worker thread finished; awaiting finish of 1 more threads\n",
      "2020-06-04 12:34:03,451 : INFO : worker thread finished; awaiting finish of 0 more threads\n",
      "2020-06-04 12:34:03,452 : INFO : EPOCH - 14 : training on 23411 raw words (11686 effective words) took 0.2s, 49012 effective words/s\n",
      "2020-06-04 12:34:03,459 : INFO : worker thread finished; awaiting finish of 3 more threads\n",
      "2020-06-04 12:34:03,551 : INFO : worker thread finished; awaiting finish of 2 more threads\n"
     ]
    },
    {
     "name": "stderr",
     "output_type": "stream",
     "text": [
      "2020-06-04 12:34:03,688 : INFO : worker thread finished; awaiting finish of 1 more threads\n",
      "2020-06-04 12:34:03,693 : INFO : worker thread finished; awaiting finish of 0 more threads\n",
      "2020-06-04 12:34:03,694 : INFO : EPOCH - 15 : training on 23411 raw words (11643 effective words) took 0.2s, 49152 effective words/s\n",
      "2020-06-04 12:34:03,700 : INFO : worker thread finished; awaiting finish of 3 more threads\n",
      "2020-06-04 12:34:03,777 : INFO : worker thread finished; awaiting finish of 2 more threads\n",
      "2020-06-04 12:34:03,917 : INFO : worker thread finished; awaiting finish of 1 more threads\n",
      "2020-06-04 12:34:03,923 : INFO : worker thread finished; awaiting finish of 0 more threads\n",
      "2020-06-04 12:34:03,924 : INFO : EPOCH - 16 : training on 23411 raw words (11590 effective words) took 0.2s, 51178 effective words/s\n",
      "2020-06-04 12:34:03,931 : INFO : worker thread finished; awaiting finish of 3 more threads\n",
      "2020-06-04 12:34:04,012 : INFO : worker thread finished; awaiting finish of 2 more threads\n",
      "2020-06-04 12:34:04,154 : INFO : worker thread finished; awaiting finish of 1 more threads\n",
      "2020-06-04 12:34:04,157 : INFO : worker thread finished; awaiting finish of 0 more threads\n",
      "2020-06-04 12:34:04,158 : INFO : EPOCH - 17 : training on 23411 raw words (11623 effective words) took 0.2s, 50453 effective words/s\n",
      "2020-06-04 12:34:04,165 : INFO : worker thread finished; awaiting finish of 3 more threads\n",
      "2020-06-04 12:34:04,248 : INFO : worker thread finished; awaiting finish of 2 more threads\n",
      "2020-06-04 12:34:04,388 : INFO : worker thread finished; awaiting finish of 1 more threads\n",
      "2020-06-04 12:34:04,394 : INFO : worker thread finished; awaiting finish of 0 more threads\n",
      "2020-06-04 12:34:04,395 : INFO : EPOCH - 18 : training on 23411 raw words (11633 effective words) took 0.2s, 49892 effective words/s\n",
      "2020-06-04 12:34:04,403 : INFO : worker thread finished; awaiting finish of 3 more threads\n",
      "2020-06-04 12:34:04,483 : INFO : worker thread finished; awaiting finish of 2 more threads\n",
      "2020-06-04 12:34:04,627 : INFO : worker thread finished; awaiting finish of 1 more threads\n",
      "2020-06-04 12:34:04,632 : INFO : worker thread finished; awaiting finish of 0 more threads\n",
      "2020-06-04 12:34:04,633 : INFO : EPOCH - 19 : training on 23411 raw words (11573 effective words) took 0.2s, 49740 effective words/s\n",
      "2020-06-04 12:34:04,639 : INFO : worker thread finished; awaiting finish of 3 more threads\n",
      "2020-06-04 12:34:04,716 : INFO : worker thread finished; awaiting finish of 2 more threads\n",
      "2020-06-04 12:34:04,857 : INFO : worker thread finished; awaiting finish of 1 more threads\n",
      "2020-06-04 12:34:04,862 : INFO : worker thread finished; awaiting finish of 0 more threads\n",
      "2020-06-04 12:34:04,864 : INFO : EPOCH - 20 : training on 23411 raw words (11597 effective words) took 0.2s, 51030 effective words/s\n",
      "2020-06-04 12:34:04,870 : INFO : worker thread finished; awaiting finish of 3 more threads\n",
      "2020-06-04 12:34:04,949 : INFO : worker thread finished; awaiting finish of 2 more threads\n",
      "2020-06-04 12:34:05,085 : INFO : worker thread finished; awaiting finish of 1 more threads\n",
      "2020-06-04 12:34:05,095 : INFO : worker thread finished; awaiting finish of 0 more threads\n",
      "2020-06-04 12:34:05,096 : INFO : EPOCH - 21 : training on 23411 raw words (11669 effective words) took 0.2s, 51100 effective words/s\n",
      "2020-06-04 12:34:05,102 : INFO : worker thread finished; awaiting finish of 3 more threads\n",
      "2020-06-04 12:34:05,183 : INFO : worker thread finished; awaiting finish of 2 more threads\n",
      "2020-06-04 12:34:05,326 : INFO : worker thread finished; awaiting finish of 1 more threads\n",
      "2020-06-04 12:34:05,330 : INFO : worker thread finished; awaiting finish of 0 more threads\n",
      "2020-06-04 12:34:05,331 : INFO : EPOCH - 22 : training on 23411 raw words (11614 effective words) took 0.2s, 50812 effective words/s\n",
      "2020-06-04 12:34:05,338 : INFO : worker thread finished; awaiting finish of 3 more threads\n",
      "2020-06-04 12:34:05,416 : INFO : worker thread finished; awaiting finish of 2 more threads\n",
      "2020-06-04 12:34:05,554 : INFO : worker thread finished; awaiting finish of 1 more threads\n",
      "2020-06-04 12:34:05,562 : INFO : worker thread finished; awaiting finish of 0 more threads\n",
      "2020-06-04 12:34:05,563 : INFO : EPOCH - 23 : training on 23411 raw words (11654 effective words) took 0.2s, 51144 effective words/s\n",
      "2020-06-04 12:34:05,569 : INFO : worker thread finished; awaiting finish of 3 more threads\n",
      "2020-06-04 12:34:05,649 : INFO : worker thread finished; awaiting finish of 2 more threads\n",
      "2020-06-04 12:34:05,788 : INFO : worker thread finished; awaiting finish of 1 more threads\n",
      "2020-06-04 12:34:05,795 : INFO : worker thread finished; awaiting finish of 0 more threads\n",
      "2020-06-04 12:34:05,796 : INFO : EPOCH - 24 : training on 23411 raw words (11536 effective words) took 0.2s, 50265 effective words/s\n",
      "2020-06-04 12:34:05,803 : INFO : worker thread finished; awaiting finish of 3 more threads\n",
      "2020-06-04 12:34:05,888 : INFO : worker thread finished; awaiting finish of 2 more threads\n",
      "2020-06-04 12:34:06,022 : INFO : worker thread finished; awaiting finish of 1 more threads\n",
      "2020-06-04 12:34:06,028 : INFO : worker thread finished; awaiting finish of 0 more threads\n",
      "2020-06-04 12:34:06,029 : INFO : EPOCH - 25 : training on 23411 raw words (11649 effective words) took 0.2s, 50700 effective words/s\n",
      "2020-06-04 12:34:06,037 : INFO : worker thread finished; awaiting finish of 3 more threads\n",
      "2020-06-04 12:34:06,116 : INFO : worker thread finished; awaiting finish of 2 more threads\n",
      "2020-06-04 12:34:06,253 : INFO : worker thread finished; awaiting finish of 1 more threads\n",
      "2020-06-04 12:34:06,261 : INFO : worker thread finished; awaiting finish of 0 more threads\n",
      "2020-06-04 12:34:06,262 : INFO : EPOCH - 26 : training on 23411 raw words (11549 effective words) took 0.2s, 50724 effective words/s\n",
      "2020-06-04 12:34:06,268 : INFO : worker thread finished; awaiting finish of 3 more threads\n",
      "2020-06-04 12:34:06,352 : INFO : worker thread finished; awaiting finish of 2 more threads\n",
      "2020-06-04 12:34:06,524 : INFO : worker thread finished; awaiting finish of 1 more threads\n",
      "2020-06-04 12:34:06,531 : INFO : worker thread finished; awaiting finish of 0 more threads\n",
      "2020-06-04 12:34:06,532 : INFO : EPOCH - 27 : training on 23411 raw words (11663 effective words) took 0.3s, 43728 effective words/s\n",
      "2020-06-04 12:34:06,541 : INFO : worker thread finished; awaiting finish of 3 more threads\n",
      "2020-06-04 12:34:06,635 : INFO : worker thread finished; awaiting finish of 2 more threads\n",
      "2020-06-04 12:34:06,772 : INFO : worker thread finished; awaiting finish of 1 more threads\n",
      "2020-06-04 12:34:06,776 : INFO : worker thread finished; awaiting finish of 0 more threads\n",
      "2020-06-04 12:34:06,777 : INFO : EPOCH - 28 : training on 23411 raw words (11542 effective words) took 0.2s, 48252 effective words/s\n",
      "2020-06-04 12:34:06,784 : INFO : worker thread finished; awaiting finish of 3 more threads\n",
      "2020-06-04 12:34:06,864 : INFO : worker thread finished; awaiting finish of 2 more threads\n",
      "2020-06-04 12:34:07,015 : INFO : worker thread finished; awaiting finish of 1 more threads\n",
      "2020-06-04 12:34:07,017 : INFO : worker thread finished; awaiting finish of 0 more threads\n",
      "2020-06-04 12:34:07,018 : INFO : EPOCH - 29 : training on 23411 raw words (11663 effective words) took 0.2s, 49212 effective words/s\n",
      "2020-06-04 12:34:07,026 : INFO : worker thread finished; awaiting finish of 3 more threads\n",
      "2020-06-04 12:34:07,121 : INFO : worker thread finished; awaiting finish of 2 more threads\n",
      "2020-06-04 12:34:07,270 : INFO : worker thread finished; awaiting finish of 1 more threads\n",
      "2020-06-04 12:34:07,273 : INFO : worker thread finished; awaiting finish of 0 more threads\n",
      "2020-06-04 12:34:07,274 : INFO : EPOCH - 30 : training on 23411 raw words (11583 effective words) took 0.3s, 46212 effective words/s\n",
      "2020-06-04 12:34:07,281 : INFO : worker thread finished; awaiting finish of 3 more threads\n",
      "2020-06-04 12:34:07,360 : INFO : worker thread finished; awaiting finish of 2 more threads\n",
      "2020-06-04 12:34:07,513 : INFO : worker thread finished; awaiting finish of 1 more threads\n",
      "2020-06-04 12:34:07,517 : INFO : worker thread finished; awaiting finish of 0 more threads\n",
      "2020-06-04 12:34:07,519 : INFO : EPOCH - 31 : training on 23411 raw words (11631 effective words) took 0.2s, 48287 effective words/s\n"
     ]
    },
    {
     "name": "stderr",
     "output_type": "stream",
     "text": [
      "2020-06-04 12:34:07,526 : INFO : worker thread finished; awaiting finish of 3 more threads\n",
      "2020-06-04 12:34:07,629 : INFO : worker thread finished; awaiting finish of 2 more threads\n",
      "2020-06-04 12:34:07,783 : INFO : worker thread finished; awaiting finish of 1 more threads\n",
      "2020-06-04 12:34:07,790 : INFO : worker thread finished; awaiting finish of 0 more threads\n",
      "2020-06-04 12:34:07,791 : INFO : EPOCH - 32 : training on 23411 raw words (11639 effective words) took 0.3s, 43491 effective words/s\n",
      "2020-06-04 12:34:07,799 : INFO : worker thread finished; awaiting finish of 3 more threads\n",
      "2020-06-04 12:34:07,884 : INFO : worker thread finished; awaiting finish of 2 more threads\n",
      "2020-06-04 12:34:08,032 : INFO : worker thread finished; awaiting finish of 1 more threads\n",
      "2020-06-04 12:34:08,038 : INFO : worker thread finished; awaiting finish of 0 more threads\n",
      "2020-06-04 12:34:08,039 : INFO : EPOCH - 33 : training on 23411 raw words (11615 effective words) took 0.2s, 47622 effective words/s\n",
      "2020-06-04 12:34:08,046 : INFO : worker thread finished; awaiting finish of 3 more threads\n",
      "2020-06-04 12:34:08,143 : INFO : worker thread finished; awaiting finish of 2 more threads\n",
      "2020-06-04 12:34:08,292 : INFO : worker thread finished; awaiting finish of 1 more threads\n",
      "2020-06-04 12:34:08,298 : INFO : worker thread finished; awaiting finish of 0 more threads\n",
      "2020-06-04 12:34:08,299 : INFO : EPOCH - 34 : training on 23411 raw words (11581 effective words) took 0.3s, 45311 effective words/s\n",
      "2020-06-04 12:34:08,306 : INFO : worker thread finished; awaiting finish of 3 more threads\n",
      "2020-06-04 12:34:08,392 : INFO : worker thread finished; awaiting finish of 2 more threads\n",
      "2020-06-04 12:34:08,533 : INFO : worker thread finished; awaiting finish of 1 more threads\n",
      "2020-06-04 12:34:08,534 : INFO : worker thread finished; awaiting finish of 0 more threads\n",
      "2020-06-04 12:34:08,535 : INFO : EPOCH - 35 : training on 23411 raw words (11728 effective words) took 0.2s, 50585 effective words/s\n",
      "2020-06-04 12:34:08,542 : INFO : worker thread finished; awaiting finish of 3 more threads\n",
      "2020-06-04 12:34:08,624 : INFO : worker thread finished; awaiting finish of 2 more threads\n",
      "2020-06-04 12:34:08,764 : INFO : worker thread finished; awaiting finish of 1 more threads\n",
      "2020-06-04 12:34:08,769 : INFO : worker thread finished; awaiting finish of 0 more threads\n",
      "2020-06-04 12:34:08,770 : INFO : EPOCH - 36 : training on 23411 raw words (11624 effective words) took 0.2s, 50428 effective words/s\n",
      "2020-06-04 12:34:08,777 : INFO : worker thread finished; awaiting finish of 3 more threads\n",
      "2020-06-04 12:34:08,870 : INFO : worker thread finished; awaiting finish of 2 more threads\n",
      "2020-06-04 12:34:09,012 : INFO : worker thread finished; awaiting finish of 1 more threads\n",
      "2020-06-04 12:34:09,018 : INFO : worker thread finished; awaiting finish of 0 more threads\n",
      "2020-06-04 12:34:09,019 : INFO : EPOCH - 37 : training on 23411 raw words (11670 effective words) took 0.2s, 47729 effective words/s\n",
      "2020-06-04 12:34:09,025 : INFO : worker thread finished; awaiting finish of 3 more threads\n",
      "2020-06-04 12:34:09,104 : INFO : worker thread finished; awaiting finish of 2 more threads\n",
      "2020-06-04 12:34:09,252 : INFO : worker thread finished; awaiting finish of 1 more threads\n",
      "2020-06-04 12:34:09,252 : INFO : worker thread finished; awaiting finish of 0 more threads\n",
      "2020-06-04 12:34:09,253 : INFO : EPOCH - 38 : training on 23411 raw words (11648 effective words) took 0.2s, 50488 effective words/s\n",
      "2020-06-04 12:34:09,261 : INFO : worker thread finished; awaiting finish of 3 more threads\n",
      "2020-06-04 12:34:09,354 : INFO : worker thread finished; awaiting finish of 2 more threads\n",
      "2020-06-04 12:34:09,516 : INFO : worker thread finished; awaiting finish of 1 more threads\n",
      "2020-06-04 12:34:09,520 : INFO : worker thread finished; awaiting finish of 0 more threads\n",
      "2020-06-04 12:34:09,521 : INFO : EPOCH - 39 : training on 23411 raw words (11599 effective words) took 0.3s, 44009 effective words/s\n",
      "2020-06-04 12:34:09,528 : INFO : worker thread finished; awaiting finish of 3 more threads\n",
      "2020-06-04 12:34:09,618 : INFO : worker thread finished; awaiting finish of 2 more threads\n",
      "2020-06-04 12:34:09,787 : INFO : worker thread finished; awaiting finish of 1 more threads\n",
      "2020-06-04 12:34:09,797 : INFO : worker thread finished; awaiting finish of 0 more threads\n",
      "2020-06-04 12:34:09,798 : INFO : EPOCH - 40 : training on 23411 raw words (11646 effective words) took 0.3s, 42760 effective words/s\n",
      "2020-06-04 12:34:09,804 : INFO : worker thread finished; awaiting finish of 3 more threads\n",
      "2020-06-04 12:34:09,882 : INFO : worker thread finished; awaiting finish of 2 more threads\n",
      "2020-06-04 12:34:10,033 : INFO : worker thread finished; awaiting finish of 1 more threads\n",
      "2020-06-04 12:34:10,035 : INFO : worker thread finished; awaiting finish of 0 more threads\n",
      "2020-06-04 12:34:10,036 : INFO : EPOCH - 41 : training on 23411 raw words (11690 effective words) took 0.2s, 49878 effective words/s\n",
      "2020-06-04 12:34:10,042 : INFO : worker thread finished; awaiting finish of 3 more threads\n",
      "2020-06-04 12:34:10,126 : INFO : worker thread finished; awaiting finish of 2 more threads\n",
      "2020-06-04 12:34:10,280 : INFO : worker thread finished; awaiting finish of 1 more threads\n",
      "2020-06-04 12:34:10,290 : INFO : worker thread finished; awaiting finish of 0 more threads\n",
      "2020-06-04 12:34:10,291 : INFO : EPOCH - 42 : training on 23411 raw words (11693 effective words) took 0.3s, 46644 effective words/s\n",
      "2020-06-04 12:34:10,297 : INFO : worker thread finished; awaiting finish of 3 more threads\n",
      "2020-06-04 12:34:10,377 : INFO : worker thread finished; awaiting finish of 2 more threads\n",
      "2020-06-04 12:34:10,524 : INFO : worker thread finished; awaiting finish of 1 more threads\n",
      "2020-06-04 12:34:10,525 : INFO : worker thread finished; awaiting finish of 0 more threads\n",
      "2020-06-04 12:34:10,526 : INFO : EPOCH - 43 : training on 23411 raw words (11636 effective words) took 0.2s, 50311 effective words/s\n",
      "2020-06-04 12:34:10,533 : INFO : worker thread finished; awaiting finish of 3 more threads\n",
      "2020-06-04 12:34:10,615 : INFO : worker thread finished; awaiting finish of 2 more threads\n",
      "2020-06-04 12:34:10,767 : INFO : worker thread finished; awaiting finish of 1 more threads\n",
      "2020-06-04 12:34:10,770 : INFO : worker thread finished; awaiting finish of 0 more threads\n",
      "2020-06-04 12:34:10,771 : INFO : EPOCH - 44 : training on 23411 raw words (11507 effective words) took 0.2s, 47815 effective words/s\n",
      "2020-06-04 12:34:10,777 : INFO : worker thread finished; awaiting finish of 3 more threads\n",
      "2020-06-04 12:34:10,862 : INFO : worker thread finished; awaiting finish of 2 more threads\n",
      "2020-06-04 12:34:11,008 : INFO : worker thread finished; awaiting finish of 1 more threads\n",
      "2020-06-04 12:34:11,016 : INFO : worker thread finished; awaiting finish of 0 more threads\n",
      "2020-06-04 12:34:11,017 : INFO : EPOCH - 45 : training on 23411 raw words (11673 effective words) took 0.2s, 48078 effective words/s\n",
      "2020-06-04 12:34:11,024 : INFO : worker thread finished; awaiting finish of 3 more threads\n",
      "2020-06-04 12:34:11,103 : INFO : worker thread finished; awaiting finish of 2 more threads\n",
      "2020-06-04 12:34:11,246 : INFO : worker thread finished; awaiting finish of 1 more threads\n",
      "2020-06-04 12:34:11,257 : INFO : worker thread finished; awaiting finish of 0 more threads\n",
      "2020-06-04 12:34:11,258 : INFO : EPOCH - 46 : training on 23411 raw words (11563 effective words) took 0.2s, 48835 effective words/s\n",
      "2020-06-04 12:34:11,264 : INFO : worker thread finished; awaiting finish of 3 more threads\n",
      "2020-06-04 12:34:11,350 : INFO : worker thread finished; awaiting finish of 2 more threads\n",
      "2020-06-04 12:34:11,492 : INFO : worker thread finished; awaiting finish of 1 more threads\n",
      "2020-06-04 12:34:11,496 : INFO : worker thread finished; awaiting finish of 0 more threads\n",
      "2020-06-04 12:34:11,497 : INFO : EPOCH - 47 : training on 23411 raw words (11590 effective words) took 0.2s, 49211 effective words/s\n",
      "2020-06-04 12:34:11,504 : INFO : worker thread finished; awaiting finish of 3 more threads\n",
      "2020-06-04 12:34:11,585 : INFO : worker thread finished; awaiting finish of 2 more threads\n",
      "2020-06-04 12:34:11,719 : INFO : worker thread finished; awaiting finish of 1 more threads\n"
     ]
    },
    {
     "name": "stderr",
     "output_type": "stream",
     "text": [
      "2020-06-04 12:34:11,726 : INFO : worker thread finished; awaiting finish of 0 more threads\n",
      "2020-06-04 12:34:11,727 : INFO : EPOCH - 48 : training on 23411 raw words (11636 effective words) took 0.2s, 51570 effective words/s\n",
      "2020-06-04 12:34:11,738 : INFO : worker thread finished; awaiting finish of 3 more threads\n",
      "2020-06-04 12:34:11,825 : INFO : worker thread finished; awaiting finish of 2 more threads\n",
      "2020-06-04 12:34:11,969 : INFO : worker thread finished; awaiting finish of 1 more threads\n",
      "2020-06-04 12:34:11,974 : INFO : worker thread finished; awaiting finish of 0 more threads\n",
      "2020-06-04 12:34:11,975 : INFO : EPOCH - 49 : training on 23411 raw words (11619 effective words) took 0.2s, 48628 effective words/s\n",
      "2020-06-04 12:34:11,988 : INFO : worker thread finished; awaiting finish of 3 more threads\n",
      "2020-06-04 12:34:12,075 : INFO : worker thread finished; awaiting finish of 2 more threads\n",
      "2020-06-04 12:34:12,232 : INFO : worker thread finished; awaiting finish of 1 more threads\n",
      "2020-06-04 12:34:12,238 : INFO : worker thread finished; awaiting finish of 0 more threads\n",
      "2020-06-04 12:34:12,239 : INFO : EPOCH - 50 : training on 23411 raw words (11616 effective words) took 0.3s, 44649 effective words/s\n",
      "2020-06-04 12:34:12,240 : INFO : training on a 1170550 raw words (581433 effective words) took 12.3s, 47332 effective words/s\n"
     ]
    }
   ],
   "source": [
    "# Create Word2Vec\n",
    "logging.basicConfig(format='%(asctime)s : %(levelname)s : %(message)s', level=logging.INFO)\n",
    "word2vec = Word2Vec(sentences=tokenized_corpus,\n",
    "                    size=vector_size, \n",
    "                    window=window_size, \n",
    "                    negative=20,\n",
    "                    iter=50,\n",
    "                    seed=1000,\n",
    "                    workers=multiprocessing.cpu_count(),\n",
    "                    sg=1)"
   ]
  },
  {
   "cell_type": "code",
   "execution_count": 9,
   "metadata": {},
   "outputs": [],
   "source": [
    "# Copy word vectors and delete Word2Vec model and original corpus to save memory\n",
    "X_vecs = word2vec.wv\n",
    "del word2vec\n",
    "del corpus"
   ]
  },
  {
   "cell_type": "code",
   "execution_count": 10,
   "metadata": {},
   "outputs": [
    {
     "name": "stdout",
     "output_type": "stream",
     "text": [
      "Average tweet length: 23.5523138832998\n",
      "Max tweet length: 201\n"
     ]
    }
   ],
   "source": [
    "# Train subset size (0 < size < len(tokenized_corpus))\n",
    "train_size = math.floor(0.8 * len(tokenized_corpus))\n",
    "\n",
    "# Test subset size (0 < size < len(tokenized_corpus) - train_size)\n",
    "test_size = len(tokenized_corpus) - train_size\n",
    "\n",
    "# Compute average and max tweet length\n",
    "avg_length = 0.0\n",
    "max_length = 0\n",
    "\n",
    "for tweet in tokenized_corpus:\n",
    "    if len(tweet) > max_length:\n",
    "        max_length = len(tweet)\n",
    "    avg_length += float(len(tweet))\n",
    "    \n",
    "print('Average tweet length: {}'.format(avg_length / float(len(tokenized_corpus))))\n",
    "print('Max tweet length: {}'.format(max_length))"
   ]
  },
  {
   "cell_type": "code",
   "execution_count": 11,
   "metadata": {},
   "outputs": [],
   "source": [
    "# Tweet max length (number of tokens)\n",
    "max_tweet_length = max_length"
   ]
  },
  {
   "cell_type": "code",
   "execution_count": 12,
   "metadata": {},
   "outputs": [],
   "source": [
    "# Create train and test sets\n",
    "# Generate random indexes\n",
    "indexes = set(np.random.choice(len(tokenized_corpus), train_size + test_size, replace=False))\n",
    "\n",
    "X_train = np.zeros((train_size, max_tweet_length, vector_size), dtype=K.floatx())\n",
    "Y_train = np.zeros((train_size, 2), dtype=np.int32)\n",
    "X_test = np.zeros((test_size, max_tweet_length, vector_size), dtype=K.floatx())\n",
    "Y_test = np.zeros((test_size, 2), dtype=np.int32)\n",
    "\n",
    "for i, index in enumerate(indexes):\n",
    "    for t, token in enumerate(tokenized_corpus[index]):\n",
    "        if t >= max_tweet_length:\n",
    "            break\n",
    "        \n",
    "        if token not in X_vecs:\n",
    "            continue\n",
    "    \n",
    "        if i < train_size:\n",
    "            X_train[i, t, :] = X_vecs[token]\n",
    "        else:\n",
    "            X_test[i - train_size, t, :] = X_vecs[token]\n",
    "            \n",
    "    if i < train_size:\n",
    "        Y_train[i, :] = [1.0, 0.0] if labels[index] == 0 else [0.0, 1.0]\n",
    "    else:\n",
    "        Y_test[i - train_size, :] = [1.0, 0.0] if labels[index] == 0 else [0.0, 1.0] "
   ]
  },
  {
   "cell_type": "code",
   "execution_count": 13,
   "metadata": {
    "scrolled": false
   },
   "outputs": [
    {
     "name": "stdout",
     "output_type": "stream",
     "text": [
      "Model: \"sequential\"\n",
      "_________________________________________________________________\n",
      "Layer (type)                 Output Shape              Param #   \n",
      "=================================================================\n",
      "dense (Dense)                (None, 201, 64)           19264     \n",
      "_________________________________________________________________\n",
      "gru (GRU)                    (None, 201, 128)          74496     \n",
      "_________________________________________________________________\n",
      "flatten (Flatten)            (None, 25728)             0         \n",
      "_________________________________________________________________\n",
      "dense_1 (Dense)              (None, 2)                 51458     \n",
      "=================================================================\n",
      "Total params: 145,218\n",
      "Trainable params: 145,218\n",
      "Non-trainable params: 0\n",
      "_________________________________________________________________\n"
     ]
    }
   ],
   "source": [
    "batch_size = 16\n",
    "nb_epochs = 20\n",
    "\n",
    "model = tf.keras.Sequential()\n",
    "model.add(tf.keras.layers.Dense(64, input_shape=(max_tweet_length, vector_size)))\n",
    "model.add(tf.keras.layers.GRU(128, return_sequences='true'))\n",
    "model.add(tf.keras.layers.Flatten())\n",
    "model.add(tf.keras.layers.Dense(2, activation='softmax'))\n",
    "\n",
    "model.summary()"
   ]
  },
  {
   "cell_type": "code",
   "execution_count": 14,
   "metadata": {},
   "outputs": [],
   "source": [
    "# Compile the model\n",
    "model.compile(loss=tf.keras.losses.CategoricalCrossentropy(from_logits=True), \n",
    "              optimizer=tf.keras.optimizers.Adam(learning_rate=0.0001),\n",
    "              metrics=['accuracy'])"
   ]
  },
  {
   "cell_type": "code",
   "execution_count": 15,
   "metadata": {
    "scrolled": false
   },
   "outputs": [
    {
     "name": "stdout",
     "output_type": "stream",
     "text": [
      "Train on 795 samples, validate on 199 samples\n",
      "Epoch 1/20\n",
      "795/795 [==============================] - 13s 17ms/sample - loss: 0.6451 - accuracy: 0.6289 - val_loss: 0.5923 - val_accuracy: 0.6633\n",
      "Epoch 2/20\n",
      "795/795 [==============================] - 10s 13ms/sample - loss: 0.6101 - accuracy: 0.6440 - val_loss: 0.5702 - val_accuracy: 0.6583\n",
      "Epoch 3/20\n",
      "795/795 [==============================] - 11s 14ms/sample - loss: 0.5883 - accuracy: 0.7145 - val_loss: 0.5473 - val_accuracy: 0.6985\n",
      "Epoch 4/20\n",
      "795/795 [==============================] - 10s 12ms/sample - loss: 0.5496 - accuracy: 0.7610 - val_loss: 0.4965 - val_accuracy: 0.8593\n",
      "Epoch 5/20\n",
      "795/795 [==============================] - 10s 12ms/sample - loss: 0.4785 - accuracy: 0.8340 - val_loss: 0.4546 - val_accuracy: 0.8643\n",
      "Epoch 6/20\n",
      "795/795 [==============================] - 11s 14ms/sample - loss: 0.4415 - accuracy: 0.8667 - val_loss: 0.4517 - val_accuracy: 0.8643\n",
      "Epoch 7/20\n",
      "795/795 [==============================] - 11s 14ms/sample - loss: 0.4301 - accuracy: 0.8843 - val_loss: 0.4605 - val_accuracy: 0.8392\n",
      "Epoch 8/20\n",
      "795/795 [==============================] - 10s 12ms/sample - loss: 0.4227 - accuracy: 0.8881 - val_loss: 0.4459 - val_accuracy: 0.8643\n",
      "Epoch 9/20\n",
      "795/795 [==============================] - 9s 12ms/sample - loss: 0.4258 - accuracy: 0.8805 - val_loss: 0.4586 - val_accuracy: 0.8392\n",
      "Epoch 10/20\n",
      "795/795 [==============================] - 9s 12ms/sample - loss: 0.4238 - accuracy: 0.8843 - val_loss: 0.4426 - val_accuracy: 0.8693\n",
      "Epoch 11/20\n",
      "795/795 [==============================] - 9s 11ms/sample - loss: 0.4145 - accuracy: 0.8969 - val_loss: 0.4374 - val_accuracy: 0.8744\n",
      "Epoch 12/20\n",
      "795/795 [==============================] - 9s 11ms/sample - loss: 0.4057 - accuracy: 0.9094 - val_loss: 0.4435 - val_accuracy: 0.8543\n",
      "Epoch 13/20\n",
      "795/795 [==============================] - 9s 11ms/sample - loss: 0.3993 - accuracy: 0.9157 - val_loss: 0.4266 - val_accuracy: 0.8894\n",
      "Epoch 14/20\n",
      "795/795 [==============================] - 9s 12ms/sample - loss: 0.3944 - accuracy: 0.9119 - val_loss: 0.4292 - val_accuracy: 0.8844\n",
      "Epoch 15/20\n",
      "795/795 [==============================] - 10s 13ms/sample - loss: 0.3988 - accuracy: 0.9107 - val_loss: 0.4612 - val_accuracy: 0.8392\n",
      "Epoch 16/20\n",
      "795/795 [==============================] - 9s 12ms/sample - loss: 0.4181 - accuracy: 0.8943 - val_loss: 0.4340 - val_accuracy: 0.8693\n",
      "Epoch 17/20\n",
      "795/795 [==============================] - 9s 12ms/sample - loss: 0.3989 - accuracy: 0.9132 - val_loss: 0.4389 - val_accuracy: 0.8693\n",
      "Epoch 18/20\n",
      "795/795 [==============================] - 9s 12ms/sample - loss: 0.3915 - accuracy: 0.9245 - val_loss: 0.4317 - val_accuracy: 0.8693\n",
      "Epoch 19/20\n",
      "795/795 [==============================] - 9s 12ms/sample - loss: 0.3868 - accuracy: 0.9270 - val_loss: 0.4341 - val_accuracy: 0.8693\n",
      "Epoch 20/20\n",
      "795/795 [==============================] - 9s 12ms/sample - loss: 0.3960 - accuracy: 0.9157 - val_loss: 0.4422 - val_accuracy: 0.8693\n"
     ]
    }
   ],
   "source": [
    "# Fit the model\n",
    "history = model.fit(X_train, Y_train,\n",
    "          batch_size=batch_size,\n",
    "          shuffle=True,\n",
    "          epochs=nb_epochs,\n",
    "          validation_data=(X_test, Y_test))"
   ]
  },
  {
   "cell_type": "code",
   "execution_count": 16,
   "metadata": {},
   "outputs": [
    {
     "name": "stdout",
     "output_type": "stream",
     "text": [
      "199/199 [==============================] - 0s 2ms/sample - loss: 0.4422 - accuracy: 0.8693\n",
      "Loss:  0.442\n",
      "Accuracy:  0.869\n"
     ]
    }
   ],
   "source": [
    "loss, accuracy = model.evaluate(X_test, Y_test)\n",
    "\n",
    "print(\"Loss: \", \"%.3f\" % loss)\n",
    "print(\"Accuracy: \", \"%.3f\" % accuracy)"
   ]
  },
  {
   "cell_type": "markdown",
   "metadata": {},
   "source": [
    "# Graph"
   ]
  },
  {
   "cell_type": "code",
   "execution_count": 17,
   "metadata": {},
   "outputs": [
    {
     "data": {
      "text/plain": [
       "dict_keys(['loss', 'accuracy', 'val_loss', 'val_accuracy'])"
      ]
     },
     "execution_count": 17,
     "metadata": {},
     "output_type": "execute_result"
    }
   ],
   "source": [
    "history_dict = history.history\n",
    "history_dict.keys()"
   ]
  },
  {
   "cell_type": "code",
   "execution_count": 18,
   "metadata": {},
   "outputs": [
    {
     "data": {
      "image/png": "[encoded data removed]",
      "text/plain": [
       "<Figure size 432x288 with 1 Axes>"
      ]
     },
     "metadata": {
      "needs_background": "light"
     },
     "output_type": "display_data"
    }
   ],
   "source": [
    "acc = history_dict['accuracy']\n",
    "val_acc = history_dict['val_accuracy']\n",
    "loss = history_dict['loss']\n",
    "val_loss = history_dict['val_loss']\n",
    "\n",
    "epochs = range(1, len(acc) + 1)\n",
    "\n",
    "# \"bo\" is for \"blue dot\"\n",
    "plt.plot(epochs, loss, 'bo', label='Training loss')\n",
    "# b is for \"solid blue line\"\n",
    "plt.plot(epochs, val_loss, 'b', label='Validation loss')\n",
    "plt.title('Training and validation loss')\n",
    "plt.xlabel('Epochs')\n",
    "plt.ylabel('Loss')\n",
    "plt.legend()\n",
    "\n",
    "plt.show()"
   ]
  },
  {
   "cell_type": "code",
   "execution_count": 19,
   "metadata": {},
   "outputs": [
    {
     "data": {
      "image/png": "[encoded data removed]",
      "text/plain": [
       "<Figure size 432x288 with 1 Axes>"
      ]
     },
     "metadata": {
      "needs_background": "light"
     },
     "output_type": "display_data"
    }
   ],
   "source": [
    "plt.plot(history.history['loss'], label='Training loss')\n",
    "plt.plot(history.history['val_loss'], label='Validation loss')\n",
    "plt.title('Training and validation loss')\n",
    "plt.xlabel('Epochs')\n",
    "plt.ylabel('Loss')\n",
    "plt.legend();\n",
    "plt.show()"
   ]
  },
  {
   "cell_type": "code",
   "execution_count": 20,
   "metadata": {},
   "outputs": [
    {
     "data": {
      "image/png": "[encoded data removed]",
      "text/plain": [
       "<Figure size 432x288 with 1 Axes>"
      ]
     },
     "metadata": {
      "needs_background": "light"
     },
     "output_type": "display_data"
    }
   ],
   "source": [
    "plt.clf()   # clear figure\n",
    "\n",
    "plt.plot(epochs, acc, 'bo', label='Training acc')\n",
    "plt.plot(epochs, val_acc, 'b', label='Validation acc')\n",
    "plt.title('Training and validation accuracy')\n",
    "plt.xlabel('Epochs')\n",
    "plt.ylabel('Accuracy')\n",
    "plt.legend(loc='lower right')\n",
    "\n",
    "plt.show()"
   ]
  },
  {
   "cell_type": "code",
   "execution_count": 21,
   "metadata": {},
   "outputs": [
    {
     "data": {
      "image/png": "[encoded data removed]",
      "text/plain": [
       "<Figure size 432x288 with 1 Axes>"
      ]
     },
     "metadata": {
      "needs_background": "light"
     },
     "output_type": "display_data"
    }
   ],
   "source": [
    "plt.plot(history.history['accuracy'], label='Training accuracy')\n",
    "plt.plot(history.history['val_accuracy'], label='Validation accuracy')\n",
    "plt.title('Training and validation accuracy')\n",
    "plt.xlabel('Epochs')\n",
    "plt.ylabel('Accuracy')\n",
    "plt.legend(loc='lower right')\n",
    "plt.show()"
   ]
  }
 ],
 "metadata": {
  "kernelspec": {
   "display_name": "Python 3",
   "language": "python",
   "name": "python3"
  },
  "language_info": {
   "codemirror_mode": {
    "name": "ipython",
    "version": 3
   },
   "file_extension": ".py",
   "mimetype": "text/x-python",
   "name": "python",
   "nbconvert_exporter": "python",
   "pygments_lexer": "ipython3",
   "version": "3.7.4"
  }
 },
 "nbformat": 4,
 "nbformat_minor": 2
}
